{
  "cells": [
    {
      "cell_type": "markdown",
      "id": "53d3dce2",
      "metadata": {
        "id": "53d3dce2"
      },
      "source": [
        "# Projeto Nanodegree"
      ]
    },
    {
      "cell_type": "markdown",
      "id": "83881d4b",
      "metadata": {
        "id": "83881d4b"
      },
      "source": [
        "## Alunos:\n",
        "- **Bruno Pasquetti**\n",
        "- **Gabriel Brocco de Oliveira**\n",
        "- **Pedro Henrique de Bortoli**\n",
        "- **Rafael Augusto Klein**\n",
        "\n",
        "---"
      ]
    },
    {
      "cell_type": "markdown",
      "id": "a529a17d",
      "metadata": {},
      "source": [
        "## Sumário do Projeto: Previsão de Evasão de Alunos\n",
        "\n",
        "### 1. Introdução e Objetivos\n",
        "#### 1.1. Contexto do Problema\n",
        "#### 1.2. Objetivos da Análise\n",
        "- Análise Exploratória\n",
        "- Engenharia de Features\n",
        "- Modelagem Preditiva\n",
        "- Validação\n",
        "#### 1.3. Dicionário de Variáveis\n",
        "- **`ds_`**: Colunas categóricas (descritivas).\n",
        "- **`ts_`**: Colunas temporais (timestamps).\n",
        "- **`nr_`**: Colunas numéricas de contagem.\n",
        "- **`vl_`**: Colunas numéricas de valores ou médias.\n",
        "\n",
        "### 2. Configuração do Ambiente\n",
        "\n",
        "### 3. Carga e Análise Inicial dos Dados\n",
        "\n",
        "### 4. Limpeza e Pré-Processamento dos Dados\n",
        "#### 4.1. Remoção de Colunas e Registros Inválidos\n",
        "#### 4.2. Tratamento de Colunas Temporais e Categóricas\n",
        "#### 4.3. Tratamento de Valores Ausentes (Nulos)\n",
        "- Remoção de colunas\n",
        "- Preenchimento com zero\n",
        "- Preenchimento com a mediana\n",
        "\n",
        "### 5. Análise Exploratória de Dados (EDA)\n",
        "#### 5.1. Análise de Engajamento por Cidade\n",
        "#### 5.2. Distribuição do Desempenho Geral dos Alunos\n",
        "#### 5.3. Análise de Inatividade\n",
        "\n",
        "### 6. Engenharia e Seleção de Features\n",
        "#### 6.1. Criação da Variável `evadiu`\n",
        "#### 6.2. Classificação de Perfis de Risco\n",
        "#### 6.3. Preparação dos Dados para Modelagem\n",
        "\n",
        "### 7. Modelagem\n",
        "#### 7.1. Regressão Logística\n",
        "#### 7.2. Random Forest\n",
        "#### 7.3. Rede Neural\n",
        "\n",
        "### 8. Validação e Comparação dos Modelos\n",
        "#### 8.1. Validação Cruzada\n",
        "#### 8.2. Matrizes de Confusão\n",
        "\n",
        "### 9. Avaliação Final no Conjunto de Teste Real\n",
        "#### 9.1. Preparação dos Dados de Teste\n",
        "#### 9.2. Performance do Modelo Final\n",
        "#### 9.3. Curvas ROC e Precisão vs. Recall\n",
        "#### 9.4. Análise da Proporção de Evasores\n",
        "\n",
        "---"
      ]
    },
    {
      "cell_type": "markdown",
      "id": "55bc3e39",
      "metadata": {
        "id": "55bc3e39"
      },
      "source": [
        "## 1. Introdução E Objetivos"
      ]
    },
    {
      "cell_type": "markdown",
      "id": "882a4e3a",
      "metadata": {
        "id": "882a4e3a"
      },
      "source": [
        "### 1.1 Contexto do Problema\n",
        "A evasão de alunos é um dos maiores desafios para plataformas de ensino online. Identificar estudantes em risco de abandonar um curso permite que a instituição tome ações proativas, como oferecer suporte personalizado, ajustar o conteúdo ou criar campanhas de reengajamento.\n",
        "\n",
        "Este projeto foca em analisar dados de interação de alunos em um curso online síncrono da PensComp para construir um modelo preditivo de evasão."
      ]
    },
    {
      "cell_type": "markdown",
      "id": "cb9b35c3",
      "metadata": {
        "id": "cb9b35c3"
      },
      "source": [
        "### 1.2 Objetivos da Análise\n",
        "- **1.** **Análise Exploratória**: Entender o comportamento dos alunos, identificando padrões de uso e engajamento.\n",
        "- **2.** **Engenharia de Features**: Criar variáveis que ajudem a identificar o risco de evasão, como um indicador de \"evadiu\" e perfis de risco.\n",
        "- **3.** **Modelagem Preditiva**: Treinar e avaliar diferentes modelos de Machine Learning (Regressão Logística, Random Forest e Redes Neurais) para prever a probabilidade de um aluno evadir.\n",
        "- **4.** **Validação**: Testar o modelo final em um conjunto de dados real e não visto para avaliar sua performance em um cenário prático."
      ]
    },
    {
      "cell_type": "markdown",
      "id": "c5e825c9",
      "metadata": {
        "id": "c5e825c9"
      },
      "source": [
        "### 1.3 Dicionário de Variáveis"
      ]
    },
    {
      "cell_type": "markdown",
      "id": "b36745d6",
      "metadata": {
        "id": "b36745d6"
      },
      "source": [
        "O conjunto de dados contém informações sobre a atividade e o desempenho dos alunos. As colunas são agrupadas por prefixos:\n",
        "\n",
        "- **ds_***: Colunas categóricas (descritivas).\n",
        "- **ts_***: Colunas temporais (timestamps).\n",
        "- **nr_***: Colunas numéricas de contagem.\n",
        "- **vl_***: Colunas numéricas de valores ou médias."
      ]
    },
    {
      "cell_type": "markdown",
      "id": "4860e093",
      "metadata": {
        "id": "4860e093"
      },
      "source": [
        "## 2. Configuração do Ambiente"
      ]
    },
    {
      "cell_type": "markdown",
      "id": "ae9ba9df",
      "metadata": {
        "id": "ae9ba9df"
      },
      "source": [
        "Nesta seção, importamos todas as bibliotecas necessárias para a análise, pré-processamento e modelagem"
      ]
    },
    {
      "cell_type": "code",
      "execution_count": 235,
      "id": "44290807",
      "metadata": {
        "colab": {
          "base_uri": "https://localhost:8080/"
        },
        "id": "44290807",
        "outputId": "9dac7ba4-9916-4c26-9605-ae16d8117eca"
      },
      "outputs": [
        {
          "name": "stdout",
          "output_type": "stream",
          "text": [
            "Requirement already satisfied: unidecode in /usr/local/lib/python3.11/dist-packages (1.4.0)\n"
          ]
        }
      ],
      "source": [
        "# Instalação de biblioteca para tratamento de strings (acentos)\n",
        "!pip install unidecode\n",
        "\n",
        "# Bibliotecas para manipulação e análise de dados\n",
        "import pandas as pd\n",
        "import numpy as np\n",
        "import unidecode\n",
        "\n",
        "# Bibliotecas para visualização de dados\n",
        "import matplotlib.pyplot as plt\n",
        "import seaborn as sns\n",
        "\n",
        "# Bibliotecas de Machine Learning e pré-processamento\n",
        "from sklearn.model_selection import train_test_split, cross_val_score, StratifiedKFold\n",
        "from sklearn.preprocessing import StandardScaler\n",
        "from sklearn.linear_model import LogisticRegression\n",
        "from sklearn.ensemble import RandomForestClassifier\n",
        "from sklearn.metrics import classification_report, confusion_matrix, roc_curve, roc_auc_score, precision_recall_curve\n",
        "\n",
        "# Bibliotecas para Redes Neurais com TensorFlow/Keras\n",
        "from tensorflow.keras.models import Sequential\n",
        "from tensorflow.keras.layers import Dense, Dropout\n",
        "from tensorflow.keras.optimizers import Adam\n",
        "from tensorflow.keras.callbacks import EarlyStopping\n",
        "\n",
        "# Configurações de visualização\n",
        "sns.set_style(\"whitegrid\")\n",
        "%matplotlib inline"
      ]
    },
    {
      "cell_type": "markdown",
      "id": "87f244a7",
      "metadata": {
        "id": "87f244a7"
      },
      "source": [
        "## 3. Carga e Análise Inicial dos Dados"
      ]
    },
    {
      "cell_type": "markdown",
      "id": "d32af079",
      "metadata": {
        "id": "d32af079"
      },
      "source": [
        "Carregamos os dados de treino e realizamos uma verificação inicial para entender sua estrutura, tipos de dados e a presença de valores ausentes."
      ]
    },
    {
      "cell_type": "code",
      "execution_count": 236,
      "id": "2c65a767",
      "metadata": {
        "id": "2c65a767"
      },
      "outputs": [],
      "source": [
        "# Carregamento do dataset de treino\n",
        "df = pd.read_csv('dados_projeto_evasao_treino - Copia.csv')"
      ]
    },
    {
      "cell_type": "code",
      "execution_count": 237,
      "id": "34ac8ac0",
      "metadata": {
        "colab": {
          "base_uri": "https://localhost:8080/"
        },
        "id": "34ac8ac0",
        "outputId": "52141cb7-2ebc-45b3-f223-99dee6292011"
      },
      "outputs": [
        {
          "name": "stdout",
          "output_type": "stream",
          "text": [
            "<class 'pandas.core.frame.DataFrame'>\n",
            "RangeIndex: 400 entries, 0 to 399\n",
            "Data columns (total 37 columns):\n",
            " #   Column                                Non-Null Count  Dtype  \n",
            "---  ------                                --------------  -----  \n",
            " 0   Unnamed: 0                            400 non-null    int64  \n",
            " 1   ds_cidade_usuario                     346 non-null    object \n",
            " 2   ts_primeiro_acesso                    400 non-null    int64  \n",
            " 3   ts_ultimo_acesso                      400 non-null    int64  \n",
            " 4   nr_dias_desde_primeiro_acesso         400 non-null    int64  \n",
            " 5   nr_dias_desde_ultimo_acesso           400 non-null    int64  \n",
            " 6   nr_atividades_sinalizadas             400 non-null    int64  \n",
            " 7   nr_atividades_mapeadas                400 non-null    int64  \n",
            " 8   nr_discussoes_forum_postadas          400 non-null    int64  \n",
            " 9   nr_questionarios_abandonados          400 non-null    int64  \n",
            " 10  nr_questionarios_finalizados          400 non-null    int64  \n",
            " 11  vl_medio_tempo_questionario           111 non-null    float64\n",
            " 12  vl_medio_tempo_questionario_avaliado  107 non-null    float64\n",
            " 13  vl_desempenho_questionario            27 non-null     float64\n",
            " 14  nr_intervalos_uso                     209 non-null    float64\n",
            " 15  nr_dias_uso                           400 non-null    int64  \n",
            " 16  vl_medio_atividade_diaria             209 non-null    float64\n",
            " 17  vl_engajamento_usuario_por_intervalo  29 non-null     float64\n",
            " 18  vl_engajamento_usuario_intradia       29 non-null     float64\n",
            " 19  nr_interacoes_usuario                 400 non-null    int64  \n",
            " 20  nr_dias_engajamento_discussao         400 non-null    int64  \n",
            " 21  nr_dias_engajamento_questionario      400 non-null    int64  \n",
            " 22  nr_engajamento_discussao              400 non-null    int64  \n",
            " 23  nr_engajamento_questionario           400 non-null    int64  \n",
            " 24  nr_questoes_respondidas               400 non-null    int64  \n",
            " 25  nr_questoes_corretas                  400 non-null    int64  \n",
            " 26  nr_questoes_erradas                   400 non-null    int64  \n",
            " 27  nr_questoes_parciais                  400 non-null    int64  \n",
            " 28  vl_desempenho_usuario                 113 non-null    float64\n",
            " 29  vl_media_questoes_por_dia             61 non-null     float64\n",
            " 30  vl_engajamento_notas                  61 non-null     float64\n",
            " 31  nr_itens_avaliados                    400 non-null    int64  \n",
            " 32  nr_itens_nao_respondidos              400 non-null    int64  \n",
            " 33  vl_media_notas                        113 non-null    float64\n",
            " 34  nr_submissoes_codigo                  400 non-null    int64  \n",
            " 35  vl_media_submissoes_codigo            4 non-null      float64\n",
            " 36  vl_submissoes_por_dias_ativos         8 non-null      float64\n",
            "dtypes: float64(13), int64(23), object(1)\n",
            "memory usage: 115.8+ KB\n"
          ]
        }
      ],
      "source": [
        "# Verificando a estrutura e os tipos de dados do DataFrame\n",
        "df.shape\n",
        "df.info()"
      ]
    },
    {
      "cell_type": "code",
      "execution_count": 238,
      "id": "051bf858",
      "metadata": {
        "colab": {
          "base_uri": "https://localhost:8080/",
          "height": 273
        },
        "id": "051bf858",
        "outputId": "53b24936-d26c-423e-d14f-1486112d719e"
      },
      "outputs": [
        {
          "data": {
            "application/vnd.google.colaboratory.intrinsic+json": {
              "type": "dataframe",
              "variable_name": "df"
            },
            "text/html": [
              "\n",
              "  <div id=\"df-f1992c4d-6b05-4517-86c3-5e5402f80663\" class=\"colab-df-container\">\n",
              "    <div>\n",
              "<style scoped>\n",
              "    .dataframe tbody tr th:only-of-type {\n",
              "        vertical-align: middle;\n",
              "    }\n",
              "\n",
              "    .dataframe tbody tr th {\n",
              "        vertical-align: top;\n",
              "    }\n",
              "\n",
              "    .dataframe thead th {\n",
              "        text-align: right;\n",
              "    }\n",
              "</style>\n",
              "<table border=\"1\" class=\"dataframe\">\n",
              "  <thead>\n",
              "    <tr style=\"text-align: right;\">\n",
              "      <th></th>\n",
              "      <th>Unnamed: 0</th>\n",
              "      <th>ds_cidade_usuario</th>\n",
              "      <th>ts_primeiro_acesso</th>\n",
              "      <th>ts_ultimo_acesso</th>\n",
              "      <th>nr_dias_desde_primeiro_acesso</th>\n",
              "      <th>nr_dias_desde_ultimo_acesso</th>\n",
              "      <th>nr_atividades_sinalizadas</th>\n",
              "      <th>nr_atividades_mapeadas</th>\n",
              "      <th>nr_discussoes_forum_postadas</th>\n",
              "      <th>nr_questionarios_abandonados</th>\n",
              "      <th>...</th>\n",
              "      <th>nr_questoes_parciais</th>\n",
              "      <th>vl_desempenho_usuario</th>\n",
              "      <th>vl_media_questoes_por_dia</th>\n",
              "      <th>vl_engajamento_notas</th>\n",
              "      <th>nr_itens_avaliados</th>\n",
              "      <th>nr_itens_nao_respondidos</th>\n",
              "      <th>vl_media_notas</th>\n",
              "      <th>nr_submissoes_codigo</th>\n",
              "      <th>vl_media_submissoes_codigo</th>\n",
              "      <th>vl_submissoes_por_dias_ativos</th>\n",
              "    </tr>\n",
              "  </thead>\n",
              "  <tbody>\n",
              "    <tr>\n",
              "      <th>0</th>\n",
              "      <td>1</td>\n",
              "      <td>Campinas</td>\n",
              "      <td>0</td>\n",
              "      <td>0</td>\n",
              "      <td>19612</td>\n",
              "      <td>19612</td>\n",
              "      <td>0</td>\n",
              "      <td>0</td>\n",
              "      <td>0</td>\n",
              "      <td>0</td>\n",
              "      <td>...</td>\n",
              "      <td>0</td>\n",
              "      <td>NaN</td>\n",
              "      <td>NaN</td>\n",
              "      <td>NaN</td>\n",
              "      <td>0</td>\n",
              "      <td>0</td>\n",
              "      <td>NaN</td>\n",
              "      <td>0</td>\n",
              "      <td>NaN</td>\n",
              "      <td>NaN</td>\n",
              "    </tr>\n",
              "    <tr>\n",
              "      <th>1</th>\n",
              "      <td>3</td>\n",
              "      <td>Campinas</td>\n",
              "      <td>0</td>\n",
              "      <td>0</td>\n",
              "      <td>19612</td>\n",
              "      <td>19612</td>\n",
              "      <td>0</td>\n",
              "      <td>0</td>\n",
              "      <td>0</td>\n",
              "      <td>0</td>\n",
              "      <td>...</td>\n",
              "      <td>0</td>\n",
              "      <td>NaN</td>\n",
              "      <td>NaN</td>\n",
              "      <td>NaN</td>\n",
              "      <td>0</td>\n",
              "      <td>0</td>\n",
              "      <td>NaN</td>\n",
              "      <td>0</td>\n",
              "      <td>NaN</td>\n",
              "      <td>NaN</td>\n",
              "    </tr>\n",
              "    <tr>\n",
              "      <th>2</th>\n",
              "      <td>4</td>\n",
              "      <td>Campinas</td>\n",
              "      <td>0</td>\n",
              "      <td>0</td>\n",
              "      <td>19612</td>\n",
              "      <td>19612</td>\n",
              "      <td>0</td>\n",
              "      <td>0</td>\n",
              "      <td>0</td>\n",
              "      <td>0</td>\n",
              "      <td>...</td>\n",
              "      <td>0</td>\n",
              "      <td>NaN</td>\n",
              "      <td>NaN</td>\n",
              "      <td>NaN</td>\n",
              "      <td>0</td>\n",
              "      <td>0</td>\n",
              "      <td>NaN</td>\n",
              "      <td>0</td>\n",
              "      <td>NaN</td>\n",
              "      <td>NaN</td>\n",
              "    </tr>\n",
              "    <tr>\n",
              "      <th>3</th>\n",
              "      <td>5</td>\n",
              "      <td>NaN</td>\n",
              "      <td>1692744534</td>\n",
              "      <td>1693928454</td>\n",
              "      <td>20</td>\n",
              "      <td>6</td>\n",
              "      <td>0</td>\n",
              "      <td>4</td>\n",
              "      <td>0</td>\n",
              "      <td>0</td>\n",
              "      <td>...</td>\n",
              "      <td>0</td>\n",
              "      <td>1.0</td>\n",
              "      <td>NaN</td>\n",
              "      <td>NaN</td>\n",
              "      <td>1</td>\n",
              "      <td>62</td>\n",
              "      <td>1.0</td>\n",
              "      <td>0</td>\n",
              "      <td>NaN</td>\n",
              "      <td>NaN</td>\n",
              "    </tr>\n",
              "    <tr>\n",
              "      <th>4</th>\n",
              "      <td>6</td>\n",
              "      <td>Campinas</td>\n",
              "      <td>0</td>\n",
              "      <td>0</td>\n",
              "      <td>19612</td>\n",
              "      <td>19612</td>\n",
              "      <td>0</td>\n",
              "      <td>0</td>\n",
              "      <td>0</td>\n",
              "      <td>0</td>\n",
              "      <td>...</td>\n",
              "      <td>0</td>\n",
              "      <td>NaN</td>\n",
              "      <td>NaN</td>\n",
              "      <td>NaN</td>\n",
              "      <td>0</td>\n",
              "      <td>0</td>\n",
              "      <td>NaN</td>\n",
              "      <td>0</td>\n",
              "      <td>NaN</td>\n",
              "      <td>NaN</td>\n",
              "    </tr>\n",
              "  </tbody>\n",
              "</table>\n",
              "<p>5 rows × 37 columns</p>\n",
              "</div>\n",
              "    <div class=\"colab-df-buttons\">\n",
              "\n",
              "  <div class=\"colab-df-container\">\n",
              "    <button class=\"colab-df-convert\" onclick=\"convertToInteractive('df-f1992c4d-6b05-4517-86c3-5e5402f80663')\"\n",
              "            title=\"Convert this dataframe to an interactive table.\"\n",
              "            style=\"display:none;\">\n",
              "\n",
              "  <svg xmlns=\"http://www.w3.org/2000/svg\" height=\"24px\" viewBox=\"0 -960 960 960\">\n",
              "    <path d=\"M120-120v-720h720v720H120Zm60-500h600v-160H180v160Zm220 220h160v-160H400v160Zm0 220h160v-160H400v160ZM180-400h160v-160H180v160Zm440 0h160v-160H620v160ZM180-180h160v-160H180v160Zm440 0h160v-160H620v160Z\"/>\n",
              "  </svg>\n",
              "    </button>\n",
              "\n",
              "  <style>\n",
              "    .colab-df-container {\n",
              "      display:flex;\n",
              "      gap: 12px;\n",
              "    }\n",
              "\n",
              "    .colab-df-convert {\n",
              "      background-color: #E8F0FE;\n",
              "      border: none;\n",
              "      border-radius: 50%;\n",
              "      cursor: pointer;\n",
              "      display: none;\n",
              "      fill: #1967D2;\n",
              "      height: 32px;\n",
              "      padding: 0 0 0 0;\n",
              "      width: 32px;\n",
              "    }\n",
              "\n",
              "    .colab-df-convert:hover {\n",
              "      background-color: #E2EBFA;\n",
              "      box-shadow: 0px 1px 2px rgba(60, 64, 67, 0.3), 0px 1px 3px 1px rgba(60, 64, 67, 0.15);\n",
              "      fill: #174EA6;\n",
              "    }\n",
              "\n",
              "    .colab-df-buttons div {\n",
              "      margin-bottom: 4px;\n",
              "    }\n",
              "\n",
              "    [theme=dark] .colab-df-convert {\n",
              "      background-color: #3B4455;\n",
              "      fill: #D2E3FC;\n",
              "    }\n",
              "\n",
              "    [theme=dark] .colab-df-convert:hover {\n",
              "      background-color: #434B5C;\n",
              "      box-shadow: 0px 1px 3px 1px rgba(0, 0, 0, 0.15);\n",
              "      filter: drop-shadow(0px 1px 2px rgba(0, 0, 0, 0.3));\n",
              "      fill: #FFFFFF;\n",
              "    }\n",
              "  </style>\n",
              "\n",
              "    <script>\n",
              "      const buttonEl =\n",
              "        document.querySelector('#df-f1992c4d-6b05-4517-86c3-5e5402f80663 button.colab-df-convert');\n",
              "      buttonEl.style.display =\n",
              "        google.colab.kernel.accessAllowed ? 'block' : 'none';\n",
              "\n",
              "      async function convertToInteractive(key) {\n",
              "        const element = document.querySelector('#df-f1992c4d-6b05-4517-86c3-5e5402f80663');\n",
              "        const dataTable =\n",
              "          await google.colab.kernel.invokeFunction('convertToInteractive',\n",
              "                                                    [key], {});\n",
              "        if (!dataTable) return;\n",
              "\n",
              "        const docLinkHtml = 'Like what you see? Visit the ' +\n",
              "          '<a target=\"_blank\" href=https://colab.research.google.com/notebooks/data_table.ipynb>data table notebook</a>'\n",
              "          + ' to learn more about interactive tables.';\n",
              "        element.innerHTML = '';\n",
              "        dataTable['output_type'] = 'display_data';\n",
              "        await google.colab.output.renderOutput(dataTable, element);\n",
              "        const docLink = document.createElement('div');\n",
              "        docLink.innerHTML = docLinkHtml;\n",
              "        element.appendChild(docLink);\n",
              "      }\n",
              "    </script>\n",
              "  </div>\n",
              "\n",
              "\n",
              "    <div id=\"df-046a4be3-1931-4910-8641-5163c3d78405\">\n",
              "      <button class=\"colab-df-quickchart\" onclick=\"quickchart('df-046a4be3-1931-4910-8641-5163c3d78405')\"\n",
              "                title=\"Suggest charts\"\n",
              "                style=\"display:none;\">\n",
              "\n",
              "<svg xmlns=\"http://www.w3.org/2000/svg\" height=\"24px\"viewBox=\"0 0 24 24\"\n",
              "     width=\"24px\">\n",
              "    <g>\n",
              "        <path d=\"M19 3H5c-1.1 0-2 .9-2 2v14c0 1.1.9 2 2 2h14c1.1 0 2-.9 2-2V5c0-1.1-.9-2-2-2zM9 17H7v-7h2v7zm4 0h-2V7h2v10zm4 0h-2v-4h2v4z\"/>\n",
              "    </g>\n",
              "</svg>\n",
              "      </button>\n",
              "\n",
              "<style>\n",
              "  .colab-df-quickchart {\n",
              "      --bg-color: #E8F0FE;\n",
              "      --fill-color: #1967D2;\n",
              "      --hover-bg-color: #E2EBFA;\n",
              "      --hover-fill-color: #174EA6;\n",
              "      --disabled-fill-color: #AAA;\n",
              "      --disabled-bg-color: #DDD;\n",
              "  }\n",
              "\n",
              "  [theme=dark] .colab-df-quickchart {\n",
              "      --bg-color: #3B4455;\n",
              "      --fill-color: #D2E3FC;\n",
              "      --hover-bg-color: #434B5C;\n",
              "      --hover-fill-color: #FFFFFF;\n",
              "      --disabled-bg-color: #3B4455;\n",
              "      --disabled-fill-color: #666;\n",
              "  }\n",
              "\n",
              "  .colab-df-quickchart {\n",
              "    background-color: var(--bg-color);\n",
              "    border: none;\n",
              "    border-radius: 50%;\n",
              "    cursor: pointer;\n",
              "    display: none;\n",
              "    fill: var(--fill-color);\n",
              "    height: 32px;\n",
              "    padding: 0;\n",
              "    width: 32px;\n",
              "  }\n",
              "\n",
              "  .colab-df-quickchart:hover {\n",
              "    background-color: var(--hover-bg-color);\n",
              "    box-shadow: 0 1px 2px rgba(60, 64, 67, 0.3), 0 1px 3px 1px rgba(60, 64, 67, 0.15);\n",
              "    fill: var(--button-hover-fill-color);\n",
              "  }\n",
              "\n",
              "  .colab-df-quickchart-complete:disabled,\n",
              "  .colab-df-quickchart-complete:disabled:hover {\n",
              "    background-color: var(--disabled-bg-color);\n",
              "    fill: var(--disabled-fill-color);\n",
              "    box-shadow: none;\n",
              "  }\n",
              "\n",
              "  .colab-df-spinner {\n",
              "    border: 2px solid var(--fill-color);\n",
              "    border-color: transparent;\n",
              "    border-bottom-color: var(--fill-color);\n",
              "    animation:\n",
              "      spin 1s steps(1) infinite;\n",
              "  }\n",
              "\n",
              "  @keyframes spin {\n",
              "    0% {\n",
              "      border-color: transparent;\n",
              "      border-bottom-color: var(--fill-color);\n",
              "      border-left-color: var(--fill-color);\n",
              "    }\n",
              "    20% {\n",
              "      border-color: transparent;\n",
              "      border-left-color: var(--fill-color);\n",
              "      border-top-color: var(--fill-color);\n",
              "    }\n",
              "    30% {\n",
              "      border-color: transparent;\n",
              "      border-left-color: var(--fill-color);\n",
              "      border-top-color: var(--fill-color);\n",
              "      border-right-color: var(--fill-color);\n",
              "    }\n",
              "    40% {\n",
              "      border-color: transparent;\n",
              "      border-right-color: var(--fill-color);\n",
              "      border-top-color: var(--fill-color);\n",
              "    }\n",
              "    60% {\n",
              "      border-color: transparent;\n",
              "      border-right-color: var(--fill-color);\n",
              "    }\n",
              "    80% {\n",
              "      border-color: transparent;\n",
              "      border-right-color: var(--fill-color);\n",
              "      border-bottom-color: var(--fill-color);\n",
              "    }\n",
              "    90% {\n",
              "      border-color: transparent;\n",
              "      border-bottom-color: var(--fill-color);\n",
              "    }\n",
              "  }\n",
              "</style>\n",
              "\n",
              "      <script>\n",
              "        async function quickchart(key) {\n",
              "          const quickchartButtonEl =\n",
              "            document.querySelector('#' + key + ' button');\n",
              "          quickchartButtonEl.disabled = true;  // To prevent multiple clicks.\n",
              "          quickchartButtonEl.classList.add('colab-df-spinner');\n",
              "          try {\n",
              "            const charts = await google.colab.kernel.invokeFunction(\n",
              "                'suggestCharts', [key], {});\n",
              "          } catch (error) {\n",
              "            console.error('Error during call to suggestCharts:', error);\n",
              "          }\n",
              "          quickchartButtonEl.classList.remove('colab-df-spinner');\n",
              "          quickchartButtonEl.classList.add('colab-df-quickchart-complete');\n",
              "        }\n",
              "        (() => {\n",
              "          let quickchartButtonEl =\n",
              "            document.querySelector('#df-046a4be3-1931-4910-8641-5163c3d78405 button');\n",
              "          quickchartButtonEl.style.display =\n",
              "            google.colab.kernel.accessAllowed ? 'block' : 'none';\n",
              "        })();\n",
              "      </script>\n",
              "    </div>\n",
              "\n",
              "    </div>\n",
              "  </div>\n"
            ],
            "text/plain": [
              "   Unnamed: 0 ds_cidade_usuario  ts_primeiro_acesso  ts_ultimo_acesso  \\\n",
              "0           1          Campinas                   0                 0   \n",
              "1           3          Campinas                   0                 0   \n",
              "2           4          Campinas                   0                 0   \n",
              "3           5               NaN          1692744534        1693928454   \n",
              "4           6          Campinas                   0                 0   \n",
              "\n",
              "   nr_dias_desde_primeiro_acesso  nr_dias_desde_ultimo_acesso  \\\n",
              "0                          19612                        19612   \n",
              "1                          19612                        19612   \n",
              "2                          19612                        19612   \n",
              "3                             20                            6   \n",
              "4                          19612                        19612   \n",
              "\n",
              "   nr_atividades_sinalizadas  nr_atividades_mapeadas  \\\n",
              "0                          0                       0   \n",
              "1                          0                       0   \n",
              "2                          0                       0   \n",
              "3                          0                       4   \n",
              "4                          0                       0   \n",
              "\n",
              "   nr_discussoes_forum_postadas  nr_questionarios_abandonados  ...  \\\n",
              "0                             0                             0  ...   \n",
              "1                             0                             0  ...   \n",
              "2                             0                             0  ...   \n",
              "3                             0                             0  ...   \n",
              "4                             0                             0  ...   \n",
              "\n",
              "   nr_questoes_parciais  vl_desempenho_usuario  vl_media_questoes_por_dia  \\\n",
              "0                     0                    NaN                        NaN   \n",
              "1                     0                    NaN                        NaN   \n",
              "2                     0                    NaN                        NaN   \n",
              "3                     0                    1.0                        NaN   \n",
              "4                     0                    NaN                        NaN   \n",
              "\n",
              "   vl_engajamento_notas  nr_itens_avaliados  nr_itens_nao_respondidos  \\\n",
              "0                   NaN                   0                         0   \n",
              "1                   NaN                   0                         0   \n",
              "2                   NaN                   0                         0   \n",
              "3                   NaN                   1                        62   \n",
              "4                   NaN                   0                         0   \n",
              "\n",
              "   vl_media_notas  nr_submissoes_codigo  vl_media_submissoes_codigo  \\\n",
              "0             NaN                     0                         NaN   \n",
              "1             NaN                     0                         NaN   \n",
              "2             NaN                     0                         NaN   \n",
              "3             1.0                     0                         NaN   \n",
              "4             NaN                     0                         NaN   \n",
              "\n",
              "   vl_submissoes_por_dias_ativos  \n",
              "0                            NaN  \n",
              "1                            NaN  \n",
              "2                            NaN  \n",
              "3                            NaN  \n",
              "4                            NaN  \n",
              "\n",
              "[5 rows x 37 columns]"
            ]
          },
          "execution_count": 238,
          "metadata": {},
          "output_type": "execute_result"
        }
      ],
      "source": [
        "# Amostra dos dados\n",
        "df.head()"
      ]
    },
    {
      "cell_type": "code",
      "execution_count": 239,
      "id": "99bb8eaa",
      "metadata": {
        "colab": {
          "base_uri": "https://localhost:8080/"
        },
        "id": "99bb8eaa",
        "outputId": "565d5be7-57c1-4dcb-89b2-ab7f956558a5"
      },
      "outputs": [
        {
          "name": "stdout",
          "output_type": "stream",
          "text": [
            "\n",
            "Colunas categóricas: ['ds_cidade_usuario']\n",
            "Colunas temporais: ['ts_primeiro_acesso', 'ts_ultimo_acesso']\n",
            "Colunas numéricas (contagem - nr_): ['nr_dias_desde_primeiro_acesso', 'nr_dias_desde_ultimo_acesso', 'nr_atividades_sinalizadas', 'nr_atividades_mapeadas', 'nr_discussoes_forum_postadas', 'nr_questionarios_abandonados', 'nr_questionarios_finalizados', 'nr_intervalos_uso', 'nr_dias_uso', 'nr_interacoes_usuario', 'nr_dias_engajamento_discussao', 'nr_dias_engajamento_questionario', 'nr_engajamento_discussao', 'nr_engajamento_questionario', 'nr_questoes_respondidas', 'nr_questoes_corretas', 'nr_questoes_erradas', 'nr_questoes_parciais', 'nr_itens_avaliados', 'nr_itens_nao_respondidos', 'nr_submissoes_codigo']\n",
            "Colunas numéricas (valores/escalares - vl_): ['vl_medio_tempo_questionario', 'vl_medio_tempo_questionario_avaliado', 'vl_desempenho_questionario', 'vl_medio_atividade_diaria', 'vl_engajamento_usuario_por_intervalo', 'vl_engajamento_usuario_intradia', 'vl_desempenho_usuario', 'vl_media_questoes_por_dia', 'vl_engajamento_notas', 'vl_media_notas', 'vl_media_submissoes_codigo', 'vl_submissoes_por_dias_ativos']\n"
          ]
        }
      ],
      "source": [
        "# Classificação das colunas por tipo de prefixo\n",
        "categoricas = [col for col in df.columns if col.startswith(\"ds_\")]\n",
        "temporais = [col for col in df.columns if col.startswith(\"ts_\")]\n",
        "numericas_nr = [col for col in df.columns if col.startswith(\"nr_\")]\n",
        "numericas_vl = [col for col in df.columns if col.startswith(\"vl_\")]\n",
        "\n",
        "print(\"\\nColunas categóricas:\", categoricas)\n",
        "print(\"Colunas temporais:\", temporais)\n",
        "print(\"Colunas numéricas (contagem - nr_):\", numericas_nr)\n",
        "print(\"Colunas numéricas (valores/escalares - vl_):\", numericas_vl)"
      ]
    },
    {
      "cell_type": "markdown",
      "id": "db19097d",
      "metadata": {
        "id": "db19097d"
      },
      "source": [
        "### Analise Inicial:\n",
        "- O dataset possui 400 linhas e 37 colunas.\n",
        "- Há uma coluna Unnamed: 0 que parece ser um índice residual e deve ser removida.\n",
        "- As colunas ts_primeiro_acesso e ts_ultimo_acesso estão como int64 e precisam ser convertidas para datetime.\n",
        "- Diversas colunas, especialmente as com prefixo vl_, possuem uma grande quantidade de valores nulos, que precisarão de tratamento."
      ]
    },
    {
      "cell_type": "markdown",
      "id": "ceaa7df3",
      "metadata": {
        "id": "ceaa7df3"
      },
      "source": [
        "## 4. Limpeza e Pré-Processamento dos dados"
      ]
    },
    {
      "cell_type": "markdown",
      "id": "38a8841e",
      "metadata": {
        "id": "38a8841e"
      },
      "source": [
        "Esta etapa é crucial para garantir a qualidade dos dados que alimentarão o modelo.\n"
      ]
    },
    {
      "cell_type": "markdown",
      "id": "e6fb2779",
      "metadata": {
        "id": "e6fb2779"
      },
      "source": [
        "### 4.1 Remoção de Colunas e Registros Inválidos"
      ]
    },
    {
      "cell_type": "markdown",
      "id": "2e0355d3",
      "metadata": {
        "id": "2e0355d3"
      },
      "source": [
        "- Removemos a coluna Unnamed: 0, que não possui valor analítico.\n",
        "- Filtramos os alunos com ts_primeiro_acesso igual a 0, pois eles nunca acessaram a plataforma e não podem ser considerados no estudo de evasão."
      ]
    },
    {
      "cell_type": "code",
      "execution_count": 240,
      "id": "310dc700",
      "metadata": {
        "id": "310dc700"
      },
      "outputs": [],
      "source": [
        "# Removendo a coluna de índice\n",
        "df = df.drop(\"Unnamed: 0\", axis=1)\n",
        "\n",
        "# Filtrando apenas alunos que acessaram a plataforma\n",
        "df = df[df['ts_primeiro_acesso'] != 0]"
      ]
    },
    {
      "cell_type": "markdown",
      "id": "93632a69",
      "metadata": {
        "id": "93632a69"
      },
      "source": [
        "### 4.2 Tratamento de Colunas Temporais e Categóricas"
      ]
    },
    {
      "cell_type": "markdown",
      "id": "05b0a2c2",
      "metadata": {
        "id": "05b0a2c2"
      },
      "source": [
        "- Convertemos as colunas de timestamp para o formato datetime.\n",
        "- Padronizamos a coluna ds_cidade_usuario: removemos espaços, convertemos para maiúsculas, tiramos acentos e substituímos valores nulos por \"CIDADE NAO INFORMADA\"."
      ]
    },
    {
      "cell_type": "code",
      "execution_count": 241,
      "id": "1cb28a41",
      "metadata": {
        "colab": {
          "base_uri": "https://localhost:8080/"
        },
        "id": "1cb28a41",
        "outputId": "059ffac7-f022-418f-a262-93de51e31636"
      },
      "outputs": [
        {
          "name": "stderr",
          "output_type": "stream",
          "text": [
            "/tmp/ipython-input-241-2455078135.py:13: FutureWarning: A value is trying to be set on a copy of a DataFrame or Series through chained assignment using an inplace method.\n",
            "The behavior will change in pandas 3.0. This inplace method will never work because the intermediate object on which we are setting values always behaves as a copy.\n",
            "\n",
            "For example, when doing 'df[col].method(value, inplace=True)', try using 'df.method({col: value}, inplace=True)' or df[col] = df[col].method(value) instead, to perform the operation inplace on the original object.\n",
            "\n",
            "\n",
            "  df['ds_cidade_usuario'].replace(\"NAN\", \"CIDADE NAO INFORMADA\", inplace=True)\n"
          ]
        }
      ],
      "source": [
        "# Conversão das colunas de timestamp\n",
        "df['ts_primeiro_acesso'] = pd.to_datetime(df['ts_primeiro_acesso'], unit='s')\n",
        "df['ts_ultimo_acesso'] = pd.to_datetime(df['ts_ultimo_acesso'], unit='s')\n",
        "\n",
        "# Limpeza e formatação da coluna de cidade\n",
        "df['ds_cidade_usuario'] = (\n",
        "    df['ds_cidade_usuario']\n",
        "    .astype(str)\n",
        "    .str.strip()\n",
        "    .str.upper()\n",
        "    .apply(unidecode.unidecode)\n",
        ")\n",
        "df['ds_cidade_usuario'].replace(\"NAN\", \"CIDADE NAO INFORMADA\", inplace=True)"
      ]
    },
    {
      "cell_type": "code",
      "execution_count": 242,
      "id": "7a3445f5",
      "metadata": {
        "colab": {
          "base_uri": "https://localhost:8080/"
        },
        "id": "7a3445f5",
        "outputId": "8a3f2cd7-ebaf-457f-e6bf-df3bdc6730c7"
      },
      "outputs": [
        {
          "name": "stdout",
          "output_type": "stream",
          "text": [
            "['CIDADE NAO INFORMADA' 'CAMPINAS' 'SAO PAULO' 'CURITIBA' 'URU' 'BLUMENAU'\n",
            " 'BRASILIA' 'HOLAMBRA']\n"
          ]
        }
      ],
      "source": [
        "print(df['ds_cidade_usuario'].unique())"
      ]
    },
    {
      "cell_type": "markdown",
      "id": "47a29ef6",
      "metadata": {
        "id": "47a29ef6"
      },
      "source": [
        "### 4.3 Tratamento de Valores Ausentes (Nulos)"
      ]
    },
    {
      "cell_type": "code",
      "execution_count": 243,
      "id": "17cbd192",
      "metadata": {
        "colab": {
          "base_uri": "https://localhost:8080/"
        },
        "id": "17cbd192",
        "outputId": "52d43131-e978-4639-9201-98a242501d08"
      },
      "outputs": [
        {
          "name": "stdout",
          "output_type": "stream",
          "text": [
            "\n",
            "Proporção de valores ausentes por coluna (%):\n",
            "vl_desempenho_usuario                   44.88\n",
            "vl_media_notas                          44.88\n",
            "vl_medio_tempo_questionario             45.85\n",
            "vl_medio_tempo_questionario_avaliado    47.80\n",
            "vl_engajamento_notas                    70.24\n",
            "vl_media_questoes_por_dia               70.24\n",
            "vl_engajamento_usuario_intradia         85.85\n",
            "vl_engajamento_usuario_por_intervalo    85.85\n",
            "vl_desempenho_questionario              86.83\n",
            "vl_submissoes_por_dias_ativos           96.10\n",
            "vl_media_submissoes_codigo              98.05\n",
            "dtype: float64\n"
          ]
        }
      ],
      "source": [
        "# Verificando colunas que possuam ao menos um item nulo\n",
        "missing = (df.isnull().mean() * 100).sort_values(ascending=True)\n",
        "\n",
        "print(\"\\nProporção de valores ausentes por coluna (%):\")\n",
        "print(missing[missing > 0].round(2))"
      ]
    },
    {
      "cell_type": "markdown",
      "id": "n_Em1vkG082V",
      "metadata": {
        "id": "n_Em1vkG082V"
      },
      "source": [
        "Durante a análise, identificamos 5 colunas com altos índices de valores nulos:\n",
        "\n",
        "- `vl_media_submissoes_codigo` (~99%)\n",
        "- `vl_submissoes_por_dias_ativos` (~98%)\n",
        "- `vl_desempenho_questionario` (~93%)\n",
        "- `vl_engajamento_usuario_por_intervalo` (~92.75%)     \n",
        "- `vl_engajamento_usuario_intradia` (~92.75%)\n",
        "\n",
        "#### Estratégia 1: Colunas removidas\n",
        "As duas primeiras foram removidas por conterem dados ausentes em quase todos os registros, o que inviabiliza sua utilização estatística ou em modelos preditivos.\n",
        "\n",
        "#### Estratégia 2: Colunas preenchidas com zero\n",
        "As demais colunas foram mantidas e os valores nulos preenchidos com **zero**, assumindo que a ausência dos dados representa **falta de atividade do usuário** (ex: nenhum questionário feito, nenhum engajamento detectado). Isso mantém a coerência da análise com o objetivo de detectar evasão por inatividade.\n"
      ]
    },
    {
      "cell_type": "code",
      "execution_count": 244,
      "id": "l8SL5q-Y06k1",
      "metadata": {
        "id": "l8SL5q-Y06k1"
      },
      "outputs": [],
      "source": [
        "# Remover colunas com mais de 70% de valores ausentes\n",
        "df.drop(columns=[\"vl_media_submissoes_codigo\", \"vl_submissoes_por_dias_ativos\"], inplace=True)\n",
        "df.drop(columns=[\"vl_media_questoes_por_dia\", \"vl_engajamento_notas\"], inplace=True)"
      ]
    },
    {
      "cell_type": "code",
      "execution_count": 245,
      "id": "-kC0G3yJ1BcE",
      "metadata": {
        "id": "-kC0G3yJ1BcE"
      },
      "outputs": [],
      "source": [
        "# Preencher a coluna de desempenho com zero\n",
        "df[\"vl_desempenho_questionario\"] = df[\"vl_desempenho_questionario\"].fillna(0)\n",
        "df[\"vl_engajamento_usuario_por_intervalo\"] = df[\"vl_engajamento_usuario_por_intervalo\"].fillna(0)\n",
        "df[\"vl_engajamento_usuario_intradia\"] = df[\"vl_engajamento_usuario_intradia\"].fillna(0)\n",
        "df[\"vl_desempenho_usuario\"] = df[\"vl_desempenho_usuario\"].fillna(0)\n",
        "df[\"vl_media_notas\"] = df[\"vl_media_notas\"].fillna(0)"
      ]
    },
    {
      "cell_type": "markdown",
      "id": "nYJ9CoT23epT",
      "metadata": {
        "id": "nYJ9CoT23epT"
      },
      "source": [
        "#### Estratégia 3: Preenchimento com a Mediana\n",
        "\n",
        "Ao lidar com variáveis contínuas como tempo médio de questionário (`vl_medio_tempo_questionario`) e tempo médio em questionários avaliados (`vl_medio_tempo_questionario_avaliado`), optamos por preencher os valores ausentes com a **mediana**.\n",
        "\n",
        "A **mediana** é o valor central de uma distribuição ordenada — ou seja, separa os 50% menores dos 50% maiores valores. Diferente da **média**, a mediana **não é afetada por outliers ou valores extremos**, o que a torna mais robusta para representar o \"comportamento típico\" dos dados, especialmente em distribuições assimétricas ou com grande variação.\n",
        "\n",
        "#### Vantagens de usar a mediana:\n",
        "- Evita distorção causada por tempos muito longos ou muito curtos.\n",
        "- Mantém a coerência estatística da variável.\n",
        "- Preserva o padrão geral da distribuição sem inflar ou achatar artificialmente os dados.\n",
        "\n",
        "Dessa forma, preenchemos os dados faltantes sem comprometer a qualidade da análise ou da modelagem futura.\n"
      ]
    },
    {
      "cell_type": "code",
      "execution_count": 246,
      "id": "rQkYrO1D3QnP",
      "metadata": {
        "id": "rQkYrO1D3QnP"
      },
      "outputs": [],
      "source": [
        "#Preencher com mediana (tempo médio tem sentido contínuo e comparável):\n",
        "df[\"vl_medio_tempo_questionario\"] = df[\"vl_medio_tempo_questionario\"].fillna(df[\"vl_medio_tempo_questionario\"].median())\n",
        "df[\"vl_medio_tempo_questionario_avaliado\"] = df[\"vl_medio_tempo_questionario_avaliado\"].fillna(df[\"vl_medio_tempo_questionario_avaliado\"].median())"
      ]
    },
    {
      "cell_type": "markdown",
      "id": "67147a93",
      "metadata": {
        "id": "67147a93"
      },
      "source": [
        "## 5. Análise Exploratória de Dados (EDA)"
      ]
    },
    {
      "cell_type": "markdown",
      "id": "UigNMIlYdvTX",
      "metadata": {
        "id": "UigNMIlYdvTX"
      },
      "source": [
        "### 5.1 Análise de Engajamento por Cidade\n",
        "\n",
        "Analisamos a média de interações dos alunos por cidade, permitindo identificar regiões com maior ou menor participação."
      ]
    },
    {
      "cell_type": "code",
      "execution_count": 247,
      "id": "BPL1IfoNdf9Z",
      "metadata": {
        "colab": {
          "base_uri": "https://localhost:8080/",
          "height": 541
        },
        "id": "BPL1IfoNdf9Z",
        "outputId": "b0c066d6-8927-431e-bbf5-b2baab64b8cd"
      },
      "outputs": [
        {
          "data": {
            "image/png": "[encoded data removed]",
            "text/plain": [
              "<Figure size 1200x600 with 1 Axes>"
            ]
          },
          "metadata": {},
          "output_type": "display_data"
        }
      ],
      "source": [
        "# Média de engajamento por cidade\n",
        "city_stats = df.groupby('ds_cidade_usuario')[['nr_interacoes_usuario',\n",
        "                                              'vl_desempenho_usuario',\n",
        "                                              'nr_questionarios_finalizados']].mean().reset_index()\n",
        "\n",
        "# Gráfico de barras\n",
        "plt.figure(figsize=(12, 6))\n",
        "sns.barplot(data=city_stats, x='ds_cidade_usuario', y='nr_interacoes_usuario')\n",
        "plt.xticks(rotation=45)\n",
        "plt.title('Média de Interações por Cidade')\n",
        "plt.xlabel('Cidade')\n",
        "plt.ylabel('Média de Interações')\n",
        "plt.show()"
      ]
    },
    {
      "cell_type": "markdown",
      "id": "s2KmJhg67DnO",
      "metadata": {
        "id": "s2KmJhg67DnO"
      },
      "source": [
        "### 5.2 Distribuição do Desempenho Geral dos Alunos\n",
        "\n",
        "O gráfico de desempenho mostra como os alunos estão performando academicamente, com base na métrica `vl_desempenho_usuario`, que varia de 0 a 1. Indicando uma concentração de alunos com ótimo desempenho e muitos com nenhum"
      ]
    },
    {
      "cell_type": "code",
      "execution_count": 248,
      "id": "GG9fhgW_7EXQ",
      "metadata": {
        "colab": {
          "base_uri": "https://localhost:8080/",
          "height": 482
        },
        "id": "GG9fhgW_7EXQ",
        "outputId": "4dd65c1a-fd3a-4692-b4f7-2b78324d92ae"
      },
      "outputs": [
        {
          "data": {
            "image/png": "[encoded data removed]",
            "text/plain": [
              "<Figure size 1000x600 with 1 Axes>"
            ]
          },
          "metadata": {},
          "output_type": "display_data"
        }
      ],
      "source": [
        "df['vl_desempenho_usuario'] = pd.to_numeric(df['vl_desempenho_usuario'], errors='coerce')\n",
        "media_geral = df['vl_desempenho_usuario'].mean()\n",
        "\n",
        "plt.figure(figsize=(10, 6))\n",
        "sns.histplot(df['vl_desempenho_usuario'], bins=30, kde=True, color='skyblue')\n",
        "plt.axvline(media_geral, color='red', linestyle='--', linewidth=2, label=f'Média: {media_geral:.2f}')\n",
        "plt.title('Distribuição do Desempenho dos Alunos')\n",
        "plt.xlabel('Desempenho')\n",
        "plt.ylabel('Frequência')\n",
        "plt.legend()\n",
        "plt.tight_layout()\n",
        "plt.show()\n"
      ]
    },
    {
      "cell_type": "markdown",
      "id": "78Qusnti3m2_",
      "metadata": {
        "id": "78Qusnti3m2_"
      },
      "source": [
        "### 5.3 Análise de Inatividade\n",
        "\n",
        "Esse gráfico analisa o comportamento de uso da plataforma, mostrando há quantos dias cada usuário realizou seu último acesso."
      ]
    },
    {
      "cell_type": "code",
      "execution_count": 249,
      "id": "OHFRNJo5dP7b",
      "metadata": {
        "colab": {
          "base_uri": "https://localhost:8080/",
          "height": 482
        },
        "id": "OHFRNJo5dP7b",
        "outputId": "00d4a1cb-5e2f-47a5-8079-224e0e379e7a"
      },
      "outputs": [
        {
          "data": {
            "image/png": "[encoded data removed]",
            "text/plain": [
              "<Figure size 1000x600 with 1 Axes>"
            ]
          },
          "metadata": {},
          "output_type": "display_data"
        }
      ],
      "source": [
        "\n",
        "# Selecionar  a coluna de dias desde o último acesso\n",
        "dias = df['nr_dias_desde_ultimo_acesso']\n",
        "\n",
        "# Calcular a média\n",
        "media_dias = dias.mean()\n",
        "\n",
        "# Plotar histograma com KDE (curva de densidade)\n",
        "plt.figure(figsize=(10, 6))\n",
        "sns.histplot(dias, bins=30, kde=True, color='skyblue')\n",
        "\n",
        "# Adicionar linha da média\n",
        "plt.axvline(media_dias, color='red', linestyle='--', linewidth=2, label=f'Média: {media_dias:.2f} dias')\n",
        "\n",
        "# Títulos e eixos\n",
        "plt.title(\"Distribuição dos Dias Desde o Último Acesso dos Usuários\")\n",
        "plt.xlabel(\"Dias Desde Último Acesso\")\n",
        "plt.ylabel(\"Frequência\")\n",
        "plt.legend()\n",
        "plt.tight_layout()\n",
        "plt.show()\n"
      ]
    },
    {
      "cell_type": "markdown",
      "id": "56323e91",
      "metadata": {
        "id": "56323e91"
      },
      "source": [
        "## 6. Engenharia e Seleção de Features"
      ]
    },
    {
      "cell_type": "markdown",
      "id": "1ccriLNXL6Dk",
      "metadata": {
        "id": "1ccriLNXL6Dk"
      },
      "source": [
        "Com base nessas análises sobre engajamento e desempenho dos alunos, criaremos uma variável chamada `evadiu`.  \n",
        "Essa variável simula o comportamento de evasão, permitindo que possamos identificar alunos com maior risco de abandono do curso."
      ]
    },
    {
      "cell_type": "markdown",
      "id": "d6s8lo3NHaDr",
      "metadata": {
        "id": "d6s8lo3NHaDr"
      },
      "source": [
        "### 6.1 Criação da variável `evadiu`\n",
        "\n",
        "Criamos uma nova coluna `evadiu` para simular o comportamento de evasão, utilizando a seguinte lógica:\n",
        "\n",
        "> Se o aluno **nunca obteve desempenho** (`vl_desempenho_usuario = 0`) e está **há mais de 12 dias sem acessar a plataforma**, consideramos que ele evadiu.\n",
        "\n",
        "Essa coluna é binária:\n",
        "- `1` → aluno evadiu\n",
        "- `0` → aluno ativo ou ainda engajado\n"
      ]
    },
    {
      "cell_type": "code",
      "execution_count": 250,
      "id": "wREtrahDHGjs",
      "metadata": {
        "id": "wREtrahDHGjs"
      },
      "outputs": [],
      "source": [
        "df[\"vl_desempenho_usuario\"] = pd.to_numeric(df[\"vl_desempenho_usuario\"], errors=\"coerce\")\n",
        "df[\"evadiu\"] = df[\"nr_dias_desde_ultimo_acesso\"] <= 12"
      ]
    },
    {
      "cell_type": "markdown",
      "id": "uzD1tuxwHeQn",
      "metadata": {
        "id": "uzD1tuxwHeQn"
      },
      "source": [
        "#### Comparação entre evasores e não evasores\n",
        "\n",
        "Com a variável `evadiu` criada, comparamos os dois grupos em relação a:\n",
        "- Número de interações\n",
        "- Questionários finalizados\n",
        "- Submissões de código\n",
        "- Desempenho geral\n",
        "\n",
        "Isso nos ajuda a entender quais comportamentos estão mais associados à evasão."
      ]
    },
    {
      "cell_type": "code",
      "execution_count": 251,
      "id": "9JNyW-LBHh9k",
      "metadata": {
        "colab": {
          "base_uri": "https://localhost:8080/",
          "height": 164
        },
        "id": "9JNyW-LBHh9k",
        "outputId": "1f462360-1e11-4cac-ab33-6830efbee942"
      },
      "outputs": [
        {
          "data": {
            "application/vnd.google.colaboratory.intrinsic+json": {
              "summary": "{\n  \"name\": \"media_por_grupo\",\n  \"rows\": 2,\n  \"fields\": [\n    {\n      \"column\": \"evadiu\",\n      \"properties\": {\n        \"dtype\": \"boolean\",\n        \"num_unique_values\": 2,\n        \"samples\": [\n          true,\n          false\n        ],\n        \"semantic_type\": \"\",\n        \"description\": \"\"\n      }\n    },\n    {\n      \"column\": \"nr_interacoes_usuario\",\n      \"properties\": {\n        \"dtype\": \"number\",\n        \"std\": 2.722361107568208,\n        \"min\": 8.34,\n        \"max\": 12.19,\n        \"num_unique_values\": 2,\n        \"samples\": [\n          12.19,\n          8.34\n        ],\n        \"semantic_type\": \"\",\n        \"description\": \"\"\n      }\n    },\n    {\n      \"column\": \"nr_questionarios_finalizados\",\n      \"properties\": {\n        \"dtype\": \"number\",\n        \"std\": 0.7000357133746818,\n        \"min\": 2.35,\n        \"max\": 3.34,\n        \"num_unique_values\": 2,\n        \"samples\": [\n          2.35,\n          3.34\n        ],\n        \"semantic_type\": \"\",\n        \"description\": \"\"\n      }\n    },\n    {\n      \"column\": \"vl_desempenho_usuario\",\n      \"properties\": {\n        \"dtype\": \"number\",\n        \"std\": 0.1979898987322333,\n        \"min\": 0.34,\n        \"max\": 0.62,\n        \"num_unique_values\": 2,\n        \"samples\": [\n          0.62,\n          0.34\n        ],\n        \"semantic_type\": \"\",\n        \"description\": \"\"\n      }\n    },\n    {\n      \"column\": \"nr_submissoes_codigo\",\n      \"properties\": {\n        \"dtype\": \"number\",\n        \"std\": 1.4142135623730951,\n        \"min\": 0.0,\n        \"max\": 2.0,\n        \"num_unique_values\": 2,\n        \"samples\": [\n          2.0,\n          0.0\n        ],\n        \"semantic_type\": \"\",\n        \"description\": \"\"\n      }\n    }\n  ]\n}",
              "type": "dataframe",
              "variable_name": "media_por_grupo"
            },
            "text/html": [
              "\n",
              "  <div id=\"df-1948e0d9-0658-4250-9dd2-99bd4de2d67c\" class=\"colab-df-container\">\n",
              "    <div>\n",
              "<style scoped>\n",
              "    .dataframe tbody tr th:only-of-type {\n",
              "        vertical-align: middle;\n",
              "    }\n",
              "\n",
              "    .dataframe tbody tr th {\n",
              "        vertical-align: top;\n",
              "    }\n",
              "\n",
              "    .dataframe thead th {\n",
              "        text-align: right;\n",
              "    }\n",
              "</style>\n",
              "<table border=\"1\" class=\"dataframe\">\n",
              "  <thead>\n",
              "    <tr style=\"text-align: right;\">\n",
              "      <th></th>\n",
              "      <th>nr_interacoes_usuario</th>\n",
              "      <th>nr_questionarios_finalizados</th>\n",
              "      <th>vl_desempenho_usuario</th>\n",
              "      <th>nr_submissoes_codigo</th>\n",
              "    </tr>\n",
              "    <tr>\n",
              "      <th>evadiu</th>\n",
              "      <th></th>\n",
              "      <th></th>\n",
              "      <th></th>\n",
              "      <th></th>\n",
              "    </tr>\n",
              "  </thead>\n",
              "  <tbody>\n",
              "    <tr>\n",
              "      <th>False</th>\n",
              "      <td>8.34</td>\n",
              "      <td>3.34</td>\n",
              "      <td>0.34</td>\n",
              "      <td>0.0</td>\n",
              "    </tr>\n",
              "    <tr>\n",
              "      <th>True</th>\n",
              "      <td>12.19</td>\n",
              "      <td>2.35</td>\n",
              "      <td>0.62</td>\n",
              "      <td>2.0</td>\n",
              "    </tr>\n",
              "  </tbody>\n",
              "</table>\n",
              "</div>\n",
              "    <div class=\"colab-df-buttons\">\n",
              "\n",
              "  <div class=\"colab-df-container\">\n",
              "    <button class=\"colab-df-convert\" onclick=\"convertToInteractive('df-1948e0d9-0658-4250-9dd2-99bd4de2d67c')\"\n",
              "            title=\"Convert this dataframe to an interactive table.\"\n",
              "            style=\"display:none;\">\n",
              "\n",
              "  <svg xmlns=\"http://www.w3.org/2000/svg\" height=\"24px\" viewBox=\"0 -960 960 960\">\n",
              "    <path d=\"M120-120v-720h720v720H120Zm60-500h600v-160H180v160Zm220 220h160v-160H400v160Zm0 220h160v-160H400v160ZM180-400h160v-160H180v160Zm440 0h160v-160H620v160ZM180-180h160v-160H180v160Zm440 0h160v-160H620v160Z\"/>\n",
              "  </svg>\n",
              "    </button>\n",
              "\n",
              "  <style>\n",
              "    .colab-df-container {\n",
              "      display:flex;\n",
              "      gap: 12px;\n",
              "    }\n",
              "\n",
              "    .colab-df-convert {\n",
              "      background-color: #E8F0FE;\n",
              "      border: none;\n",
              "      border-radius: 50%;\n",
              "      cursor: pointer;\n",
              "      display: none;\n",
              "      fill: #1967D2;\n",
              "      height: 32px;\n",
              "      padding: 0 0 0 0;\n",
              "      width: 32px;\n",
              "    }\n",
              "\n",
              "    .colab-df-convert:hover {\n",
              "      background-color: #E2EBFA;\n",
              "      box-shadow: 0px 1px 2px rgba(60, 64, 67, 0.3), 0px 1px 3px 1px rgba(60, 64, 67, 0.15);\n",
              "      fill: #174EA6;\n",
              "    }\n",
              "\n",
              "    .colab-df-buttons div {\n",
              "      margin-bottom: 4px;\n",
              "    }\n",
              "\n",
              "    [theme=dark] .colab-df-convert {\n",
              "      background-color: #3B4455;\n",
              "      fill: #D2E3FC;\n",
              "    }\n",
              "\n",
              "    [theme=dark] .colab-df-convert:hover {\n",
              "      background-color: #434B5C;\n",
              "      box-shadow: 0px 1px 3px 1px rgba(0, 0, 0, 0.15);\n",
              "      filter: drop-shadow(0px 1px 2px rgba(0, 0, 0, 0.3));\n",
              "      fill: #FFFFFF;\n",
              "    }\n",
              "  </style>\n",
              "\n",
              "    <script>\n",
              "      const buttonEl =\n",
              "        document.querySelector('#df-1948e0d9-0658-4250-9dd2-99bd4de2d67c button.colab-df-convert');\n",
              "      buttonEl.style.display =\n",
              "        google.colab.kernel.accessAllowed ? 'block' : 'none';\n",
              "\n",
              "      async function convertToInteractive(key) {\n",
              "        const element = document.querySelector('#df-1948e0d9-0658-4250-9dd2-99bd4de2d67c');\n",
              "        const dataTable =\n",
              "          await google.colab.kernel.invokeFunction('convertToInteractive',\n",
              "                                                    [key], {});\n",
              "        if (!dataTable) return;\n",
              "\n",
              "        const docLinkHtml = 'Like what you see? Visit the ' +\n",
              "          '<a target=\"_blank\" href=https://colab.research.google.com/notebooks/data_table.ipynb>data table notebook</a>'\n",
              "          + ' to learn more about interactive tables.';\n",
              "        element.innerHTML = '';\n",
              "        dataTable['output_type'] = 'display_data';\n",
              "        await google.colab.output.renderOutput(dataTable, element);\n",
              "        const docLink = document.createElement('div');\n",
              "        docLink.innerHTML = docLinkHtml;\n",
              "        element.appendChild(docLink);\n",
              "      }\n",
              "    </script>\n",
              "  </div>\n",
              "\n",
              "\n",
              "    <div id=\"df-2695d3b6-8d2e-48e3-b926-4c45189e290e\">\n",
              "      <button class=\"colab-df-quickchart\" onclick=\"quickchart('df-2695d3b6-8d2e-48e3-b926-4c45189e290e')\"\n",
              "                title=\"Suggest charts\"\n",
              "                style=\"display:none;\">\n",
              "\n",
              "<svg xmlns=\"http://www.w3.org/2000/svg\" height=\"24px\"viewBox=\"0 0 24 24\"\n",
              "     width=\"24px\">\n",
              "    <g>\n",
              "        <path d=\"M19 3H5c-1.1 0-2 .9-2 2v14c0 1.1.9 2 2 2h14c1.1 0 2-.9 2-2V5c0-1.1-.9-2-2-2zM9 17H7v-7h2v7zm4 0h-2V7h2v10zm4 0h-2v-4h2v4z\"/>\n",
              "    </g>\n",
              "</svg>\n",
              "      </button>\n",
              "\n",
              "<style>\n",
              "  .colab-df-quickchart {\n",
              "      --bg-color: #E8F0FE;\n",
              "      --fill-color: #1967D2;\n",
              "      --hover-bg-color: #E2EBFA;\n",
              "      --hover-fill-color: #174EA6;\n",
              "      --disabled-fill-color: #AAA;\n",
              "      --disabled-bg-color: #DDD;\n",
              "  }\n",
              "\n",
              "  [theme=dark] .colab-df-quickchart {\n",
              "      --bg-color: #3B4455;\n",
              "      --fill-color: #D2E3FC;\n",
              "      --hover-bg-color: #434B5C;\n",
              "      --hover-fill-color: #FFFFFF;\n",
              "      --disabled-bg-color: #3B4455;\n",
              "      --disabled-fill-color: #666;\n",
              "  }\n",
              "\n",
              "  .colab-df-quickchart {\n",
              "    background-color: var(--bg-color);\n",
              "    border: none;\n",
              "    border-radius: 50%;\n",
              "    cursor: pointer;\n",
              "    display: none;\n",
              "    fill: var(--fill-color);\n",
              "    height: 32px;\n",
              "    padding: 0;\n",
              "    width: 32px;\n",
              "  }\n",
              "\n",
              "  .colab-df-quickchart:hover {\n",
              "    background-color: var(--hover-bg-color);\n",
              "    box-shadow: 0 1px 2px rgba(60, 64, 67, 0.3), 0 1px 3px 1px rgba(60, 64, 67, 0.15);\n",
              "    fill: var(--button-hover-fill-color);\n",
              "  }\n",
              "\n",
              "  .colab-df-quickchart-complete:disabled,\n",
              "  .colab-df-quickchart-complete:disabled:hover {\n",
              "    background-color: var(--disabled-bg-color);\n",
              "    fill: var(--disabled-fill-color);\n",
              "    box-shadow: none;\n",
              "  }\n",
              "\n",
              "  .colab-df-spinner {\n",
              "    border: 2px solid var(--fill-color);\n",
              "    border-color: transparent;\n",
              "    border-bottom-color: var(--fill-color);\n",
              "    animation:\n",
              "      spin 1s steps(1) infinite;\n",
              "  }\n",
              "\n",
              "  @keyframes spin {\n",
              "    0% {\n",
              "      border-color: transparent;\n",
              "      border-bottom-color: var(--fill-color);\n",
              "      border-left-color: var(--fill-color);\n",
              "    }\n",
              "    20% {\n",
              "      border-color: transparent;\n",
              "      border-left-color: var(--fill-color);\n",
              "      border-top-color: var(--fill-color);\n",
              "    }\n",
              "    30% {\n",
              "      border-color: transparent;\n",
              "      border-left-color: var(--fill-color);\n",
              "      border-top-color: var(--fill-color);\n",
              "      border-right-color: var(--fill-color);\n",
              "    }\n",
              "    40% {\n",
              "      border-color: transparent;\n",
              "      border-right-color: var(--fill-color);\n",
              "      border-top-color: var(--fill-color);\n",
              "    }\n",
              "    60% {\n",
              "      border-color: transparent;\n",
              "      border-right-color: var(--fill-color);\n",
              "    }\n",
              "    80% {\n",
              "      border-color: transparent;\n",
              "      border-right-color: var(--fill-color);\n",
              "      border-bottom-color: var(--fill-color);\n",
              "    }\n",
              "    90% {\n",
              "      border-color: transparent;\n",
              "      border-bottom-color: var(--fill-color);\n",
              "    }\n",
              "  }\n",
              "</style>\n",
              "\n",
              "      <script>\n",
              "        async function quickchart(key) {\n",
              "          const quickchartButtonEl =\n",
              "            document.querySelector('#' + key + ' button');\n",
              "          quickchartButtonEl.disabled = true;  // To prevent multiple clicks.\n",
              "          quickchartButtonEl.classList.add('colab-df-spinner');\n",
              "          try {\n",
              "            const charts = await google.colab.kernel.invokeFunction(\n",
              "                'suggestCharts', [key], {});\n",
              "          } catch (error) {\n",
              "            console.error('Error during call to suggestCharts:', error);\n",
              "          }\n",
              "          quickchartButtonEl.classList.remove('colab-df-spinner');\n",
              "          quickchartButtonEl.classList.add('colab-df-quickchart-complete');\n",
              "        }\n",
              "        (() => {\n",
              "          let quickchartButtonEl =\n",
              "            document.querySelector('#df-2695d3b6-8d2e-48e3-b926-4c45189e290e button');\n",
              "          quickchartButtonEl.style.display =\n",
              "            google.colab.kernel.accessAllowed ? 'block' : 'none';\n",
              "        })();\n",
              "      </script>\n",
              "    </div>\n",
              "\n",
              "  <div id=\"id_c53f4f7e-06d9-4283-9dae-6b44a5e53c76\">\n",
              "    <style>\n",
              "      .colab-df-generate {\n",
              "        background-color: #E8F0FE;\n",
              "        border: none;\n",
              "        border-radius: 50%;\n",
              "        cursor: pointer;\n",
              "        display: none;\n",
              "        fill: #1967D2;\n",
              "        height: 32px;\n",
              "        padding: 0 0 0 0;\n",
              "        width: 32px;\n",
              "      }\n",
              "\n",
              "      .colab-df-generate:hover {\n",
              "        background-color: #E2EBFA;\n",
              "        box-shadow: 0px 1px 2px rgba(60, 64, 67, 0.3), 0px 1px 3px 1px rgba(60, 64, 67, 0.15);\n",
              "        fill: #174EA6;\n",
              "      }\n",
              "\n",
              "      [theme=dark] .colab-df-generate {\n",
              "        background-color: #3B4455;\n",
              "        fill: #D2E3FC;\n",
              "      }\n",
              "\n",
              "      [theme=dark] .colab-df-generate:hover {\n",
              "        background-color: #434B5C;\n",
              "        box-shadow: 0px 1px 3px 1px rgba(0, 0, 0, 0.15);\n",
              "        filter: drop-shadow(0px 1px 2px rgba(0, 0, 0, 0.3));\n",
              "        fill: #FFFFFF;\n",
              "      }\n",
              "    </style>\n",
              "    <button class=\"colab-df-generate\" onclick=\"generateWithVariable('media_por_grupo')\"\n",
              "            title=\"Generate code using this dataframe.\"\n",
              "            style=\"display:none;\">\n",
              "\n",
              "  <svg xmlns=\"http://www.w3.org/2000/svg\" height=\"24px\"viewBox=\"0 0 24 24\"\n",
              "       width=\"24px\">\n",
              "    <path d=\"M7,19H8.4L18.45,9,17,7.55,7,17.6ZM5,21V16.75L18.45,3.32a2,2,0,0,1,2.83,0l1.4,1.43a1.91,1.91,0,0,1,.58,1.4,1.91,1.91,0,0,1-.58,1.4L9.25,21ZM18.45,9,17,7.55Zm-12,3A5.31,5.31,0,0,0,4.9,8.1,5.31,5.31,0,0,0,1,6.5,5.31,5.31,0,0,0,4.9,4.9,5.31,5.31,0,0,0,6.5,1,5.31,5.31,0,0,0,8.1,4.9,5.31,5.31,0,0,0,12,6.5,5.46,5.46,0,0,0,6.5,12Z\"/>\n",
              "  </svg>\n",
              "    </button>\n",
              "    <script>\n",
              "      (() => {\n",
              "      const buttonEl =\n",
              "        document.querySelector('#id_c53f4f7e-06d9-4283-9dae-6b44a5e53c76 button.colab-df-generate');\n",
              "      buttonEl.style.display =\n",
              "        google.colab.kernel.accessAllowed ? 'block' : 'none';\n",
              "\n",
              "      buttonEl.onclick = () => {\n",
              "        google.colab.notebook.generateWithVariable('media_por_grupo');\n",
              "      }\n",
              "      })();\n",
              "    </script>\n",
              "  </div>\n",
              "\n",
              "    </div>\n",
              "  </div>\n"
            ],
            "text/plain": [
              "        nr_interacoes_usuario  nr_questionarios_finalizados  \\\n",
              "evadiu                                                        \n",
              "False                    8.34                          3.34   \n",
              "True                    12.19                          2.35   \n",
              "\n",
              "        vl_desempenho_usuario  nr_submissoes_codigo  \n",
              "evadiu                                               \n",
              "False                    0.34                   0.0  \n",
              "True                     0.62                   2.0  "
            ]
          },
          "execution_count": 251,
          "metadata": {},
          "output_type": "execute_result"
        }
      ],
      "source": [
        "# Comparar médias de variáveis entre evasores e não evasores\n",
        "media_por_grupo = df.groupby(\"evadiu\")[\n",
        "    [\"nr_interacoes_usuario\", \"nr_questionarios_finalizados\", \"vl_desempenho_usuario\", \"nr_submissoes_codigo\"]\n",
        "].mean().round(2)\n",
        "\n",
        "media_por_grupo\n"
      ]
    },
    {
      "cell_type": "markdown",
      "id": "5m1prvYuHz1l",
      "metadata": {
        "id": "5m1prvYuHz1l"
      },
      "source": [
        "### 6.2 Classificação de Perfis de Risco\n",
        "\n",
        "A partir das variáveis `vl_desempenho_usuario` e `nr_dias_desde_ultimo_acesso`, classificamos cada aluno em um dos seguintes perfis:\n",
        "\n",
        "| Perfil            | Critério                                              |\n",
        "|-------------------|-------------------------------------------------------|\n",
        "| Alto Risco        | Desempenho = 0 e sem acesso há mais de 12 dias        |\n",
        "| Reengajamento     | Bom desempenho, mas inativo há mais de 12 dias        |\n",
        "| Apoio Pedagógico  | Acessa, mas desempenho muito baixo                    |\n",
        "| Estável           | Acessa com frequência e tem bom desempenho            |\n"
      ]
    },
    {
      "cell_type": "code",
      "execution_count": 252,
      "id": "j2CGwbrYH1d6",
      "metadata": {
        "id": "j2CGwbrYH1d6"
      },
      "outputs": [],
      "source": [
        "# Classificar alunos em perfis com base em desempenho e atividade\n",
        "def perfil(row):\n",
        "    if row[\"vl_desempenho_usuario\"] == 0 and row[\"nr_dias_desde_ultimo_acesso\"] > 12:\n",
        "        return \"Alto Risco\"\n",
        "    elif row[\"vl_desempenho_usuario\"] > 0.7 and row[\"nr_dias_desde_ultimo_acesso\"] > 12:\n",
        "        return \"Reengajamento\"\n",
        "    elif row[\"vl_desempenho_usuario\"] < 0.3:\n",
        "        return \"Apoio Pedagógico\"\n",
        "    else:\n",
        "        return \"Estável\"\n",
        "\n",
        "df[\"perfil\"] = df.apply(perfil, axis=1)\n"
      ]
    },
    {
      "cell_type": "markdown",
      "id": "HPm0A7i6H5st",
      "metadata": {
        "id": "HPm0A7i6H5st"
      },
      "source": [
        "#### Contagem de Perfis\n",
        "\n",
        "Finalizamos com a contagem de alunos em cada perfil. Isso nos ajuda a:\n",
        "\n",
        "- Visualizar a distribuição de risco na base de dados\n",
        "- Compreender o tamanho de cada grupo e onde priorizar intervenções\n",
        "\n",
        "Essa segmentação é essencial tanto para análise quanto para futuras estratégias de reengajamento ou previsão automatizada da evasão."
      ]
    },
    {
      "cell_type": "code",
      "execution_count": 253,
      "id": "h6rx3qWoH7IK",
      "metadata": {
        "colab": {
          "base_uri": "https://localhost:8080/",
          "height": 175
        },
        "id": "h6rx3qWoH7IK",
        "outputId": "bbeafa8d-a17e-450e-81fc-8862f287d943"
      },
      "outputs": [
        {
          "data": {
            "application/vnd.google.colaboratory.intrinsic+json": {
              "summary": "{\n  \"name\": \"df[\\\"perfil\\\"]\",\n  \"rows\": 4,\n  \"fields\": [\n    {\n      \"column\": \"quantidade\",\n      \"properties\": {\n        \"dtype\": \"string\",\n        \"num_unique_values\": 4,\n        \"samples\": [\n          \"Alto Risco\",\n          \"Reengajamento\",\n          \"Est\\u00e1vel\"\n        ],\n        \"semantic_type\": \"\",\n        \"description\": \"\"\n      }\n    },\n    {\n      \"column\": \"count\",\n      \"properties\": {\n        \"dtype\": \"number\",\n        \"std\": 21,\n        \"min\": 30,\n        \"max\": 77,\n        \"num_unique_values\": 4,\n        \"samples\": [\n          59,\n          30,\n          77\n        ],\n        \"semantic_type\": \"\",\n        \"description\": \"\"\n      }\n    }\n  ]\n}",
              "type": "dataframe"
            },
            "text/html": [
              "\n",
              "  <div id=\"df-ed0332d4-e1ae-44fd-905b-9c31ffcca769\" class=\"colab-df-container\">\n",
              "    <div>\n",
              "<style scoped>\n",
              "    .dataframe tbody tr th:only-of-type {\n",
              "        vertical-align: middle;\n",
              "    }\n",
              "\n",
              "    .dataframe tbody tr th {\n",
              "        vertical-align: top;\n",
              "    }\n",
              "\n",
              "    .dataframe thead th {\n",
              "        text-align: right;\n",
              "    }\n",
              "</style>\n",
              "<table border=\"1\" class=\"dataframe\">\n",
              "  <thead>\n",
              "    <tr style=\"text-align: right;\">\n",
              "      <th></th>\n",
              "      <th>quantidade</th>\n",
              "      <th>count</th>\n",
              "    </tr>\n",
              "  </thead>\n",
              "  <tbody>\n",
              "    <tr>\n",
              "      <th>0</th>\n",
              "      <td>Estável</td>\n",
              "      <td>77</td>\n",
              "    </tr>\n",
              "    <tr>\n",
              "      <th>1</th>\n",
              "      <td>Alto Risco</td>\n",
              "      <td>59</td>\n",
              "    </tr>\n",
              "    <tr>\n",
              "      <th>2</th>\n",
              "      <td>Apoio Pedagógico</td>\n",
              "      <td>39</td>\n",
              "    </tr>\n",
              "    <tr>\n",
              "      <th>3</th>\n",
              "      <td>Reengajamento</td>\n",
              "      <td>30</td>\n",
              "    </tr>\n",
              "  </tbody>\n",
              "</table>\n",
              "</div>\n",
              "    <div class=\"colab-df-buttons\">\n",
              "\n",
              "  <div class=\"colab-df-container\">\n",
              "    <button class=\"colab-df-convert\" onclick=\"convertToInteractive('df-ed0332d4-e1ae-44fd-905b-9c31ffcca769')\"\n",
              "            title=\"Convert this dataframe to an interactive table.\"\n",
              "            style=\"display:none;\">\n",
              "\n",
              "  <svg xmlns=\"http://www.w3.org/2000/svg\" height=\"24px\" viewBox=\"0 -960 960 960\">\n",
              "    <path d=\"M120-120v-720h720v720H120Zm60-500h600v-160H180v160Zm220 220h160v-160H400v160Zm0 220h160v-160H400v160ZM180-400h160v-160H180v160Zm440 0h160v-160H620v160ZM180-180h160v-160H180v160Zm440 0h160v-160H620v160Z\"/>\n",
              "  </svg>\n",
              "    </button>\n",
              "\n",
              "  <style>\n",
              "    .colab-df-container {\n",
              "      display:flex;\n",
              "      gap: 12px;\n",
              "    }\n",
              "\n",
              "    .colab-df-convert {\n",
              "      background-color: #E8F0FE;\n",
              "      border: none;\n",
              "      border-radius: 50%;\n",
              "      cursor: pointer;\n",
              "      display: none;\n",
              "      fill: #1967D2;\n",
              "      height: 32px;\n",
              "      padding: 0 0 0 0;\n",
              "      width: 32px;\n",
              "    }\n",
              "\n",
              "    .colab-df-convert:hover {\n",
              "      background-color: #E2EBFA;\n",
              "      box-shadow: 0px 1px 2px rgba(60, 64, 67, 0.3), 0px 1px 3px 1px rgba(60, 64, 67, 0.15);\n",
              "      fill: #174EA6;\n",
              "    }\n",
              "\n",
              "    .colab-df-buttons div {\n",
              "      margin-bottom: 4px;\n",
              "    }\n",
              "\n",
              "    [theme=dark] .colab-df-convert {\n",
              "      background-color: #3B4455;\n",
              "      fill: #D2E3FC;\n",
              "    }\n",
              "\n",
              "    [theme=dark] .colab-df-convert:hover {\n",
              "      background-color: #434B5C;\n",
              "      box-shadow: 0px 1px 3px 1px rgba(0, 0, 0, 0.15);\n",
              "      filter: drop-shadow(0px 1px 2px rgba(0, 0, 0, 0.3));\n",
              "      fill: #FFFFFF;\n",
              "    }\n",
              "  </style>\n",
              "\n",
              "    <script>\n",
              "      const buttonEl =\n",
              "        document.querySelector('#df-ed0332d4-e1ae-44fd-905b-9c31ffcca769 button.colab-df-convert');\n",
              "      buttonEl.style.display =\n",
              "        google.colab.kernel.accessAllowed ? 'block' : 'none';\n",
              "\n",
              "      async function convertToInteractive(key) {\n",
              "        const element = document.querySelector('#df-ed0332d4-e1ae-44fd-905b-9c31ffcca769');\n",
              "        const dataTable =\n",
              "          await google.colab.kernel.invokeFunction('convertToInteractive',\n",
              "                                                    [key], {});\n",
              "        if (!dataTable) return;\n",
              "\n",
              "        const docLinkHtml = 'Like what you see? Visit the ' +\n",
              "          '<a target=\"_blank\" href=https://colab.research.google.com/notebooks/data_table.ipynb>data table notebook</a>'\n",
              "          + ' to learn more about interactive tables.';\n",
              "        element.innerHTML = '';\n",
              "        dataTable['output_type'] = 'display_data';\n",
              "        await google.colab.output.renderOutput(dataTable, element);\n",
              "        const docLink = document.createElement('div');\n",
              "        docLink.innerHTML = docLinkHtml;\n",
              "        element.appendChild(docLink);\n",
              "      }\n",
              "    </script>\n",
              "  </div>\n",
              "\n",
              "\n",
              "    <div id=\"df-9dbef18c-4c29-4b65-a379-6e5a1a989420\">\n",
              "      <button class=\"colab-df-quickchart\" onclick=\"quickchart('df-9dbef18c-4c29-4b65-a379-6e5a1a989420')\"\n",
              "                title=\"Suggest charts\"\n",
              "                style=\"display:none;\">\n",
              "\n",
              "<svg xmlns=\"http://www.w3.org/2000/svg\" height=\"24px\"viewBox=\"0 0 24 24\"\n",
              "     width=\"24px\">\n",
              "    <g>\n",
              "        <path d=\"M19 3H5c-1.1 0-2 .9-2 2v14c0 1.1.9 2 2 2h14c1.1 0 2-.9 2-2V5c0-1.1-.9-2-2-2zM9 17H7v-7h2v7zm4 0h-2V7h2v10zm4 0h-2v-4h2v4z\"/>\n",
              "    </g>\n",
              "</svg>\n",
              "      </button>\n",
              "\n",
              "<style>\n",
              "  .colab-df-quickchart {\n",
              "      --bg-color: #E8F0FE;\n",
              "      --fill-color: #1967D2;\n",
              "      --hover-bg-color: #E2EBFA;\n",
              "      --hover-fill-color: #174EA6;\n",
              "      --disabled-fill-color: #AAA;\n",
              "      --disabled-bg-color: #DDD;\n",
              "  }\n",
              "\n",
              "  [theme=dark] .colab-df-quickchart {\n",
              "      --bg-color: #3B4455;\n",
              "      --fill-color: #D2E3FC;\n",
              "      --hover-bg-color: #434B5C;\n",
              "      --hover-fill-color: #FFFFFF;\n",
              "      --disabled-bg-color: #3B4455;\n",
              "      --disabled-fill-color: #666;\n",
              "  }\n",
              "\n",
              "  .colab-df-quickchart {\n",
              "    background-color: var(--bg-color);\n",
              "    border: none;\n",
              "    border-radius: 50%;\n",
              "    cursor: pointer;\n",
              "    display: none;\n",
              "    fill: var(--fill-color);\n",
              "    height: 32px;\n",
              "    padding: 0;\n",
              "    width: 32px;\n",
              "  }\n",
              "\n",
              "  .colab-df-quickchart:hover {\n",
              "    background-color: var(--hover-bg-color);\n",
              "    box-shadow: 0 1px 2px rgba(60, 64, 67, 0.3), 0 1px 3px 1px rgba(60, 64, 67, 0.15);\n",
              "    fill: var(--button-hover-fill-color);\n",
              "  }\n",
              "\n",
              "  .colab-df-quickchart-complete:disabled,\n",
              "  .colab-df-quickchart-complete:disabled:hover {\n",
              "    background-color: var(--disabled-bg-color);\n",
              "    fill: var(--disabled-fill-color);\n",
              "    box-shadow: none;\n",
              "  }\n",
              "\n",
              "  .colab-df-spinner {\n",
              "    border: 2px solid var(--fill-color);\n",
              "    border-color: transparent;\n",
              "    border-bottom-color: var(--fill-color);\n",
              "    animation:\n",
              "      spin 1s steps(1) infinite;\n",
              "  }\n",
              "\n",
              "  @keyframes spin {\n",
              "    0% {\n",
              "      border-color: transparent;\n",
              "      border-bottom-color: var(--fill-color);\n",
              "      border-left-color: var(--fill-color);\n",
              "    }\n",
              "    20% {\n",
              "      border-color: transparent;\n",
              "      border-left-color: var(--fill-color);\n",
              "      border-top-color: var(--fill-color);\n",
              "    }\n",
              "    30% {\n",
              "      border-color: transparent;\n",
              "      border-left-color: var(--fill-color);\n",
              "      border-top-color: var(--fill-color);\n",
              "      border-right-color: var(--fill-color);\n",
              "    }\n",
              "    40% {\n",
              "      border-color: transparent;\n",
              "      border-right-color: var(--fill-color);\n",
              "      border-top-color: var(--fill-color);\n",
              "    }\n",
              "    60% {\n",
              "      border-color: transparent;\n",
              "      border-right-color: var(--fill-color);\n",
              "    }\n",
              "    80% {\n",
              "      border-color: transparent;\n",
              "      border-right-color: var(--fill-color);\n",
              "      border-bottom-color: var(--fill-color);\n",
              "    }\n",
              "    90% {\n",
              "      border-color: transparent;\n",
              "      border-bottom-color: var(--fill-color);\n",
              "    }\n",
              "  }\n",
              "</style>\n",
              "\n",
              "      <script>\n",
              "        async function quickchart(key) {\n",
              "          const quickchartButtonEl =\n",
              "            document.querySelector('#' + key + ' button');\n",
              "          quickchartButtonEl.disabled = true;  // To prevent multiple clicks.\n",
              "          quickchartButtonEl.classList.add('colab-df-spinner');\n",
              "          try {\n",
              "            const charts = await google.colab.kernel.invokeFunction(\n",
              "                'suggestCharts', [key], {});\n",
              "          } catch (error) {\n",
              "            console.error('Error during call to suggestCharts:', error);\n",
              "          }\n",
              "          quickchartButtonEl.classList.remove('colab-df-spinner');\n",
              "          quickchartButtonEl.classList.add('colab-df-quickchart-complete');\n",
              "        }\n",
              "        (() => {\n",
              "          let quickchartButtonEl =\n",
              "            document.querySelector('#df-9dbef18c-4c29-4b65-a379-6e5a1a989420 button');\n",
              "          quickchartButtonEl.style.display =\n",
              "            google.colab.kernel.accessAllowed ? 'block' : 'none';\n",
              "        })();\n",
              "      </script>\n",
              "    </div>\n",
              "\n",
              "    </div>\n",
              "  </div>\n"
            ],
            "text/plain": [
              "         quantidade  count\n",
              "0           Estável     77\n",
              "1        Alto Risco     59\n",
              "2  Apoio Pedagógico     39\n",
              "3     Reengajamento     30"
            ]
          },
          "execution_count": 253,
          "metadata": {},
          "output_type": "execute_result"
        }
      ],
      "source": [
        "# Contar a quantidade de alunos em cada perfil\n",
        "df[\"perfil\"].value_counts().reset_index().rename(columns={\"index\": \"perfil\", \"perfil\": \"quantidade\"})\n"
      ]
    },
    {
      "cell_type": "markdown",
      "id": "oGg3NTk8SJSF",
      "metadata": {
        "id": "oGg3NTk8SJSF"
      },
      "source": [
        "### 6.3 Pré-Processamento dos Dados para Modelagem"
      ]
    },
    {
      "cell_type": "markdown",
      "id": "oFWYcCAUToy0",
      "metadata": {
        "id": "oFWYcCAUToy0"
      },
      "source": [
        "**Seleção de Atributos**: removemos variáveis que não serão usadas como entrada no modelo, como:\n",
        "   - `evadiu` (alvo da predição)\n",
        "   - `perfil` (já é um agrupamento explicativo derivado das features)\n",
        "   - `ds_cidade_usuario` (categórica não transformada)"
      ]
    },
    {
      "cell_type": "code",
      "execution_count": 254,
      "id": "GSCMUjuwTzqK",
      "metadata": {
        "id": "GSCMUjuwTzqK"
      },
      "outputs": [],
      "source": [
        "y = df[\"evadiu\"]"
      ]
    },
    {
      "cell_type": "code",
      "execution_count": 255,
      "id": "8yiB1YiLRq3Z",
      "metadata": {
        "id": "8yiB1YiLRq3Z"
      },
      "outputs": [],
      "source": [
        "X = df.drop(columns=[\"evadiu\", \"perfil\", \"ds_cidade_usuario\", \"nr_dias_desde_ultimo_acesso\"], errors=\"ignore\")"
      ]
    },
    {
      "cell_type": "markdown",
      "id": "Mz0CEd8pXgHq",
      "metadata": {
        "id": "Mz0CEd8pXgHq"
      },
      "source": [
        "**Exclusão de colunas do tipo `datetime64`:**\n",
        "   - Modelos de ML não entendem datas diretamente.\n",
        "   - Em vez disso, já transformamos essas colunas em atributos úteis como `nr_dias_desde_ultimo_acesso`."
      ]
    },
    {
      "cell_type": "code",
      "execution_count": 256,
      "id": "RfwtVVlQW7fC",
      "metadata": {
        "id": "RfwtVVlQW7fC"
      },
      "outputs": [],
      "source": [
        "X = X.select_dtypes(exclude=[\"datetime64[ns]\"])"
      ]
    },
    {
      "cell_type": "markdown",
      "id": "Px_P44u1Ts5N",
      "metadata": {
        "id": "Px_P44u1Ts5N"
      },
      "source": [
        "Usamos `StandardScaler` para padronizar as variáveis numéricas, transformando-as para que tenham **média 0 e desvio padrão 1**. Isso é especialmente importante para algoritmos como redes neurais e modelos baseados em distância (ex: SVM), que são sensíveis à escala dos dados."
      ]
    },
    {
      "cell_type": "code",
      "execution_count": 257,
      "id": "sLThZ7DuTu_9",
      "metadata": {
        "id": "sLThZ7DuTu_9"
      },
      "outputs": [],
      "source": [
        "from sklearn.preprocessing import StandardScaler\n",
        "\n",
        "scaler = StandardScaler()\n",
        "X_scaled = pd.DataFrame(scaler.fit_transform(X), columns=X.columns)"
      ]
    },
    {
      "cell_type": "markdown",
      "id": "X0tEHp03T9Ed",
      "metadata": {
        "id": "X0tEHp03T9Ed"
      },
      "source": [
        "**Separação dos Conjuntos de Treino e Teste**: dividimos os dados em 80% para treino e 20% para teste, garantindo que a proporção de evasores e não evasores seja mantida (com `stratify`)."
      ]
    },
    {
      "cell_type": "code",
      "execution_count": 258,
      "id": "twwX-rnkRsMG",
      "metadata": {
        "id": "twwX-rnkRsMG"
      },
      "outputs": [],
      "source": [
        "from sklearn.model_selection import train_test_split\n",
        "\n",
        "X_train, X_test, y_train, y_test = train_test_split(\n",
        "    X_scaled, y, test_size=0.2, random_state=42, stratify=y\n",
        ")"
      ]
    },
    {
      "cell_type": "markdown",
      "id": "9LrVlHWbUD7U",
      "metadata": {
        "id": "9LrVlHWbUD7U"
      },
      "source": [
        "**Verificação de Balanceamento**: imprimimos a distribuição das classes (evadiu = 0 ou 1) no conjunto de treino, o que ajuda a identificar se técnicas adicionais de balanceamento serão necessárias no modelo."
      ]
    },
    {
      "cell_type": "code",
      "execution_count": 259,
      "id": "5sTzjaLSUFeJ",
      "metadata": {
        "colab": {
          "base_uri": "https://localhost:8080/"
        },
        "id": "5sTzjaLSUFeJ",
        "outputId": "76da28b0-87eb-4bb8-b467-237d371ac523"
      },
      "outputs": [
        {
          "name": "stdout",
          "output_type": "stream",
          "text": [
            "Distribuição de 'evadiu' no treino: {np.False_: np.int64(78), np.True_: np.int64(86)}\n"
          ]
        }
      ],
      "source": [
        "unique, counts = np.unique(y_train, return_counts=True)\n",
        "print(\"Distribuição de 'evadiu' no treino:\", dict(zip(unique, counts)))"
      ]
    },
    {
      "cell_type": "markdown",
      "id": "epHYXvGU81D7",
      "metadata": {
        "id": "epHYXvGU81D7"
      },
      "source": [
        "## 7. Modelagem"
      ]
    },
    {
      "cell_type": "markdown",
      "id": "ab89fc04",
      "metadata": {},
      "source": [
        "### 7.1 Regressão Logística"
      ]
    },
    {
      "cell_type": "markdown",
      "id": "xLhKbBbbHuYN",
      "metadata": {
        "id": "xLhKbBbbHuYN"
      },
      "source": [
        "\n",
        "Usamos regressão logística por ser um modelo simples e interpretável, ótimo para começar problemas de classificação binária como “evadiu ou não”."
      ]
    },
    {
      "cell_type": "code",
      "execution_count": null,
      "id": "OnlS1XjtAxiA",
      "metadata": {
        "colab": {
          "base_uri": "https://localhost:8080/"
        },
        "id": "OnlS1XjtAxiA",
        "outputId": "c3d4ec48-483b-43ee-8676-682673d8fe90"
      },
      "outputs": [
        {
          "name": "stdout",
          "output_type": "stream",
          "text": [
            "Relatório - Regressão Logística\n",
            "              precision    recall  f1-score   support\n",
            "\n",
            "       False       0.75      0.90      0.82        20\n",
            "        True       0.88      0.71      0.79        21\n",
            "\n",
            "    accuracy                           0.80        41\n",
            "   macro avg       0.82      0.81      0.80        41\n",
            "weighted avg       0.82      0.80      0.80        41\n",
            "\n"
          ]
        }
      ],
      "source": [
        "## Treinamento do modelo\n",
        "log_model = LogisticRegression(random_state=42, max_iter=1000)\n",
        "log_model.fit(X_train, y_train)\n",
        "y_pred_log = log_model.predict(X_test)\n",
        "\n",
        "# Avaliação do modelo\n",
        "print(\"Relatório - Regressão Logística\")\n",
        "print(classification_report(y_test, y_pred_log))"
      ]
    },
    {
      "cell_type": "markdown",
      "id": "YBcvQIsJHhgN",
      "metadata": {
        "id": "YBcvQIsJHhgN"
      },
      "source": [
        "#### Análise dos resutlados:\n",
        "O relatório mostra que a regressão logística conseguiu um bom equilíbrio entre **precisão**, **recall** e **F1-score** para ambas as classes.\n",
        "\n",
        "O modelo teve desempenho consistente, sendo capaz de **identificar tanto evasores quanto alunos ativos** com qualidade.  \n",
        "Por ser um modelo mais simples e interpretável, a regressão logística pode ser uma boa referência ou baseline para comparação com modelos mais complexos."
      ]
    },
    {
      "cell_type": "markdown",
      "id": "806dfde2",
      "metadata": {},
      "source": [
        "### 7.2 Random Forest"
      ]
    },
    {
      "cell_type": "markdown",
      "id": "eYsqPdmOIUBF",
      "metadata": {
        "id": "eYsqPdmOIUBF"
      },
      "source": [
        "Em seguida, testamos o Random Forest, ajustando hiperparâmetros como `max_depth` e `min_samples_leaf` para evitar overfitting e utilizando `class_weight='balanced'` para lidar com o leve desbalanceamento de classes."
      ]
    },
    {
      "cell_type": "code",
      "execution_count": 262,
      "id": "2OBRPPgEA6S3",
      "metadata": {
        "colab": {
          "base_uri": "https://localhost:8080/"
        },
        "id": "2OBRPPgEA6S3",
        "outputId": "b1384fee-c9a3-4094-a3c3-0d9c5aa3089c"
      },
      "outputs": [
        {
          "name": "stdout",
          "output_type": "stream",
          "text": [
            "\n",
            "Relatório - Random Forest\n",
            "              precision    recall  f1-score   support\n",
            "\n",
            "       False       0.87      1.00      0.93        20\n",
            "        True       1.00      0.86      0.92        21\n",
            "\n",
            "    accuracy                           0.93        41\n",
            "   macro avg       0.93      0.93      0.93        41\n",
            "weighted avg       0.94      0.93      0.93        41\n",
            "\n"
          ]
        }
      ],
      "source": [
        "## Random Forest\n",
        "rf_model = RandomForestClassifier(\n",
        "    random_state=42,\n",
        "    max_depth=5,\n",
        "    min_samples_leaf=2,\n",
        "    n_estimators=700,\n",
        "    class_weight='balanced'\n",
        ")\n",
        "rf_model.fit(X_train, y_train)\n",
        "y_pred_rf = rf_model.predict(X_test)\n",
        "\n",
        "print(\"\\nRelatório - Random Forest\")\n",
        "print(classification_report(y_test, y_pred_rf))"
      ]
    },
    {
      "cell_type": "markdown",
      "id": "MDT7ua36IW5g",
      "metadata": {
        "id": "MDT7ua36IW5g"
      },
      "source": [
        "#### Análise de resultado:\n",
        "O modelo Random Forest apresentou **excelente desempenho** em termos de precisão, recall e F1-score para ambas as classes.\n",
        "\n",
        "Com o uso do parâmetro `class_weight='balanced'`, o modelo conseguiu lidar bem com o desbalanceamento dos dados, mostrando-se eficaz em **identificar tanto evasores quanto não evasores**.\n",
        "\n",
        "Esse resultado reforça o potencial da Random Forest como uma solução robusta e confiável para o problema de evasão."
      ]
    },
    {
      "cell_type": "markdown",
      "id": "rINiPjIGKFAy",
      "metadata": {
        "id": "rINiPjIGKFAy"
      },
      "source": [
        "Aqui comparamos graficamente os acertos e erros de cada modelo (Logistic Regression e Random Forest). As matrizes mostram quantos alunos foram corretamente ou incorretamente classificados como evadidos ou não evadidos."
      ]
    },
    {
      "cell_type": "code",
      "execution_count": 263,
      "id": "4s-7IMLPA_Nv",
      "metadata": {
        "colab": {
          "base_uri": "https://localhost:8080/",
          "height": 344
        },
        "id": "4s-7IMLPA_Nv",
        "outputId": "78f2d826-7214-41d6-f58f-5b69b93061b2"
      },
      "outputs": [
        {
          "data": {
            "image/png": "[encoded data removed]",
            "text/plain": [
              "<Figure size 1200x500 with 4 Axes>"
            ]
          },
          "metadata": {},
          "output_type": "display_data"
        }
      ],
      "source": [
        "# Matrizes de confusão\n",
        "conf_matrix_log = confusion_matrix(y_test, y_pred_log)\n",
        "conf_matrix_rf = confusion_matrix(y_test, y_pred_rf)\n",
        "\n",
        "# Visualização das matrizes de confusão\n",
        "plt.figure(figsize=(12, 5))\n",
        "\n",
        "plt.subplot(1, 2, 1)\n",
        "sns.heatmap(conf_matrix_log, annot=True, fmt=\"d\", cmap=\"Blues\")\n",
        "plt.title(\"Matriz de Confusão - Logistic Regression\")\n",
        "plt.xlabel(\"Previsto\")\n",
        "plt.ylabel(\"Real\")\n",
        "\n",
        "plt.subplot(1, 2, 2)\n",
        "sns.heatmap(conf_matrix_rf, annot=True, fmt=\"d\", cmap=\"Greens\")\n",
        "plt.title(\"Matriz de Confusão - Random Forest\")\n",
        "plt.xlabel(\"Previsto\")\n",
        "plt.ylabel(\"Real\")\n",
        "\n",
        "plt.tight_layout()\n",
        "plt.show()"
      ]
    },
    {
      "cell_type": "markdown",
      "id": "TkX_VMN5KRI5",
      "metadata": {
        "id": "TkX_VMN5KRI5"
      },
      "source": [
        "Utilizamos validação cruzada com 5 divisões (stratified) para avaliar a estabilidade dos modelos. O F1-score médio e o desvio padrão mostram se o desempenho se mantém consistente em diferentes partes do conjunto de treino."
      ]
    },
    {
      "cell_type": "code",
      "execution_count": 264,
      "id": "V2n_yfzpDhmc",
      "metadata": {
        "colab": {
          "base_uri": "https://localhost:8080/"
        },
        "id": "V2n_yfzpDhmc",
        "outputId": "984b3518-57c3-40ef-924a-09eb45447dd9"
      },
      "outputs": [
        {
          "name": "stdout",
          "output_type": "stream",
          "text": [
            "\n",
            "F1-score - Cross Validation\n",
            "Regressão Logística: 0.8071 ± 0.0850\n",
            "Random Forest: 0.9599 ± 0.0390\n"
          ]
        }
      ],
      "source": [
        "# Validação Cruzada para conferir estabilidade dos modelos\n",
        "cv = StratifiedKFold(n_splits=5, shuffle=True, random_state=42)\n",
        "\n",
        "scores_log = cross_val_score(log_model, X_train, y_train, cv=cv, scoring=\"f1\")\n",
        "scores_rf = cross_val_score(rf_model, X_train, y_train, cv=cv, scoring=\"f1\")\n",
        "\n",
        "print(\"\\nF1-score - Cross Validation\")\n",
        "print(f\"Regressão Logística: {scores_log.mean():.4f} ± {scores_log.std():.4f}\")\n",
        "print(f\"Random Forest: {scores_rf.mean():.4f} ± {scores_rf.std():.4f}\")"
      ]
    },
    {
      "cell_type": "markdown",
      "id": "gZ8O_sIvKdga",
      "metadata": {
        "id": "gZ8O_sIvKdga"
      },
      "source": [
        "A validação cruzada foi usada para verificar a **estabilidade e consistência dos modelos** em diferentes divisões dos dados de treino.\n",
        "\n",
        "Os resultados mostram que ambos os modelos apresentaram **desempenho estável**, com destaque para a Random Forest, que teve média de F1-score mais alta e baixa variação entre as dobras.\n",
        "\n",
        "Essa análise reforça a confiabilidade da Random Forest como uma das melhores opções para o problema de evasão."
      ]
    },
    {
      "cell_type": "markdown",
      "id": "HPw_ys5rMDFB",
      "metadata": {
        "id": "HPw_ys5rMDFB"
      },
      "source": [
        "### 7.3 Rede Neural"
      ]
    },
    {
      "cell_type": "markdown",
      "id": "fd5f69da",
      "metadata": {},
      "source": [
        "Implementamos um modelo de Rede Neural com duas camadas ocultas e Dropout para regularização, buscando capturar padrões ainda mais complexos."
      ]
    },
    {
      "cell_type": "code",
      "execution_count": null,
      "id": "jxTrSTd6MNe2",
      "metadata": {
        "colab": {
          "base_uri": "https://localhost:8080/"
        },
        "id": "jxTrSTd6MNe2",
        "outputId": "572910eb-e67f-41f3-fb31-3bd1d9298fbc"
      },
      "outputs": [
        {
          "name": "stderr",
          "output_type": "stream",
          "text": [
            "/usr/local/lib/python3.11/dist-packages/keras/src/layers/core/dense.py:87: UserWarning: Do not pass an `input_shape`/`input_dim` argument to a layer. When using Sequential models, prefer using an `Input(shape)` object as the first layer in the model instead.\n",
            "  super().__init__(activity_regularizer=activity_regularizer, **kwargs)\n"
          ]
        },
        {
          "name": "stdout",
          "output_type": "stream",
          "text": [
            "Epoch 1/100\n",
            "\u001b[1m9/9\u001b[0m \u001b[32m━━━━━━━━━━━━━━━━━━━━\u001b[0m\u001b[37m\u001b[0m \u001b[1m5s\u001b[0m 86ms/step - accuracy: 0.4811 - loss: 0.9695 - val_accuracy: 0.6364 - val_loss: 0.7923\n",
            "Epoch 2/100\n",
            "\u001b[1m9/9\u001b[0m \u001b[32m━━━━━━━━━━━━━━━━━━━━\u001b[0m\u001b[37m\u001b[0m \u001b[1m1s\u001b[0m 37ms/step - accuracy: 0.5181 - loss: 0.7670 - val_accuracy: 0.5152 - val_loss: 0.7256\n",
            "Epoch 3/100\n",
            "\u001b[1m9/9\u001b[0m \u001b[32m━━━━━━━━━━━━━━━━━━━━\u001b[0m\u001b[37m\u001b[0m \u001b[1m0s\u001b[0m 10ms/step - accuracy: 0.5686 - loss: 0.6931 - val_accuracy: 0.5455 - val_loss: 0.6870\n",
            "Epoch 4/100\n",
            "\u001b[1m9/9\u001b[0m \u001b[32m━━━━━━━━━━━━━━━━━━━━\u001b[0m\u001b[37m\u001b[0m \u001b[1m0s\u001b[0m 11ms/step - accuracy: 0.5812 - loss: 0.7341 - val_accuracy: 0.6364 - val_loss: 0.6547\n",
            "Epoch 5/100\n",
            "\u001b[1m9/9\u001b[0m \u001b[32m━━━━━━━━━━━━━━━━━━━━\u001b[0m\u001b[37m\u001b[0m \u001b[1m0s\u001b[0m 11ms/step - accuracy: 0.6561 - loss: 0.6340 - val_accuracy: 0.6364 - val_loss: 0.6324\n",
            "Epoch 6/100\n",
            "\u001b[1m9/9\u001b[0m \u001b[32m━━━━━━━━━━━━━━━━━━━━\u001b[0m\u001b[37m\u001b[0m \u001b[1m0s\u001b[0m 13ms/step - accuracy: 0.7639 - loss: 0.5859 - val_accuracy: 0.6667 - val_loss: 0.6184\n",
            "Epoch 7/100\n",
            "\u001b[1m9/9\u001b[0m \u001b[32m━━━━━━━━━━━━━━━━━━━━\u001b[0m\u001b[37m\u001b[0m \u001b[1m0s\u001b[0m 11ms/step - accuracy: 0.7487 - loss: 0.5818 - val_accuracy: 0.6667 - val_loss: 0.6083\n",
            "Epoch 8/100\n",
            "\u001b[1m9/9\u001b[0m \u001b[32m━━━━━━━━━━━━━━━━━━━━\u001b[0m\u001b[37m\u001b[0m \u001b[1m0s\u001b[0m 10ms/step - accuracy: 0.6756 - loss: 0.5757 - val_accuracy: 0.6364 - val_loss: 0.5953\n",
            "Epoch 9/100\n",
            "\u001b[1m9/9\u001b[0m \u001b[32m━━━━━━━━━━━━━━━━━━━━\u001b[0m\u001b[37m\u001b[0m \u001b[1m0s\u001b[0m 10ms/step - accuracy: 0.7483 - loss: 0.5356 - val_accuracy: 0.6667 - val_loss: 0.5793\n",
            "Epoch 10/100\n",
            "\u001b[1m9/9\u001b[0m \u001b[32m━━━━━━━━━━━━━━━━━━━━\u001b[0m\u001b[37m\u001b[0m \u001b[1m0s\u001b[0m 11ms/step - accuracy: 0.6866 - loss: 0.5605 - val_accuracy: 0.6667 - val_loss: 0.5638\n",
            "Epoch 11/100\n",
            "\u001b[1m9/9\u001b[0m \u001b[32m━━━━━━━━━━━━━━━━━━━━\u001b[0m\u001b[37m\u001b[0m \u001b[1m0s\u001b[0m 10ms/step - accuracy: 0.7267 - loss: 0.5251 - val_accuracy: 0.6667 - val_loss: 0.5572\n",
            "Epoch 12/100\n",
            "\u001b[1m9/9\u001b[0m \u001b[32m━━━━━━━━━━━━━━━━━━━━\u001b[0m\u001b[37m\u001b[0m \u001b[1m0s\u001b[0m 11ms/step - accuracy: 0.7316 - loss: 0.5078 - val_accuracy: 0.6364 - val_loss: 0.5590\n",
            "Epoch 13/100\n",
            "\u001b[1m9/9\u001b[0m \u001b[32m━━━━━━━━━━━━━━━━━━━━\u001b[0m\u001b[37m\u001b[0m \u001b[1m0s\u001b[0m 10ms/step - accuracy: 0.7057 - loss: 0.5278 - val_accuracy: 0.6667 - val_loss: 0.5492\n",
            "Epoch 14/100\n",
            "\u001b[1m9/9\u001b[0m \u001b[32m━━━━━━━━━━━━━━━━━━━━\u001b[0m\u001b[37m\u001b[0m \u001b[1m0s\u001b[0m 12ms/step - accuracy: 0.6795 - loss: 0.5252 - val_accuracy: 0.6364 - val_loss: 0.5285\n",
            "Epoch 15/100\n",
            "\u001b[1m9/9\u001b[0m \u001b[32m━━━━━━━━━━━━━━━━━━━━\u001b[0m\u001b[37m\u001b[0m \u001b[1m0s\u001b[0m 10ms/step - accuracy: 0.7602 - loss: 0.5137 - val_accuracy: 0.6667 - val_loss: 0.5166\n",
            "Epoch 16/100\n",
            "\u001b[1m9/9\u001b[0m \u001b[32m━━━━━━━━━━━━━━━━━━━━\u001b[0m\u001b[37m\u001b[0m \u001b[1m0s\u001b[0m 10ms/step - accuracy: 0.7439 - loss: 0.4666 - val_accuracy: 0.6667 - val_loss: 0.5185\n",
            "Epoch 17/100\n",
            "\u001b[1m9/9\u001b[0m \u001b[32m━━━━━━━━━━━━━━━━━━━━\u001b[0m\u001b[37m\u001b[0m \u001b[1m0s\u001b[0m 11ms/step - accuracy: 0.7465 - loss: 0.4565 - val_accuracy: 0.6667 - val_loss: 0.5051\n",
            "Epoch 18/100\n",
            "\u001b[1m9/9\u001b[0m \u001b[32m━━━━━━━━━━━━━━━━━━━━\u001b[0m\u001b[37m\u001b[0m \u001b[1m0s\u001b[0m 10ms/step - accuracy: 0.7131 - loss: 0.4726 - val_accuracy: 0.6667 - val_loss: 0.4990\n",
            "Epoch 19/100\n",
            "\u001b[1m9/9\u001b[0m \u001b[32m━━━━━━━━━━━━━━━━━━━━\u001b[0m\u001b[37m\u001b[0m \u001b[1m0s\u001b[0m 10ms/step - accuracy: 0.7640 - loss: 0.4723 - val_accuracy: 0.6667 - val_loss: 0.5044\n",
            "Epoch 20/100\n",
            "\u001b[1m9/9\u001b[0m \u001b[32m━━━━━━━━━━━━━━━━━━━━\u001b[0m\u001b[37m\u001b[0m \u001b[1m0s\u001b[0m 11ms/step - accuracy: 0.8201 - loss: 0.4193 - val_accuracy: 0.6667 - val_loss: 0.4952\n",
            "Epoch 21/100\n",
            "\u001b[1m9/9\u001b[0m \u001b[32m━━━━━━━━━━━━━━━━━━━━\u001b[0m\u001b[37m\u001b[0m \u001b[1m0s\u001b[0m 11ms/step - accuracy: 0.7061 - loss: 0.4528 - val_accuracy: 0.6667 - val_loss: 0.4895\n",
            "Epoch 22/100\n",
            "\u001b[1m9/9\u001b[0m \u001b[32m━━━━━━━━━━━━━━━━━━━━\u001b[0m\u001b[37m\u001b[0m \u001b[1m0s\u001b[0m 11ms/step - accuracy: 0.8391 - loss: 0.4094 - val_accuracy: 0.6667 - val_loss: 0.4977\n",
            "Epoch 23/100\n",
            "\u001b[1m9/9\u001b[0m \u001b[32m━━━━━━━━━━━━━━━━━━━━\u001b[0m\u001b[37m\u001b[0m \u001b[1m0s\u001b[0m 10ms/step - accuracy: 0.7859 - loss: 0.4485 - val_accuracy: 0.7273 - val_loss: 0.4934\n",
            "Epoch 24/100\n",
            "\u001b[1m9/9\u001b[0m \u001b[32m━━━━━━━━━━━━━━━━━━━━\u001b[0m\u001b[37m\u001b[0m \u001b[1m0s\u001b[0m 10ms/step - accuracy: 0.8000 - loss: 0.4082 - val_accuracy: 0.7273 - val_loss: 0.4842\n",
            "Epoch 25/100\n",
            "\u001b[1m9/9\u001b[0m \u001b[32m━━━━━━━━━━━━━━━━━━━━\u001b[0m\u001b[37m\u001b[0m \u001b[1m0s\u001b[0m 10ms/step - accuracy: 0.8605 - loss: 0.3956 - val_accuracy: 0.7576 - val_loss: 0.4670\n",
            "Epoch 26/100\n",
            "\u001b[1m9/9\u001b[0m \u001b[32m━━━━━━━━━━━━━━━━━━━━\u001b[0m\u001b[37m\u001b[0m \u001b[1m0s\u001b[0m 10ms/step - accuracy: 0.7452 - loss: 0.4360 - val_accuracy: 0.7576 - val_loss: 0.4636\n",
            "Epoch 27/100\n",
            "\u001b[1m9/9\u001b[0m \u001b[32m━━━━━━━━━━━━━━━━━━━━\u001b[0m\u001b[37m\u001b[0m \u001b[1m0s\u001b[0m 10ms/step - accuracy: 0.7684 - loss: 0.4179 - val_accuracy: 0.7576 - val_loss: 0.4754\n",
            "Epoch 28/100\n",
            "\u001b[1m9/9\u001b[0m \u001b[32m━━━━━━━━━━━━━━━━━━━━\u001b[0m\u001b[37m\u001b[0m \u001b[1m0s\u001b[0m 10ms/step - accuracy: 0.8236 - loss: 0.4189 - val_accuracy: 0.7576 - val_loss: 0.4711\n",
            "Epoch 29/100\n",
            "\u001b[1m9/9\u001b[0m \u001b[32m━━━━━━━━━━━━━━━━━━━━\u001b[0m\u001b[37m\u001b[0m \u001b[1m0s\u001b[0m 10ms/step - accuracy: 0.7904 - loss: 0.3882 - val_accuracy: 0.8788 - val_loss: 0.4572\n",
            "Epoch 30/100\n",
            "\u001b[1m9/9\u001b[0m \u001b[32m━━━━━━━━━━━━━━━━━━━━\u001b[0m\u001b[37m\u001b[0m \u001b[1m0s\u001b[0m 10ms/step - accuracy: 0.7534 - loss: 0.4102 - val_accuracy: 0.7576 - val_loss: 0.4647\n",
            "Epoch 31/100\n",
            "\u001b[1m9/9\u001b[0m \u001b[32m━━━━━━━━━━━━━━━━━━━━\u001b[0m\u001b[37m\u001b[0m \u001b[1m0s\u001b[0m 16ms/step - accuracy: 0.8449 - loss: 0.3686 - val_accuracy: 0.7576 - val_loss: 0.4624\n",
            "Epoch 32/100\n",
            "\u001b[1m9/9\u001b[0m \u001b[32m━━━━━━━━━━━━━━━━━━━━\u001b[0m\u001b[37m\u001b[0m \u001b[1m0s\u001b[0m 10ms/step - accuracy: 0.8361 - loss: 0.3785 - val_accuracy: 0.7576 - val_loss: 0.4848\n",
            "Epoch 33/100\n",
            "\u001b[1m9/9\u001b[0m \u001b[32m━━━━━━━━━━━━━━━━━━━━\u001b[0m\u001b[37m\u001b[0m \u001b[1m0s\u001b[0m 10ms/step - accuracy: 0.8316 - loss: 0.3550 - val_accuracy: 0.7879 - val_loss: 0.4667\n",
            "Epoch 34/100\n",
            "\u001b[1m9/9\u001b[0m \u001b[32m━━━━━━━━━━━━━━━━━━━━\u001b[0m\u001b[37m\u001b[0m \u001b[1m0s\u001b[0m 10ms/step - accuracy: 0.7692 - loss: 0.3963 - val_accuracy: 0.7879 - val_loss: 0.4593\n",
            "Epoch 35/100\n",
            "\u001b[1m9/9\u001b[0m \u001b[32m━━━━━━━━━━━━━━━━━━━━\u001b[0m\u001b[37m\u001b[0m \u001b[1m0s\u001b[0m 11ms/step - accuracy: 0.8121 - loss: 0.3724 - val_accuracy: 0.7879 - val_loss: 0.4757\n",
            "Epoch 36/100\n",
            "\u001b[1m9/9\u001b[0m \u001b[32m━━━━━━━━━━━━━━━━━━━━\u001b[0m\u001b[37m\u001b[0m \u001b[1m0s\u001b[0m 10ms/step - accuracy: 0.7777 - loss: 0.3798 - val_accuracy: 0.9091 - val_loss: 0.4410\n",
            "Epoch 37/100\n",
            "\u001b[1m9/9\u001b[0m \u001b[32m━━━━━━━━━━━━━━━━━━━━\u001b[0m\u001b[37m\u001b[0m \u001b[1m0s\u001b[0m 10ms/step - accuracy: 0.8500 - loss: 0.3435 - val_accuracy: 0.8182 - val_loss: 0.4435\n",
            "Epoch 38/100\n",
            "\u001b[1m9/9\u001b[0m \u001b[32m━━━━━━━━━━━━━━━━━━━━\u001b[0m\u001b[37m\u001b[0m \u001b[1m0s\u001b[0m 11ms/step - accuracy: 0.8279 - loss: 0.3899 - val_accuracy: 0.7879 - val_loss: 0.4549\n",
            "Epoch 39/100\n",
            "\u001b[1m9/9\u001b[0m \u001b[32m━━━━━━━━━━━━━━━━━━━━\u001b[0m\u001b[37m\u001b[0m \u001b[1m0s\u001b[0m 13ms/step - accuracy: 0.8041 - loss: 0.3425 - val_accuracy: 0.7879 - val_loss: 0.4440\n",
            "Epoch 40/100\n",
            "\u001b[1m9/9\u001b[0m \u001b[32m━━━━━━━━━━━━━━━━━━━━\u001b[0m\u001b[37m\u001b[0m \u001b[1m0s\u001b[0m 10ms/step - accuracy: 0.8344 - loss: 0.3850 - val_accuracy: 0.7576 - val_loss: 0.4572\n",
            "Epoch 41/100\n",
            "\u001b[1m9/9\u001b[0m \u001b[32m━━━━━━━━━━━━━━━━━━━━\u001b[0m\u001b[37m\u001b[0m \u001b[1m0s\u001b[0m 11ms/step - accuracy: 0.8313 - loss: 0.3156 - val_accuracy: 0.7576 - val_loss: 0.4522\n",
            "Epoch 42/100\n",
            "\u001b[1m9/9\u001b[0m \u001b[32m━━━━━━━━━━━━━━━━━━━━\u001b[0m\u001b[37m\u001b[0m \u001b[1m0s\u001b[0m 10ms/step - accuracy: 0.8503 - loss: 0.3523 - val_accuracy: 0.9091 - val_loss: 0.4260\n",
            "Epoch 43/100\n",
            "\u001b[1m9/9\u001b[0m \u001b[32m━━━━━━━━━━━━━━━━━━━━\u001b[0m\u001b[37m\u001b[0m \u001b[1m0s\u001b[0m 11ms/step - accuracy: 0.8542 - loss: 0.3198 - val_accuracy: 0.9091 - val_loss: 0.4333\n",
            "Epoch 44/100\n",
            "\u001b[1m9/9\u001b[0m \u001b[32m━━━━━━━━━━━━━━━━━━━━\u001b[0m\u001b[37m\u001b[0m \u001b[1m0s\u001b[0m 10ms/step - accuracy: 0.8728 - loss: 0.3022 - val_accuracy: 0.7576 - val_loss: 0.4463\n",
            "Epoch 45/100\n",
            "\u001b[1m9/9\u001b[0m \u001b[32m━━━━━━━━━━━━━━━━━━━━\u001b[0m\u001b[37m\u001b[0m \u001b[1m0s\u001b[0m 10ms/step - accuracy: 0.8140 - loss: 0.3552 - val_accuracy: 0.7879 - val_loss: 0.4431\n",
            "Epoch 46/100\n",
            "\u001b[1m9/9\u001b[0m \u001b[32m━━━━━━━━━━━━━━━━━━━━\u001b[0m\u001b[37m\u001b[0m \u001b[1m0s\u001b[0m 10ms/step - accuracy: 0.8166 - loss: 0.3474 - val_accuracy: 0.8485 - val_loss: 0.4350\n",
            "Epoch 47/100\n",
            "\u001b[1m9/9\u001b[0m \u001b[32m━━━━━━━━━━━━━━━━━━━━\u001b[0m\u001b[37m\u001b[0m \u001b[1m0s\u001b[0m 16ms/step - accuracy: 0.8987 - loss: 0.2764 - val_accuracy: 0.7576 - val_loss: 0.4502\n",
            "Epoch 48/100\n",
            "\u001b[1m9/9\u001b[0m \u001b[32m━━━━━━━━━━━━━━━━━━━━\u001b[0m\u001b[37m\u001b[0m \u001b[1m0s\u001b[0m 11ms/step - accuracy: 0.8479 - loss: 0.3066 - val_accuracy: 0.8182 - val_loss: 0.4439\n",
            "Epoch 49/100\n",
            "\u001b[1m9/9\u001b[0m \u001b[32m━━━━━━━━━━━━━━━━━━━━\u001b[0m\u001b[37m\u001b[0m \u001b[1m0s\u001b[0m 10ms/step - accuracy: 0.8449 - loss: 0.3676 - val_accuracy: 0.9394 - val_loss: 0.4388\n",
            "Epoch 50/100\n",
            "\u001b[1m9/9\u001b[0m \u001b[32m━━━━━━━━━━━━━━━━━━━━\u001b[0m\u001b[37m\u001b[0m \u001b[1m0s\u001b[0m 10ms/step - accuracy: 0.8662 - loss: 0.3225 - val_accuracy: 0.9697 - val_loss: 0.4148\n",
            "Epoch 51/100\n",
            "\u001b[1m9/9\u001b[0m \u001b[32m━━━━━━━━━━━━━━━━━━━━\u001b[0m\u001b[37m\u001b[0m \u001b[1m0s\u001b[0m 10ms/step - accuracy: 0.9298 - loss: 0.2919 - val_accuracy: 0.9697 - val_loss: 0.4067\n",
            "Epoch 52/100\n",
            "\u001b[1m9/9\u001b[0m \u001b[32m━━━━━━━━━━━━━━━━━━━━\u001b[0m\u001b[37m\u001b[0m \u001b[1m0s\u001b[0m 10ms/step - accuracy: 0.8614 - loss: 0.3215 - val_accuracy: 0.9697 - val_loss: 0.4274\n",
            "Epoch 53/100\n",
            "\u001b[1m9/9\u001b[0m \u001b[32m━━━━━━━━━━━━━━━━━━━━\u001b[0m\u001b[37m\u001b[0m \u001b[1m0s\u001b[0m 10ms/step - accuracy: 0.8401 - loss: 0.3312 - val_accuracy: 0.8485 - val_loss: 0.4406\n",
            "Epoch 54/100\n",
            "\u001b[1m9/9\u001b[0m \u001b[32m━━━━━━━━━━━━━━━━━━━━\u001b[0m\u001b[37m\u001b[0m \u001b[1m0s\u001b[0m 16ms/step - accuracy: 0.8141 - loss: 0.3317 - val_accuracy: 0.9697 - val_loss: 0.4104\n",
            "Epoch 55/100\n",
            "\u001b[1m9/9\u001b[0m \u001b[32m━━━━━━━━━━━━━━━━━━━━\u001b[0m\u001b[37m\u001b[0m \u001b[1m0s\u001b[0m 12ms/step - accuracy: 0.8460 - loss: 0.3094 - val_accuracy: 0.9697 - val_loss: 0.4068\n",
            "Epoch 56/100\n",
            "\u001b[1m9/9\u001b[0m \u001b[32m━━━━━━━━━━━━━━━━━━━━\u001b[0m\u001b[37m\u001b[0m \u001b[1m0s\u001b[0m 10ms/step - accuracy: 0.9222 - loss: 0.2534 - val_accuracy: 0.9697 - val_loss: 0.4006\n",
            "Epoch 57/100\n",
            "\u001b[1m9/9\u001b[0m \u001b[32m━━━━━━━━━━━━━━━━━━━━\u001b[0m\u001b[37m\u001b[0m \u001b[1m0s\u001b[0m 11ms/step - accuracy: 0.8415 - loss: 0.2870 - val_accuracy: 0.8485 - val_loss: 0.4569\n",
            "Epoch 58/100\n",
            "\u001b[1m9/9\u001b[0m \u001b[32m━━━━━━━━━━━━━━━━━━━━\u001b[0m\u001b[37m\u001b[0m \u001b[1m0s\u001b[0m 16ms/step - accuracy: 0.8186 - loss: 0.3382 - val_accuracy: 0.8485 - val_loss: 0.4506\n",
            "Epoch 59/100\n",
            "\u001b[1m9/9\u001b[0m \u001b[32m━━━━━━━━━━━━━━━━━━━━\u001b[0m\u001b[37m\u001b[0m \u001b[1m0s\u001b[0m 19ms/step - accuracy: 0.8473 - loss: 0.3329 - val_accuracy: 0.9697 - val_loss: 0.4167\n",
            "Epoch 60/100\n",
            "\u001b[1m9/9\u001b[0m \u001b[32m━━━━━━━━━━━━━━━━━━━━\u001b[0m\u001b[37m\u001b[0m \u001b[1m0s\u001b[0m 18ms/step - accuracy: 0.8941 - loss: 0.2863 - val_accuracy: 0.8485 - val_loss: 0.4353\n",
            "Epoch 61/100\n",
            "\u001b[1m9/9\u001b[0m \u001b[32m━━━━━━━━━━━━━━━━━━━━\u001b[0m\u001b[37m\u001b[0m \u001b[1m0s\u001b[0m 18ms/step - accuracy: 0.9149 - loss: 0.2709 - val_accuracy: 0.9697 - val_loss: 0.4016\n",
            "Epoch 62/100\n",
            "\u001b[1m9/9\u001b[0m \u001b[32m━━━━━━━━━━━━━━━━━━━━\u001b[0m\u001b[37m\u001b[0m \u001b[1m0s\u001b[0m 15ms/step - accuracy: 0.8868 - loss: 0.2752 - val_accuracy: 0.9697 - val_loss: 0.4141\n",
            "Epoch 63/100\n",
            "\u001b[1m9/9\u001b[0m \u001b[32m━━━━━━━━━━━━━━━━━━━━\u001b[0m\u001b[37m\u001b[0m \u001b[1m0s\u001b[0m 14ms/step - accuracy: 0.8816 - loss: 0.2955 - val_accuracy: 0.9697 - val_loss: 0.4087\n",
            "Epoch 64/100\n",
            "\u001b[1m9/9\u001b[0m \u001b[32m━━━━━━━━━━━━━━━━━━━━\u001b[0m\u001b[37m\u001b[0m \u001b[1m0s\u001b[0m 19ms/step - accuracy: 0.8874 - loss: 0.2607 - val_accuracy: 0.8788 - val_loss: 0.4364\n",
            "Epoch 65/100\n",
            "\u001b[1m9/9\u001b[0m \u001b[32m━━━━━━━━━━━━━━━━━━━━\u001b[0m\u001b[37m\u001b[0m \u001b[1m0s\u001b[0m 15ms/step - accuracy: 0.9115 - loss: 0.2711 - val_accuracy: 0.9697 - val_loss: 0.4097\n",
            "Epoch 66/100\n",
            "\u001b[1m9/9\u001b[0m \u001b[32m━━━━━━━━━━━━━━━━━━━━\u001b[0m\u001b[37m\u001b[0m \u001b[1m0s\u001b[0m 20ms/step - accuracy: 0.9095 - loss: 0.2276 - val_accuracy: 0.9697 - val_loss: 0.4216\n"
          ]
        }
      ],
      "source": [
        "# Criação do modelo\n",
        "model = Sequential()\n",
        "model.add(Dense(64, activation='relu', input_shape=(X_train.shape[1],)))\n",
        "model.add(Dropout(0.3))\n",
        "model.add(Dense(32, activation='relu'))\n",
        "model.add(Dropout(0.2))\n",
        "model.add(Dense(1, activation='sigmoid'))  # saída binária\n",
        "\n",
        "# Compilação\n",
        "model.compile(optimizer=Adam(learning_rate=0.001), loss='binary_crossentropy', metrics=['accuracy'])\n",
        "\n",
        "# Early stopping para evitar overfitting\n",
        "early_stop = EarlyStopping(monitor='val_loss', patience=10, restore_best_weights=True)\n",
        "\n",
        "# Treinamento\n",
        "history = model.fit(\n",
        "    X_train, y_train,\n",
        "    validation_split=0.2,\n",
        "    epochs=100,\n",
        "    batch_size=16,\n",
        "    callbacks=[early_stop],\n",
        "    verbose=1\n",
        ")"
      ]
    },
    {
      "cell_type": "code",
      "execution_count": 267,
      "id": "Daw0oWIlMl9-",
      "metadata": {
        "colab": {
          "base_uri": "https://localhost:8080/"
        },
        "id": "Daw0oWIlMl9-",
        "outputId": "d5c8b2f1-f746-403d-a09a-5f0fe31084fe"
      },
      "outputs": [
        {
          "name": "stdout",
          "output_type": "stream",
          "text": [
            "\n",
            "Rede Neural - Accuracy no teste: 0.8537\n"
          ]
        }
      ],
      "source": [
        "# Avaliar no conjunto de teste\n",
        "loss, accuracy = model.evaluate(X_test, y_test, verbose=0)\n",
        "print(f\"\\nRede Neural - Accuracy no teste: {accuracy:.4f}\")"
      ]
    },
    {
      "cell_type": "markdown",
      "id": "ywyaF8VV5NKv",
      "metadata": {
        "id": "ywyaF8VV5NKv"
      },
      "source": [
        "### Métricas complementares da Rede Neural\n",
        "\n",
        "Acurácia sozinha pode ser enganosa em dados desbalanceados.  \n",
        "Aqui, adicionamos o **F1-score** para avaliar o equilíbrio entre precisão e recall.\n"
      ]
    },
    {
      "cell_type": "code",
      "execution_count": 268,
      "id": "BJPSp5XS5PHc",
      "metadata": {
        "colab": {
          "base_uri": "https://localhost:8080/"
        },
        "id": "BJPSp5XS5PHc",
        "outputId": "70784cd7-96c1-4d92-cc5d-b30ac9827668"
      },
      "outputs": [
        {
          "name": "stdout",
          "output_type": "stream",
          "text": [
            "\u001b[1m2/2\u001b[0m \u001b[32m━━━━━━━━━━━━━━━━━━━━\u001b[0m\u001b[37m\u001b[0m \u001b[1m0s\u001b[0m 52ms/step\n",
            "F1-score da Rede Neural no teste: 0.8571\n"
          ]
        }
      ],
      "source": [
        "# Calcular F1-score no conjunto de teste\n",
        "from sklearn.metrics import f1_score, classification_report\n",
        "\n",
        "y_pred_nn = (model.predict(X_test) > 0.5).astype(int)\n",
        "\n",
        "f1 = f1_score(y_test, y_pred_nn)\n",
        "print(f\"F1-score da Rede Neural no teste: {f1:.4f}\")"
      ]
    },
    {
      "cell_type": "code",
      "execution_count": 269,
      "id": "oz26Po5j5bPI",
      "metadata": {
        "colab": {
          "base_uri": "https://localhost:8080/"
        },
        "id": "oz26Po5j5bPI",
        "outputId": "7bde8869-131b-42b2-81f1-fff8d708dbbf"
      },
      "outputs": [
        {
          "name": "stdout",
          "output_type": "stream",
          "text": [
            "              precision    recall  f1-score   support\n",
            "\n",
            "       False       0.85      0.85      0.85        20\n",
            "        True       0.86      0.86      0.86        21\n",
            "\n",
            "    accuracy                           0.85        41\n",
            "   macro avg       0.85      0.85      0.85        41\n",
            "weighted avg       0.85      0.85      0.85        41\n",
            "\n"
          ]
        }
      ],
      "source": [
        "# (opcional) Relatório completo\n",
        "print(classification_report(y_test, y_pred_nn))"
      ]
    },
    {
      "cell_type": "markdown",
      "id": "VsVFM8tW5RAC",
      "metadata": {
        "id": "VsVFM8tW5RAC"
      },
      "source": [
        "#### Análise do Resultado\n",
        "O modelo está ótimo em recall para evasores (identifica bem quem vai evadir)\n",
        "\n",
        "A precisão é um pouco menor, ou seja, ele erra algumas vezes prevendo evasão onde não há (falsos positivos)\n",
        "\n",
        "Isso é bom para casos onde é melhor prevenir do que remediar — como alertar risco de evasão"
      ]
    },
    {
      "cell_type": "markdown",
      "id": "c31fb9c9",
      "metadata": {},
      "source": [
        "## 8. Validação e Comparação dos Modelos"
      ]
    },
    {
      "cell_type": "markdown",
      "id": "kHN1cnPv7zf1",
      "metadata": {
        "id": "kHN1cnPv7zf1"
      },
      "source": [
        "### 8.1 Matriz de Confusão - Rede Neural\n",
        "\n",
        "A matriz de confusão mostra que a rede neural conseguiu identificar bem os dois grupos: alunos que evadiram e os que permaneceram ativos.\n",
        "\n",
        "Observamos um bom equilíbrio entre **falsos positivos** e **falsos negativos**, o que indica que o modelo está **conseguindo capturar os padrões de evasão de forma eficaz**, mesmo com o desbalanceamento entre as classes.\n",
        "\n",
        "Essa visualização reforça que a rede está aprendendo de forma coerente com a distribuição dos dados."
      ]
    },
    {
      "cell_type": "code",
      "execution_count": 270,
      "id": "Me2gD-kROY86",
      "metadata": {
        "colab": {
          "base_uri": "https://localhost:8080/",
          "height": 427
        },
        "id": "Me2gD-kROY86",
        "outputId": "1489fc3c-909e-4e0c-e552-d0343e40dfc8"
      },
      "outputs": [
        {
          "name": "stdout",
          "output_type": "stream",
          "text": [
            "\u001b[1m2/2\u001b[0m \u001b[32m━━━━━━━━━━━━━━━━━━━━\u001b[0m\u001b[37m\u001b[0m \u001b[1m0s\u001b[0m 19ms/step\n"
          ]
        },
        {
          "data": {
            "image/png": "[encoded data removed]",
            "text/plain": [
              "<Figure size 500x400 with 2 Axes>"
            ]
          },
          "metadata": {},
          "output_type": "display_data"
        }
      ],
      "source": [
        "from sklearn.metrics import confusion_matrix\n",
        "\n",
        "# Previsão\n",
        "y_pred_nn = model.predict(X_test)\n",
        "y_pred_nn_classes = (y_pred_nn > 0.5).astype(\"int\")\n",
        "\n",
        "# Matriz de confusão\n",
        "conf_matrix_nn = confusion_matrix(y_test, y_pred_nn_classes)\n",
        "\n",
        "# Visualização\n",
        "plt.figure(figsize=(5, 4))\n",
        "sns.heatmap(conf_matrix_nn, annot=True, fmt=\"d\", cmap=\"Purples\")\n",
        "plt.title(\"Matriz de Confusão - Rede Neural\")\n",
        "plt.xlabel(\"Previsto\")\n",
        "plt.ylabel(\"Real\")\n",
        "plt.show()\n"
      ]
    },
    {
      "cell_type": "markdown",
      "id": "yZO1ZzYM8U-6",
      "metadata": {
        "id": "yZO1ZzYM8U-6"
      },
      "source": [
        "### 8.2 Evolução da Acurácia\n",
        "O gráfico mostra que a acurácia aumentou consistentemente ao longo das épocas, tanto no treino quanto na validação. Isso indica que o modelo está aprendendo bem, sem sinais evidentes de overfitting, já que as curvas permanecem próximas."
      ]
    },
    {
      "cell_type": "code",
      "execution_count": 271,
      "id": "np27xnl9lHVq",
      "metadata": {
        "colab": {
          "base_uri": "https://localhost:8080/",
          "height": 474
        },
        "id": "np27xnl9lHVq",
        "outputId": "04ddb8dc-a30a-45cc-e06b-1b2c7b5d7fb3"
      },
      "outputs": [
        {
          "data": {
            "image/png": "[encoded data removed]",
            "text/plain": [
              "<Figure size 640x480 with 1 Axes>"
            ]
          },
          "metadata": {},
          "output_type": "display_data"
        }
      ],
      "source": [
        "import matplotlib.pyplot as plt\n",
        "\n",
        "# Plotando a acurácia e perda durante o treinamento\n",
        "plt.plot(history.history['accuracy'], label='Acurácia - Treino')\n",
        "plt.plot(history.history['val_accuracy'], label='Acurácia - Validação')\n",
        "plt.xlabel('Épocas')\n",
        "plt.ylabel('Acurácia')\n",
        "plt.legend()\n",
        "plt.title('Evolução da Acurácia')\n",
        "plt.show()"
      ]
    },
    {
      "cell_type": "markdown",
      "id": "62V1fLl-gH9e",
      "metadata": {
        "id": "62V1fLl-gH9e"
      },
      "source": [
        "##  9. Avaliação final no conjunto de teste real"
      ]
    },
    {
      "cell_type": "markdown",
      "id": "5a79fd08",
      "metadata": {},
      "source": [
        "Esta é a etapa mais importante: validar nosso melhor modelo em um conjunto de dados completamente novo, que simula um ambiente de produção."
      ]
    },
    {
      "cell_type": "markdown",
      "id": "85186d19",
      "metadata": {},
      "source": [
        "### 9.1 Preparação dos Dados de Teste"
      ]
    },
    {
      "cell_type": "markdown",
      "id": "e393bb0d",
      "metadata": {},
      "source": [
        "Aplicamos exatamente os mesmos passos de limpeza e pré-processamento que foram usados nos dados de treino."
      ]
    },
    {
      "cell_type": "code",
      "execution_count": null,
      "id": "YzOCtZrMhdUk",
      "metadata": {
        "id": "YzOCtZrMhdUk"
      },
      "outputs": [],
      "source": [
        "df_teste_real = pd.read_csv(\"dados_projeto_evasao_teste - Copia.csv\")"
      ]
    },
    {
      "cell_type": "code",
      "execution_count": null,
      "id": "NcCMc_d1rh4Y",
      "metadata": {
        "colab": {
          "base_uri": "https://localhost:8080/",
          "height": 273
        },
        "id": "NcCMc_d1rh4Y",
        "outputId": "19cde066-412b-4d16-df0d-9abb3ebc4f91"
      },
      "outputs": [
        {
          "data": {
            "application/vnd.google.colaboratory.intrinsic+json": {
              "type": "dataframe",
              "variable_name": "df_teste_real"
            },
            "text/html": [
              "\n",
              "  <div id=\"df-5298ec65-181a-4aa0-b7ca-7eab7009a3ca\" class=\"colab-df-container\">\n",
              "    <div>\n",
              "<style scoped>\n",
              "    .dataframe tbody tr th:only-of-type {\n",
              "        vertical-align: middle;\n",
              "    }\n",
              "\n",
              "    .dataframe tbody tr th {\n",
              "        vertical-align: top;\n",
              "    }\n",
              "\n",
              "    .dataframe thead th {\n",
              "        text-align: right;\n",
              "    }\n",
              "</style>\n",
              "<table border=\"1\" class=\"dataframe\">\n",
              "  <thead>\n",
              "    <tr style=\"text-align: right;\">\n",
              "      <th></th>\n",
              "      <th>Unnamed: 0</th>\n",
              "      <th>ds_cidade_usuario</th>\n",
              "      <th>ts_primeiro_acesso</th>\n",
              "      <th>ts_ultimo_acesso</th>\n",
              "      <th>nr_dias_desde_primeiro_acesso</th>\n",
              "      <th>nr_dias_desde_ultimo_acesso</th>\n",
              "      <th>nr_atividades_sinalizadas</th>\n",
              "      <th>nr_atividades_mapeadas</th>\n",
              "      <th>nr_discussoes_forum_postadas</th>\n",
              "      <th>nr_questionarios_abandonados</th>\n",
              "      <th>...</th>\n",
              "      <th>nr_questoes_parciais</th>\n",
              "      <th>vl_desempenho_usuario</th>\n",
              "      <th>vl_media_questoes_por_dia</th>\n",
              "      <th>vl_engajamento_notas</th>\n",
              "      <th>nr_itens_avaliados</th>\n",
              "      <th>nr_itens_nao_respondidos</th>\n",
              "      <th>vl_media_notas</th>\n",
              "      <th>nr_submissoes_codigo</th>\n",
              "      <th>vl_media_submissoes_codigo</th>\n",
              "      <th>vl_submissoes_por_dias_ativos</th>\n",
              "    </tr>\n",
              "  </thead>\n",
              "  <tbody>\n",
              "    <tr>\n",
              "      <th>0</th>\n",
              "      <td>361</td>\n",
              "      <td>Campinas</td>\n",
              "      <td>1693227920</td>\n",
              "      <td>1693228016</td>\n",
              "      <td>14</td>\n",
              "      <td>14</td>\n",
              "      <td>0</td>\n",
              "      <td>0</td>\n",
              "      <td>0</td>\n",
              "      <td>0</td>\n",
              "      <td>...</td>\n",
              "      <td>0</td>\n",
              "      <td>NaN</td>\n",
              "      <td>NaN</td>\n",
              "      <td>NaN</td>\n",
              "      <td>0</td>\n",
              "      <td>0</td>\n",
              "      <td>NaN</td>\n",
              "      <td>0</td>\n",
              "      <td>NaN</td>\n",
              "      <td>NaN</td>\n",
              "    </tr>\n",
              "    <tr>\n",
              "      <th>1</th>\n",
              "      <td>73</td>\n",
              "      <td>Holambra</td>\n",
              "      <td>1661542019</td>\n",
              "      <td>1662149939</td>\n",
              "      <td>381</td>\n",
              "      <td>374</td>\n",
              "      <td>0</td>\n",
              "      <td>14</td>\n",
              "      <td>0</td>\n",
              "      <td>0</td>\n",
              "      <td>...</td>\n",
              "      <td>0</td>\n",
              "      <td>0.133333</td>\n",
              "      <td>0.3061</td>\n",
              "      <td>0.1633</td>\n",
              "      <td>15</td>\n",
              "      <td>144</td>\n",
              "      <td>0.133333</td>\n",
              "      <td>0</td>\n",
              "      <td>NaN</td>\n",
              "      <td>NaN</td>\n",
              "    </tr>\n",
              "    <tr>\n",
              "      <th>2</th>\n",
              "      <td>374</td>\n",
              "      <td>Campinas</td>\n",
              "      <td>1693578285</td>\n",
              "      <td>1694298462</td>\n",
              "      <td>10</td>\n",
              "      <td>2</td>\n",
              "      <td>0</td>\n",
              "      <td>0</td>\n",
              "      <td>0</td>\n",
              "      <td>0</td>\n",
              "      <td>...</td>\n",
              "      <td>1</td>\n",
              "      <td>0.986014</td>\n",
              "      <td>0.8571</td>\n",
              "      <td>0.5714</td>\n",
              "      <td>6</td>\n",
              "      <td>57</td>\n",
              "      <td>0.984849</td>\n",
              "      <td>0</td>\n",
              "      <td>NaN</td>\n",
              "      <td>NaN</td>\n",
              "    </tr>\n",
              "    <tr>\n",
              "      <th>3</th>\n",
              "      <td>155</td>\n",
              "      <td>Campinas</td>\n",
              "      <td>1690827091</td>\n",
              "      <td>1690827413</td>\n",
              "      <td>42</td>\n",
              "      <td>42</td>\n",
              "      <td>0</td>\n",
              "      <td>0</td>\n",
              "      <td>0</td>\n",
              "      <td>0</td>\n",
              "      <td>...</td>\n",
              "      <td>0</td>\n",
              "      <td>NaN</td>\n",
              "      <td>NaN</td>\n",
              "      <td>NaN</td>\n",
              "      <td>0</td>\n",
              "      <td>0</td>\n",
              "      <td>NaN</td>\n",
              "      <td>0</td>\n",
              "      <td>NaN</td>\n",
              "      <td>NaN</td>\n",
              "    </tr>\n",
              "    <tr>\n",
              "      <th>4</th>\n",
              "      <td>104</td>\n",
              "      <td>Campinas</td>\n",
              "      <td>0</td>\n",
              "      <td>0</td>\n",
              "      <td>19612</td>\n",
              "      <td>19612</td>\n",
              "      <td>0</td>\n",
              "      <td>0</td>\n",
              "      <td>0</td>\n",
              "      <td>0</td>\n",
              "      <td>...</td>\n",
              "      <td>0</td>\n",
              "      <td>NaN</td>\n",
              "      <td>NaN</td>\n",
              "      <td>NaN</td>\n",
              "      <td>0</td>\n",
              "      <td>0</td>\n",
              "      <td>NaN</td>\n",
              "      <td>0</td>\n",
              "      <td>NaN</td>\n",
              "      <td>NaN</td>\n",
              "    </tr>\n",
              "  </tbody>\n",
              "</table>\n",
              "<p>5 rows × 37 columns</p>\n",
              "</div>\n",
              "    <div class=\"colab-df-buttons\">\n",
              "\n",
              "  <div class=\"colab-df-container\">\n",
              "    <button class=\"colab-df-convert\" onclick=\"convertToInteractive('df-5298ec65-181a-4aa0-b7ca-7eab7009a3ca')\"\n",
              "            title=\"Convert this dataframe to an interactive table.\"\n",
              "            style=\"display:none;\">\n",
              "\n",
              "  <svg xmlns=\"http://www.w3.org/2000/svg\" height=\"24px\" viewBox=\"0 -960 960 960\">\n",
              "    <path d=\"M120-120v-720h720v720H120Zm60-500h600v-160H180v160Zm220 220h160v-160H400v160Zm0 220h160v-160H400v160ZM180-400h160v-160H180v160Zm440 0h160v-160H620v160ZM180-180h160v-160H180v160Zm440 0h160v-160H620v160Z\"/>\n",
              "  </svg>\n",
              "    </button>\n",
              "\n",
              "  <style>\n",
              "    .colab-df-container {\n",
              "      display:flex;\n",
              "      gap: 12px;\n",
              "    }\n",
              "\n",
              "    .colab-df-convert {\n",
              "      background-color: #E8F0FE;\n",
              "      border: none;\n",
              "      border-radius: 50%;\n",
              "      cursor: pointer;\n",
              "      display: none;\n",
              "      fill: #1967D2;\n",
              "      height: 32px;\n",
              "      padding: 0 0 0 0;\n",
              "      width: 32px;\n",
              "    }\n",
              "\n",
              "    .colab-df-convert:hover {\n",
              "      background-color: #E2EBFA;\n",
              "      box-shadow: 0px 1px 2px rgba(60, 64, 67, 0.3), 0px 1px 3px 1px rgba(60, 64, 67, 0.15);\n",
              "      fill: #174EA6;\n",
              "    }\n",
              "\n",
              "    .colab-df-buttons div {\n",
              "      margin-bottom: 4px;\n",
              "    }\n",
              "\n",
              "    [theme=dark] .colab-df-convert {\n",
              "      background-color: #3B4455;\n",
              "      fill: #D2E3FC;\n",
              "    }\n",
              "\n",
              "    [theme=dark] .colab-df-convert:hover {\n",
              "      background-color: #434B5C;\n",
              "      box-shadow: 0px 1px 3px 1px rgba(0, 0, 0, 0.15);\n",
              "      filter: drop-shadow(0px 1px 2px rgba(0, 0, 0, 0.3));\n",
              "      fill: #FFFFFF;\n",
              "    }\n",
              "  </style>\n",
              "\n",
              "    <script>\n",
              "      const buttonEl =\n",
              "        document.querySelector('#df-5298ec65-181a-4aa0-b7ca-7eab7009a3ca button.colab-df-convert');\n",
              "      buttonEl.style.display =\n",
              "        google.colab.kernel.accessAllowed ? 'block' : 'none';\n",
              "\n",
              "      async function convertToInteractive(key) {\n",
              "        const element = document.querySelector('#df-5298ec65-181a-4aa0-b7ca-7eab7009a3ca');\n",
              "        const dataTable =\n",
              "          await google.colab.kernel.invokeFunction('convertToInteractive',\n",
              "                                                    [key], {});\n",
              "        if (!dataTable) return;\n",
              "\n",
              "        const docLinkHtml = 'Like what you see? Visit the ' +\n",
              "          '<a target=\"_blank\" href=https://colab.research.google.com/notebooks/data_table.ipynb>data table notebook</a>'\n",
              "          + ' to learn more about interactive tables.';\n",
              "        element.innerHTML = '';\n",
              "        dataTable['output_type'] = 'display_data';\n",
              "        await google.colab.output.renderOutput(dataTable, element);\n",
              "        const docLink = document.createElement('div');\n",
              "        docLink.innerHTML = docLinkHtml;\n",
              "        element.appendChild(docLink);\n",
              "      }\n",
              "    </script>\n",
              "  </div>\n",
              "\n",
              "\n",
              "    <div id=\"df-ebb89397-7008-4c7d-80ca-b524ef198d3f\">\n",
              "      <button class=\"colab-df-quickchart\" onclick=\"quickchart('df-ebb89397-7008-4c7d-80ca-b524ef198d3f')\"\n",
              "                title=\"Suggest charts\"\n",
              "                style=\"display:none;\">\n",
              "\n",
              "<svg xmlns=\"http://www.w3.org/2000/svg\" height=\"24px\"viewBox=\"0 0 24 24\"\n",
              "     width=\"24px\">\n",
              "    <g>\n",
              "        <path d=\"M19 3H5c-1.1 0-2 .9-2 2v14c0 1.1.9 2 2 2h14c1.1 0 2-.9 2-2V5c0-1.1-.9-2-2-2zM9 17H7v-7h2v7zm4 0h-2V7h2v10zm4 0h-2v-4h2v4z\"/>\n",
              "    </g>\n",
              "</svg>\n",
              "      </button>\n",
              "\n",
              "<style>\n",
              "  .colab-df-quickchart {\n",
              "      --bg-color: #E8F0FE;\n",
              "      --fill-color: #1967D2;\n",
              "      --hover-bg-color: #E2EBFA;\n",
              "      --hover-fill-color: #174EA6;\n",
              "      --disabled-fill-color: #AAA;\n",
              "      --disabled-bg-color: #DDD;\n",
              "  }\n",
              "\n",
              "  [theme=dark] .colab-df-quickchart {\n",
              "      --bg-color: #3B4455;\n",
              "      --fill-color: #D2E3FC;\n",
              "      --hover-bg-color: #434B5C;\n",
              "      --hover-fill-color: #FFFFFF;\n",
              "      --disabled-bg-color: #3B4455;\n",
              "      --disabled-fill-color: #666;\n",
              "  }\n",
              "\n",
              "  .colab-df-quickchart {\n",
              "    background-color: var(--bg-color);\n",
              "    border: none;\n",
              "    border-radius: 50%;\n",
              "    cursor: pointer;\n",
              "    display: none;\n",
              "    fill: var(--fill-color);\n",
              "    height: 32px;\n",
              "    padding: 0;\n",
              "    width: 32px;\n",
              "  }\n",
              "\n",
              "  .colab-df-quickchart:hover {\n",
              "    background-color: var(--hover-bg-color);\n",
              "    box-shadow: 0 1px 2px rgba(60, 64, 67, 0.3), 0 1px 3px 1px rgba(60, 64, 67, 0.15);\n",
              "    fill: var(--button-hover-fill-color);\n",
              "  }\n",
              "\n",
              "  .colab-df-quickchart-complete:disabled,\n",
              "  .colab-df-quickchart-complete:disabled:hover {\n",
              "    background-color: var(--disabled-bg-color);\n",
              "    fill: var(--disabled-fill-color);\n",
              "    box-shadow: none;\n",
              "  }\n",
              "\n",
              "  .colab-df-spinner {\n",
              "    border: 2px solid var(--fill-color);\n",
              "    border-color: transparent;\n",
              "    border-bottom-color: var(--fill-color);\n",
              "    animation:\n",
              "      spin 1s steps(1) infinite;\n",
              "  }\n",
              "\n",
              "  @keyframes spin {\n",
              "    0% {\n",
              "      border-color: transparent;\n",
              "      border-bottom-color: var(--fill-color);\n",
              "      border-left-color: var(--fill-color);\n",
              "    }\n",
              "    20% {\n",
              "      border-color: transparent;\n",
              "      border-left-color: var(--fill-color);\n",
              "      border-top-color: var(--fill-color);\n",
              "    }\n",
              "    30% {\n",
              "      border-color: transparent;\n",
              "      border-left-color: var(--fill-color);\n",
              "      border-top-color: var(--fill-color);\n",
              "      border-right-color: var(--fill-color);\n",
              "    }\n",
              "    40% {\n",
              "      border-color: transparent;\n",
              "      border-right-color: var(--fill-color);\n",
              "      border-top-color: var(--fill-color);\n",
              "    }\n",
              "    60% {\n",
              "      border-color: transparent;\n",
              "      border-right-color: var(--fill-color);\n",
              "    }\n",
              "    80% {\n",
              "      border-color: transparent;\n",
              "      border-right-color: var(--fill-color);\n",
              "      border-bottom-color: var(--fill-color);\n",
              "    }\n",
              "    90% {\n",
              "      border-color: transparent;\n",
              "      border-bottom-color: var(--fill-color);\n",
              "    }\n",
              "  }\n",
              "</style>\n",
              "\n",
              "      <script>\n",
              "        async function quickchart(key) {\n",
              "          const quickchartButtonEl =\n",
              "            document.querySelector('#' + key + ' button');\n",
              "          quickchartButtonEl.disabled = true;  // To prevent multiple clicks.\n",
              "          quickchartButtonEl.classList.add('colab-df-spinner');\n",
              "          try {\n",
              "            const charts = await google.colab.kernel.invokeFunction(\n",
              "                'suggestCharts', [key], {});\n",
              "          } catch (error) {\n",
              "            console.error('Error during call to suggestCharts:', error);\n",
              "          }\n",
              "          quickchartButtonEl.classList.remove('colab-df-spinner');\n",
              "          quickchartButtonEl.classList.add('colab-df-quickchart-complete');\n",
              "        }\n",
              "        (() => {\n",
              "          let quickchartButtonEl =\n",
              "            document.querySelector('#df-ebb89397-7008-4c7d-80ca-b524ef198d3f button');\n",
              "          quickchartButtonEl.style.display =\n",
              "            google.colab.kernel.accessAllowed ? 'block' : 'none';\n",
              "        })();\n",
              "      </script>\n",
              "    </div>\n",
              "\n",
              "    </div>\n",
              "  </div>\n"
            ],
            "text/plain": [
              "   Unnamed: 0 ds_cidade_usuario  ts_primeiro_acesso  ts_ultimo_acesso  \\\n",
              "0         361          Campinas          1693227920        1693228016   \n",
              "1          73          Holambra          1661542019        1662149939   \n",
              "2         374          Campinas          1693578285        1694298462   \n",
              "3         155          Campinas          1690827091        1690827413   \n",
              "4         104          Campinas                   0                 0   \n",
              "\n",
              "   nr_dias_desde_primeiro_acesso  nr_dias_desde_ultimo_acesso  \\\n",
              "0                             14                           14   \n",
              "1                            381                          374   \n",
              "2                             10                            2   \n",
              "3                             42                           42   \n",
              "4                          19612                        19612   \n",
              "\n",
              "   nr_atividades_sinalizadas  nr_atividades_mapeadas  \\\n",
              "0                          0                       0   \n",
              "1                          0                      14   \n",
              "2                          0                       0   \n",
              "3                          0                       0   \n",
              "4                          0                       0   \n",
              "\n",
              "   nr_discussoes_forum_postadas  nr_questionarios_abandonados  ...  \\\n",
              "0                             0                             0  ...   \n",
              "1                             0                             0  ...   \n",
              "2                             0                             0  ...   \n",
              "3                             0                             0  ...   \n",
              "4                             0                             0  ...   \n",
              "\n",
              "   nr_questoes_parciais  vl_desempenho_usuario  vl_media_questoes_por_dia  \\\n",
              "0                     0                    NaN                        NaN   \n",
              "1                     0               0.133333                     0.3061   \n",
              "2                     1               0.986014                     0.8571   \n",
              "3                     0                    NaN                        NaN   \n",
              "4                     0                    NaN                        NaN   \n",
              "\n",
              "   vl_engajamento_notas  nr_itens_avaliados  nr_itens_nao_respondidos  \\\n",
              "0                   NaN                   0                         0   \n",
              "1                0.1633                  15                       144   \n",
              "2                0.5714                   6                        57   \n",
              "3                   NaN                   0                         0   \n",
              "4                   NaN                   0                         0   \n",
              "\n",
              "   vl_media_notas  nr_submissoes_codigo  vl_media_submissoes_codigo  \\\n",
              "0             NaN                     0                         NaN   \n",
              "1        0.133333                     0                         NaN   \n",
              "2        0.984849                     0                         NaN   \n",
              "3             NaN                     0                         NaN   \n",
              "4             NaN                     0                         NaN   \n",
              "\n",
              "   vl_submissoes_por_dias_ativos  \n",
              "0                            NaN  \n",
              "1                            NaN  \n",
              "2                            NaN  \n",
              "3                            NaN  \n",
              "4                            NaN  \n",
              "\n",
              "[5 rows x 37 columns]"
            ]
          },
          "execution_count": 273,
          "metadata": {},
          "output_type": "execute_result"
        }
      ],
      "source": [
        "df_teste_real.head()"
      ]
    },
    {
      "cell_type": "code",
      "execution_count": null,
      "id": "lIxNogF9sCGA",
      "metadata": {
        "id": "lIxNogF9sCGA"
      },
      "outputs": [],
      "source": [
        "df_teste_real = df_teste_real.drop(\"Unnamed: 0\", axis=1)"
      ]
    },
    {
      "cell_type": "code",
      "execution_count": null,
      "id": "GPpWKjLlsLbt",
      "metadata": {
        "id": "GPpWKjLlsLbt"
      },
      "outputs": [],
      "source": [
        "df_teste_real = df_teste_real[df_teste_real['ts_primeiro_acesso'] != 0]"
      ]
    },
    {
      "cell_type": "code",
      "execution_count": null,
      "id": "T9HAAgi0sRss",
      "metadata": {
        "id": "T9HAAgi0sRss"
      },
      "outputs": [],
      "source": [
        "df_teste_real['ts_primeiro_acesso'] = pd.to_datetime(df_teste_real['ts_primeiro_acesso'], unit='s')\n",
        "df_teste_real['ts_ultimo_acesso'] = pd.to_datetime(df_teste_real['ts_ultimo_acesso'], unit='s')"
      ]
    },
    {
      "cell_type": "code",
      "execution_count": null,
      "id": "J-1fvarJsTaM",
      "metadata": {
        "colab": {
          "base_uri": "https://localhost:8080/"
        },
        "id": "J-1fvarJsTaM",
        "outputId": "2da9c9f0-1ed6-4787-8bb2-20d7356d098f"
      },
      "outputs": [
        {
          "name": "stdout",
          "output_type": "stream",
          "text": [
            "['Campinas' 'Holambra' nan 'Blumenau ' 'Curitiba' 'brasilia' 'curitiba'\n",
            " 'São Paulo']\n"
          ]
        }
      ],
      "source": [
        "print(df_teste_real['ds_cidade_usuario'].unique())"
      ]
    },
    {
      "cell_type": "code",
      "execution_count": null,
      "id": "uALBw_K8sUHx",
      "metadata": {
        "id": "uALBw_K8sUHx"
      },
      "outputs": [],
      "source": [
        "df_teste_real['ds_cidade_usuario'] = (\n",
        "    df_teste_real['ds_cidade_usuario']\n",
        "    .astype(str)\n",
        "    .str.strip()\n",
        "    .str.upper()\n",
        "    .apply(unidecode.unidecode)\n",
        ")"
      ]
    },
    {
      "cell_type": "code",
      "execution_count": null,
      "id": "ZfofQirAsWcW",
      "metadata": {
        "colab": {
          "base_uri": "https://localhost:8080/"
        },
        "id": "ZfofQirAsWcW",
        "outputId": "f46049a6-7ef4-4174-858d-a4842b052cdc"
      },
      "outputs": [
        {
          "name": "stderr",
          "output_type": "stream",
          "text": [
            "/tmp/ipython-input-279-4060251615.py:1: FutureWarning: A value is trying to be set on a copy of a DataFrame or Series through chained assignment using an inplace method.\n",
            "The behavior will change in pandas 3.0. This inplace method will never work because the intermediate object on which we are setting values always behaves as a copy.\n",
            "\n",
            "For example, when doing 'df[col].method(value, inplace=True)', try using 'df.method({col: value}, inplace=True)' or df[col] = df[col].method(value) instead, to perform the operation inplace on the original object.\n",
            "\n",
            "\n",
            "  df_teste_real['ds_cidade_usuario'].replace(\"NAN\", \"CIDADE NAO INFORMADA\", inplace=True)\n"
          ]
        }
      ],
      "source": [
        "df_teste_real['ds_cidade_usuario'].replace(\"NAN\", \"CIDADE NAO INFORMADA\", inplace=True)"
      ]
    },
    {
      "cell_type": "code",
      "execution_count": null,
      "id": "DCMMxM8zsXRh",
      "metadata": {
        "colab": {
          "base_uri": "https://localhost:8080/"
        },
        "id": "DCMMxM8zsXRh",
        "outputId": "ac480344-aa55-47c7-8fe9-a100dd686c81"
      },
      "outputs": [
        {
          "name": "stdout",
          "output_type": "stream",
          "text": [
            "['CAMPINAS' 'HOLAMBRA' 'CIDADE NAO INFORMADA' 'BLUMENAU' 'CURITIBA'\n",
            " 'BRASILIA' 'SAO PAULO']\n"
          ]
        }
      ],
      "source": [
        "print(df_teste_real['ds_cidade_usuario'].unique())"
      ]
    },
    {
      "cell_type": "code",
      "execution_count": null,
      "id": "Epa3sigYsZJn",
      "metadata": {
        "id": "Epa3sigYsZJn"
      },
      "outputs": [],
      "source": [
        "# Remover colunas com mais de 70% de valores ausentes\n",
        "df_teste_real.drop(columns=[\"vl_media_submissoes_codigo\", \"vl_submissoes_por_dias_ativos\"], inplace=True)\n",
        "df_teste_real.drop(columns=[\"vl_media_questoes_por_dia\", \"vl_engajamento_notas\"], inplace=True)"
      ]
    },
    {
      "cell_type": "code",
      "execution_count": null,
      "id": "749OycPzsl91",
      "metadata": {
        "id": "749OycPzsl91"
      },
      "outputs": [],
      "source": [
        "# Preencher a coluna de desempenho com zero\n",
        "df_teste_real[\"vl_desempenho_questionario\"] = df_teste_real[\"vl_desempenho_questionario\"].fillna(0)\n",
        "df_teste_real[\"vl_engajamento_usuario_por_intervalo\"] = df_teste_real[\"vl_engajamento_usuario_por_intervalo\"].fillna(0)\n",
        "df_teste_real[\"vl_engajamento_usuario_intradia\"] = df_teste_real[\"vl_engajamento_usuario_intradia\"].fillna(0)\n",
        "df_teste_real[\"vl_desempenho_usuario\"] = df_teste_real[\"vl_desempenho_usuario\"].fillna(0)\n",
        "df_teste_real[\"vl_media_notas\"] = df_teste_real[\"vl_media_notas\"].fillna(0)"
      ]
    },
    {
      "cell_type": "code",
      "execution_count": null,
      "id": "4e2YgHlXsuyh",
      "metadata": {
        "id": "4e2YgHlXsuyh"
      },
      "outputs": [],
      "source": [
        "#Preencher com mediana (tempo médio tem sentido contínuo e comparável):\n",
        "df_teste_real[\"vl_medio_tempo_questionario\"] = df_teste_real[\"vl_medio_tempo_questionario\"].fillna(df_teste_real[\"vl_medio_tempo_questionario\"].median())\n",
        "df_teste_real[\"vl_medio_tempo_questionario_avaliado\"] = df_teste_real[\"vl_medio_tempo_questionario_avaliado\"].fillna(df_teste_real[\"vl_medio_tempo_questionario_avaliado\"].median())"
      ]
    },
    {
      "cell_type": "code",
      "execution_count": null,
      "id": "qboQyS4xsz0K",
      "metadata": {
        "colab": {
          "base_uri": "https://localhost:8080/",
          "height": 343
        },
        "id": "qboQyS4xsz0K",
        "outputId": "abbd3a3a-9155-424b-da38-208aa5446215"
      },
      "outputs": [
        {
          "data": {
            "application/vnd.google.colaboratory.intrinsic+json": {
              "type": "dataframe",
              "variable_name": "df_teste_real"
            },
            "text/html": [
              "\n",
              "  <div id=\"df-516df847-1ca9-4340-8f7d-1b823945a7f7\" class=\"colab-df-container\">\n",
              "    <div>\n",
              "<style scoped>\n",
              "    .dataframe tbody tr th:only-of-type {\n",
              "        vertical-align: middle;\n",
              "    }\n",
              "\n",
              "    .dataframe tbody tr th {\n",
              "        vertical-align: top;\n",
              "    }\n",
              "\n",
              "    .dataframe thead th {\n",
              "        text-align: right;\n",
              "    }\n",
              "</style>\n",
              "<table border=\"1\" class=\"dataframe\">\n",
              "  <thead>\n",
              "    <tr style=\"text-align: right;\">\n",
              "      <th></th>\n",
              "      <th>ds_cidade_usuario</th>\n",
              "      <th>ts_primeiro_acesso</th>\n",
              "      <th>ts_ultimo_acesso</th>\n",
              "      <th>nr_dias_desde_primeiro_acesso</th>\n",
              "      <th>nr_dias_desde_ultimo_acesso</th>\n",
              "      <th>nr_atividades_sinalizadas</th>\n",
              "      <th>nr_atividades_mapeadas</th>\n",
              "      <th>nr_discussoes_forum_postadas</th>\n",
              "      <th>nr_questionarios_abandonados</th>\n",
              "      <th>nr_questionarios_finalizados</th>\n",
              "      <th>...</th>\n",
              "      <th>nr_engajamento_questionario</th>\n",
              "      <th>nr_questoes_respondidas</th>\n",
              "      <th>nr_questoes_corretas</th>\n",
              "      <th>nr_questoes_erradas</th>\n",
              "      <th>nr_questoes_parciais</th>\n",
              "      <th>vl_desempenho_usuario</th>\n",
              "      <th>nr_itens_avaliados</th>\n",
              "      <th>nr_itens_nao_respondidos</th>\n",
              "      <th>vl_media_notas</th>\n",
              "      <th>nr_submissoes_codigo</th>\n",
              "    </tr>\n",
              "  </thead>\n",
              "  <tbody>\n",
              "    <tr>\n",
              "      <th>0</th>\n",
              "      <td>CAMPINAS</td>\n",
              "      <td>2023-08-28 13:05:20</td>\n",
              "      <td>2023-08-28 13:06:56</td>\n",
              "      <td>14</td>\n",
              "      <td>14</td>\n",
              "      <td>0</td>\n",
              "      <td>0</td>\n",
              "      <td>0</td>\n",
              "      <td>0</td>\n",
              "      <td>0</td>\n",
              "      <td>...</td>\n",
              "      <td>0</td>\n",
              "      <td>0</td>\n",
              "      <td>0</td>\n",
              "      <td>0</td>\n",
              "      <td>0</td>\n",
              "      <td>0.000000</td>\n",
              "      <td>0</td>\n",
              "      <td>0</td>\n",
              "      <td>0.000000</td>\n",
              "      <td>0</td>\n",
              "    </tr>\n",
              "    <tr>\n",
              "      <th>1</th>\n",
              "      <td>HOLAMBRA</td>\n",
              "      <td>2022-08-26 19:26:59</td>\n",
              "      <td>2022-09-02 20:18:59</td>\n",
              "      <td>381</td>\n",
              "      <td>374</td>\n",
              "      <td>0</td>\n",
              "      <td>14</td>\n",
              "      <td>0</td>\n",
              "      <td>0</td>\n",
              "      <td>1</td>\n",
              "      <td>...</td>\n",
              "      <td>19</td>\n",
              "      <td>7</td>\n",
              "      <td>5</td>\n",
              "      <td>0</td>\n",
              "      <td>0</td>\n",
              "      <td>0.133333</td>\n",
              "      <td>15</td>\n",
              "      <td>144</td>\n",
              "      <td>0.133333</td>\n",
              "      <td>0</td>\n",
              "    </tr>\n",
              "    <tr>\n",
              "      <th>2</th>\n",
              "      <td>CAMPINAS</td>\n",
              "      <td>2023-09-01 14:24:45</td>\n",
              "      <td>2023-09-09 22:27:42</td>\n",
              "      <td>10</td>\n",
              "      <td>2</td>\n",
              "      <td>0</td>\n",
              "      <td>0</td>\n",
              "      <td>0</td>\n",
              "      <td>0</td>\n",
              "      <td>3</td>\n",
              "      <td>...</td>\n",
              "      <td>62</td>\n",
              "      <td>59</td>\n",
              "      <td>41</td>\n",
              "      <td>15</td>\n",
              "      <td>1</td>\n",
              "      <td>0.986014</td>\n",
              "      <td>6</td>\n",
              "      <td>57</td>\n",
              "      <td>0.984849</td>\n",
              "      <td>0</td>\n",
              "    </tr>\n",
              "    <tr>\n",
              "      <th>3</th>\n",
              "      <td>CAMPINAS</td>\n",
              "      <td>2023-07-31 18:11:31</td>\n",
              "      <td>2023-07-31 18:16:53</td>\n",
              "      <td>42</td>\n",
              "      <td>42</td>\n",
              "      <td>0</td>\n",
              "      <td>0</td>\n",
              "      <td>0</td>\n",
              "      <td>0</td>\n",
              "      <td>0</td>\n",
              "      <td>...</td>\n",
              "      <td>0</td>\n",
              "      <td>0</td>\n",
              "      <td>0</td>\n",
              "      <td>0</td>\n",
              "      <td>0</td>\n",
              "      <td>0.000000</td>\n",
              "      <td>0</td>\n",
              "      <td>0</td>\n",
              "      <td>0.000000</td>\n",
              "      <td>0</td>\n",
              "    </tr>\n",
              "    <tr>\n",
              "      <th>11</th>\n",
              "      <td>CAMPINAS</td>\n",
              "      <td>2023-08-04 14:00:33</td>\n",
              "      <td>2023-09-04 14:28:27</td>\n",
              "      <td>38</td>\n",
              "      <td>7</td>\n",
              "      <td>0</td>\n",
              "      <td>0</td>\n",
              "      <td>0</td>\n",
              "      <td>0</td>\n",
              "      <td>2</td>\n",
              "      <td>...</td>\n",
              "      <td>78</td>\n",
              "      <td>58</td>\n",
              "      <td>54</td>\n",
              "      <td>3</td>\n",
              "      <td>0</td>\n",
              "      <td>1.000000</td>\n",
              "      <td>1</td>\n",
              "      <td>62</td>\n",
              "      <td>1.000000</td>\n",
              "      <td>0</td>\n",
              "    </tr>\n",
              "  </tbody>\n",
              "</table>\n",
              "<p>5 rows × 32 columns</p>\n",
              "</div>\n",
              "    <div class=\"colab-df-buttons\">\n",
              "\n",
              "  <div class=\"colab-df-container\">\n",
              "    <button class=\"colab-df-convert\" onclick=\"convertToInteractive('df-516df847-1ca9-4340-8f7d-1b823945a7f7')\"\n",
              "            title=\"Convert this dataframe to an interactive table.\"\n",
              "            style=\"display:none;\">\n",
              "\n",
              "  <svg xmlns=\"http://www.w3.org/2000/svg\" height=\"24px\" viewBox=\"0 -960 960 960\">\n",
              "    <path d=\"M120-120v-720h720v720H120Zm60-500h600v-160H180v160Zm220 220h160v-160H400v160Zm0 220h160v-160H400v160ZM180-400h160v-160H180v160Zm440 0h160v-160H620v160ZM180-180h160v-160H180v160Zm440 0h160v-160H620v160Z\"/>\n",
              "  </svg>\n",
              "    </button>\n",
              "\n",
              "  <style>\n",
              "    .colab-df-container {\n",
              "      display:flex;\n",
              "      gap: 12px;\n",
              "    }\n",
              "\n",
              "    .colab-df-convert {\n",
              "      background-color: #E8F0FE;\n",
              "      border: none;\n",
              "      border-radius: 50%;\n",
              "      cursor: pointer;\n",
              "      display: none;\n",
              "      fill: #1967D2;\n",
              "      height: 32px;\n",
              "      padding: 0 0 0 0;\n",
              "      width: 32px;\n",
              "    }\n",
              "\n",
              "    .colab-df-convert:hover {\n",
              "      background-color: #E2EBFA;\n",
              "      box-shadow: 0px 1px 2px rgba(60, 64, 67, 0.3), 0px 1px 3px 1px rgba(60, 64, 67, 0.15);\n",
              "      fill: #174EA6;\n",
              "    }\n",
              "\n",
              "    .colab-df-buttons div {\n",
              "      margin-bottom: 4px;\n",
              "    }\n",
              "\n",
              "    [theme=dark] .colab-df-convert {\n",
              "      background-color: #3B4455;\n",
              "      fill: #D2E3FC;\n",
              "    }\n",
              "\n",
              "    [theme=dark] .colab-df-convert:hover {\n",
              "      background-color: #434B5C;\n",
              "      box-shadow: 0px 1px 3px 1px rgba(0, 0, 0, 0.15);\n",
              "      filter: drop-shadow(0px 1px 2px rgba(0, 0, 0, 0.3));\n",
              "      fill: #FFFFFF;\n",
              "    }\n",
              "  </style>\n",
              "\n",
              "    <script>\n",
              "      const buttonEl =\n",
              "        document.querySelector('#df-516df847-1ca9-4340-8f7d-1b823945a7f7 button.colab-df-convert');\n",
              "      buttonEl.style.display =\n",
              "        google.colab.kernel.accessAllowed ? 'block' : 'none';\n",
              "\n",
              "      async function convertToInteractive(key) {\n",
              "        const element = document.querySelector('#df-516df847-1ca9-4340-8f7d-1b823945a7f7');\n",
              "        const dataTable =\n",
              "          await google.colab.kernel.invokeFunction('convertToInteractive',\n",
              "                                                    [key], {});\n",
              "        if (!dataTable) return;\n",
              "\n",
              "        const docLinkHtml = 'Like what you see? Visit the ' +\n",
              "          '<a target=\"_blank\" href=https://colab.research.google.com/notebooks/data_table.ipynb>data table notebook</a>'\n",
              "          + ' to learn more about interactive tables.';\n",
              "        element.innerHTML = '';\n",
              "        dataTable['output_type'] = 'display_data';\n",
              "        await google.colab.output.renderOutput(dataTable, element);\n",
              "        const docLink = document.createElement('div');\n",
              "        docLink.innerHTML = docLinkHtml;\n",
              "        element.appendChild(docLink);\n",
              "      }\n",
              "    </script>\n",
              "  </div>\n",
              "\n",
              "\n",
              "    <div id=\"df-e7c5a078-0f32-4ab3-a77d-16db7246825b\">\n",
              "      <button class=\"colab-df-quickchart\" onclick=\"quickchart('df-e7c5a078-0f32-4ab3-a77d-16db7246825b')\"\n",
              "                title=\"Suggest charts\"\n",
              "                style=\"display:none;\">\n",
              "\n",
              "<svg xmlns=\"http://www.w3.org/2000/svg\" height=\"24px\"viewBox=\"0 0 24 24\"\n",
              "     width=\"24px\">\n",
              "    <g>\n",
              "        <path d=\"M19 3H5c-1.1 0-2 .9-2 2v14c0 1.1.9 2 2 2h14c1.1 0 2-.9 2-2V5c0-1.1-.9-2-2-2zM9 17H7v-7h2v7zm4 0h-2V7h2v10zm4 0h-2v-4h2v4z\"/>\n",
              "    </g>\n",
              "</svg>\n",
              "      </button>\n",
              "\n",
              "<style>\n",
              "  .colab-df-quickchart {\n",
              "      --bg-color: #E8F0FE;\n",
              "      --fill-color: #1967D2;\n",
              "      --hover-bg-color: #E2EBFA;\n",
              "      --hover-fill-color: #174EA6;\n",
              "      --disabled-fill-color: #AAA;\n",
              "      --disabled-bg-color: #DDD;\n",
              "  }\n",
              "\n",
              "  [theme=dark] .colab-df-quickchart {\n",
              "      --bg-color: #3B4455;\n",
              "      --fill-color: #D2E3FC;\n",
              "      --hover-bg-color: #434B5C;\n",
              "      --hover-fill-color: #FFFFFF;\n",
              "      --disabled-bg-color: #3B4455;\n",
              "      --disabled-fill-color: #666;\n",
              "  }\n",
              "\n",
              "  .colab-df-quickchart {\n",
              "    background-color: var(--bg-color);\n",
              "    border: none;\n",
              "    border-radius: 50%;\n",
              "    cursor: pointer;\n",
              "    display: none;\n",
              "    fill: var(--fill-color);\n",
              "    height: 32px;\n",
              "    padding: 0;\n",
              "    width: 32px;\n",
              "  }\n",
              "\n",
              "  .colab-df-quickchart:hover {\n",
              "    background-color: var(--hover-bg-color);\n",
              "    box-shadow: 0 1px 2px rgba(60, 64, 67, 0.3), 0 1px 3px 1px rgba(60, 64, 67, 0.15);\n",
              "    fill: var(--button-hover-fill-color);\n",
              "  }\n",
              "\n",
              "  .colab-df-quickchart-complete:disabled,\n",
              "  .colab-df-quickchart-complete:disabled:hover {\n",
              "    background-color: var(--disabled-bg-color);\n",
              "    fill: var(--disabled-fill-color);\n",
              "    box-shadow: none;\n",
              "  }\n",
              "\n",
              "  .colab-df-spinner {\n",
              "    border: 2px solid var(--fill-color);\n",
              "    border-color: transparent;\n",
              "    border-bottom-color: var(--fill-color);\n",
              "    animation:\n",
              "      spin 1s steps(1) infinite;\n",
              "  }\n",
              "\n",
              "  @keyframes spin {\n",
              "    0% {\n",
              "      border-color: transparent;\n",
              "      border-bottom-color: var(--fill-color);\n",
              "      border-left-color: var(--fill-color);\n",
              "    }\n",
              "    20% {\n",
              "      border-color: transparent;\n",
              "      border-left-color: var(--fill-color);\n",
              "      border-top-color: var(--fill-color);\n",
              "    }\n",
              "    30% {\n",
              "      border-color: transparent;\n",
              "      border-left-color: var(--fill-color);\n",
              "      border-top-color: var(--fill-color);\n",
              "      border-right-color: var(--fill-color);\n",
              "    }\n",
              "    40% {\n",
              "      border-color: transparent;\n",
              "      border-right-color: var(--fill-color);\n",
              "      border-top-color: var(--fill-color);\n",
              "    }\n",
              "    60% {\n",
              "      border-color: transparent;\n",
              "      border-right-color: var(--fill-color);\n",
              "    }\n",
              "    80% {\n",
              "      border-color: transparent;\n",
              "      border-right-color: var(--fill-color);\n",
              "      border-bottom-color: var(--fill-color);\n",
              "    }\n",
              "    90% {\n",
              "      border-color: transparent;\n",
              "      border-bottom-color: var(--fill-color);\n",
              "    }\n",
              "  }\n",
              "</style>\n",
              "\n",
              "      <script>\n",
              "        async function quickchart(key) {\n",
              "          const quickchartButtonEl =\n",
              "            document.querySelector('#' + key + ' button');\n",
              "          quickchartButtonEl.disabled = true;  // To prevent multiple clicks.\n",
              "          quickchartButtonEl.classList.add('colab-df-spinner');\n",
              "          try {\n",
              "            const charts = await google.colab.kernel.invokeFunction(\n",
              "                'suggestCharts', [key], {});\n",
              "          } catch (error) {\n",
              "            console.error('Error during call to suggestCharts:', error);\n",
              "          }\n",
              "          quickchartButtonEl.classList.remove('colab-df-spinner');\n",
              "          quickchartButtonEl.classList.add('colab-df-quickchart-complete');\n",
              "        }\n",
              "        (() => {\n",
              "          let quickchartButtonEl =\n",
              "            document.querySelector('#df-e7c5a078-0f32-4ab3-a77d-16db7246825b button');\n",
              "          quickchartButtonEl.style.display =\n",
              "            google.colab.kernel.accessAllowed ? 'block' : 'none';\n",
              "        })();\n",
              "      </script>\n",
              "    </div>\n",
              "\n",
              "    </div>\n",
              "  </div>\n"
            ],
            "text/plain": [
              "   ds_cidade_usuario  ts_primeiro_acesso    ts_ultimo_acesso  \\\n",
              "0           CAMPINAS 2023-08-28 13:05:20 2023-08-28 13:06:56   \n",
              "1           HOLAMBRA 2022-08-26 19:26:59 2022-09-02 20:18:59   \n",
              "2           CAMPINAS 2023-09-01 14:24:45 2023-09-09 22:27:42   \n",
              "3           CAMPINAS 2023-07-31 18:11:31 2023-07-31 18:16:53   \n",
              "11          CAMPINAS 2023-08-04 14:00:33 2023-09-04 14:28:27   \n",
              "\n",
              "    nr_dias_desde_primeiro_acesso  nr_dias_desde_ultimo_acesso  \\\n",
              "0                              14                           14   \n",
              "1                             381                          374   \n",
              "2                              10                            2   \n",
              "3                              42                           42   \n",
              "11                             38                            7   \n",
              "\n",
              "    nr_atividades_sinalizadas  nr_atividades_mapeadas  \\\n",
              "0                           0                       0   \n",
              "1                           0                      14   \n",
              "2                           0                       0   \n",
              "3                           0                       0   \n",
              "11                          0                       0   \n",
              "\n",
              "    nr_discussoes_forum_postadas  nr_questionarios_abandonados  \\\n",
              "0                              0                             0   \n",
              "1                              0                             0   \n",
              "2                              0                             0   \n",
              "3                              0                             0   \n",
              "11                             0                             0   \n",
              "\n",
              "    nr_questionarios_finalizados  ...  nr_engajamento_questionario  \\\n",
              "0                              0  ...                            0   \n",
              "1                              1  ...                           19   \n",
              "2                              3  ...                           62   \n",
              "3                              0  ...                            0   \n",
              "11                             2  ...                           78   \n",
              "\n",
              "    nr_questoes_respondidas  nr_questoes_corretas  nr_questoes_erradas  \\\n",
              "0                         0                     0                    0   \n",
              "1                         7                     5                    0   \n",
              "2                        59                    41                   15   \n",
              "3                         0                     0                    0   \n",
              "11                       58                    54                    3   \n",
              "\n",
              "    nr_questoes_parciais  vl_desempenho_usuario  nr_itens_avaliados  \\\n",
              "0                      0               0.000000                   0   \n",
              "1                      0               0.133333                  15   \n",
              "2                      1               0.986014                   6   \n",
              "3                      0               0.000000                   0   \n",
              "11                     0               1.000000                   1   \n",
              "\n",
              "    nr_itens_nao_respondidos  vl_media_notas  nr_submissoes_codigo  \n",
              "0                          0        0.000000                     0  \n",
              "1                        144        0.133333                     0  \n",
              "2                         57        0.984849                     0  \n",
              "3                          0        0.000000                     0  \n",
              "11                        62        1.000000                     0  \n",
              "\n",
              "[5 rows x 32 columns]"
            ]
          },
          "execution_count": 284,
          "metadata": {},
          "output_type": "execute_result"
        }
      ],
      "source": [
        "df_teste_real.head()"
      ]
    },
    {
      "cell_type": "code",
      "execution_count": null,
      "id": "ZkH9ThyWs26x",
      "metadata": {
        "id": "ZkH9ThyWs26x"
      },
      "outputs": [],
      "source": [
        "df_teste_real.to_csv(\"dados_teste_convertidos.csv\", index=False)"
      ]
    },
    {
      "cell_type": "code",
      "execution_count": null,
      "id": "zQsvgc99wbmc",
      "metadata": {
        "id": "zQsvgc99wbmc"
      },
      "outputs": [],
      "source": [
        "# Garantir que está como número\n",
        "df_teste_real[\"vl_desempenho_usuario\"] = pd.to_numeric(df_teste_real[\"vl_desempenho_usuario\"], errors=\"coerce\")\n",
        "\n",
        "# Criar a coluna 'evadiu' com a mesma regra\n",
        "df_teste_real[\"evadiu\"] = df_teste_real[\"nr_dias_desde_ultimo_acesso\"] <= 12\n",
        "\n",
        "# Agora sim pode separar o y_teste_real\n",
        "y_teste_real = df_teste_real[\"evadiu\"]\n"
      ]
    },
    {
      "cell_type": "markdown",
      "id": "gLlJ5wSJt8iQ",
      "metadata": {
        "id": "gLlJ5wSJt8iQ"
      },
      "source": [
        "### 9.2 Pré-processamento do teste"
      ]
    },
    {
      "cell_type": "code",
      "execution_count": null,
      "id": "T_DGtWRgt_Vg",
      "metadata": {
        "id": "T_DGtWRgt_Vg"
      },
      "outputs": [],
      "source": [
        "# Seleciona os mesmos atributos (remove colunas irrelevantes e alvo)\n",
        "X_teste_real = df_teste_real.drop(\n",
        "    columns=[\"perfil\", \"ds_cidade_usuario\", \"nr_dias_desde_ultimo_acesso\", \"evadiu\"],\n",
        "    errors=\"ignore\"\n",
        ")\n",
        "\n",
        "# Remove colunas do tipo datetime\n",
        "X_teste_real = X_teste_real.select_dtypes(exclude=[\"datetime64[ns]\"])\n",
        "\n",
        "# Aplica o mesmo scaler (usando apenas .transform, sem .fit!)\n",
        "X_teste_real_scaled = pd.DataFrame(\n",
        "    scaler.transform(X_teste_real),\n",
        "    columns=X_teste_real.columns\n",
        ")\n"
      ]
    },
    {
      "cell_type": "markdown",
      "id": "gAAcwH5FugNs",
      "metadata": {
        "id": "gAAcwH5FugNs"
      },
      "source": [
        "### 9.3 Performance dos modelos\n",
        "\n",
        "Avaliamos os três modelos no conjunto de teste real para verificar qual deles tem o melhor desempenho em prever a evasão dos alunos."
      ]
    },
    {
      "cell_type": "markdown",
      "id": "21507e46",
      "metadata": {},
      "source": [
        "#### Random Forest"
      ]
    },
    {
      "cell_type": "code",
      "execution_count": null,
      "id": "StwHvYAIuhzS",
      "metadata": {
        "colab": {
          "base_uri": "https://localhost:8080/"
        },
        "id": "StwHvYAIuhzS",
        "outputId": "2e164a48-2e16-4475-8fa2-74dcef83ff5e"
      },
      "outputs": [
        {
          "name": "stdout",
          "output_type": "stream",
          "text": [
            "🔍 Avaliação do Modelo (Random Forest)\n",
            "Acurácia:  0.8696\n",
            "F1-score:  0.8571\n",
            "AUC:       0.9887\n"
          ]
        }
      ],
      "source": [
        "from sklearn.metrics import accuracy_score, f1_score, recall_score, roc_auc_score, confusion_matrix\n",
        "\n",
        "# Previsões com Random Forest\n",
        "y_pred_real = rf_model.predict(X_teste_real_scaled)\n",
        "y_proba_real = rf_model.predict_proba(X_teste_real_scaled)[:, 1]\n",
        "\n",
        "# Métricas Finais\n",
        "print(\"🔍 Avaliação do Modelo (Random Forest)\")\n",
        "print(f\"Acurácia:  {accuracy_score(y_teste_real, y_pred_real):.4f}\")\n",
        "print(f\"F1-score:  {f1_score(y_teste_real, y_pred_real):.4f}\")\n",
        "print(f\"AUC:       {roc_auc_score(y_teste_real, y_proba_real):.4f}\")"
      ]
    },
    {
      "cell_type": "markdown",
      "id": "3e3c6870",
      "metadata": {},
      "source": [
        "#### Regressão Logística"
      ]
    },
    {
      "cell_type": "code",
      "execution_count": null,
      "id": "0zfoxAoZ6n_E",
      "metadata": {
        "colab": {
          "base_uri": "https://localhost:8080/"
        },
        "id": "0zfoxAoZ6n_E",
        "outputId": "68059c41-70e1-4675-f63e-3435465f8323"
      },
      "outputs": [
        {
          "name": "stdout",
          "output_type": "stream",
          "text": [
            "\n",
            "Regressão Logística:\n",
            "F1: 0.8888888888888888\n",
            "Recall: 0.8695652173913043\n",
            "AUC: 0.9565217391304348\n"
          ]
        }
      ],
      "source": [
        "# # Previsões com Regressão Logística\n",
        "y_pred_log = log_model.predict(X_teste_real_scaled)\n",
        "y_proba_log = log_model.predict_proba(X_teste_real_scaled)[:, 1]\n",
        "\n",
        "# Métricas Finais\n",
        "print(\"\\nRegressão Logística:\")\n",
        "print(\"F1:\", f1_score(y_teste_real, y_pred_log))\n",
        "print(\"Recall:\", recall_score(y_teste_real, y_pred_log))\n",
        "print(\"AUC:\", roc_auc_score(y_teste_real, y_proba_log))"
      ]
    },
    {
      "cell_type": "markdown",
      "id": "ad7b54a1",
      "metadata": {},
      "source": [
        "#### Rede Neural"
      ]
    },
    {
      "cell_type": "code",
      "execution_count": null,
      "id": "qT8OWbSa6zsD",
      "metadata": {
        "colab": {
          "base_uri": "https://localhost:8080/"
        },
        "id": "qT8OWbSa6zsD",
        "outputId": "1b494eae-3dc9-4e67-c71e-394f64c19caa"
      },
      "outputs": [
        {
          "name": "stdout",
          "output_type": "stream",
          "text": [
            "\u001b[1m2/2\u001b[0m \u001b[32m━━━━━━━━━━━━━━━━━━━━\u001b[0m\u001b[37m\u001b[0m \u001b[1m0s\u001b[0m 29ms/step\n",
            "\n",
            "Rede Neural:\n",
            "F1: 0.9361702127659575\n",
            "Recall: 0.9565217391304348\n",
            "AUC: 0.9546313799621928\n"
          ]
        }
      ],
      "source": [
        "# Previsões com Rede Neural\n",
        "y_proba_nn = model.predict(X_teste_real_scaled).ravel()\n",
        "y_pred_nn = (y_proba_nn > 0.5).astype(int)\n",
        "\n",
        "# Métricas Finais\n",
        "print(\"\\nRede Neural:\")\n",
        "print(\"F1:\", f1_score(y_teste_real, y_pred_nn))\n",
        "print(\"Recall:\", recall_score(y_teste_real, y_pred_nn))\n",
        "print(\"AUC:\", roc_auc_score(y_teste_real, y_proba_nn))"
      ]
    },
    {
      "cell_type": "markdown",
      "id": "oZLQRyyh-3Es",
      "metadata": {
        "id": "oZLQRyyh-3Es"
      },
      "source": [
        "#### Análise do Resultado:\n",
        "O modelo de Rede Neural foi o que teve o melhor desempenho geral, com os maiores valores de F1-score e recall, o que é importante para detectar corretamente quem vai evadir.\n",
        "\n",
        "Além disso, ele manteve um bom equilíbrio entre precisão e sensibilidade.\n",
        "\n",
        "Por isso, escolhemos a Rede Neural como modelo final para prever a evasão no teste real."
      ]
    },
    {
      "cell_type": "markdown",
      "id": "KqaLc62w0Ekr",
      "metadata": {
        "id": "KqaLc62w0Ekr"
      },
      "source": [
        "### 9.4 Matriz de Confusão - Teste Real\n",
        "\n",
        "A matriz mostra que o modelo teve excelente desempenho para identificar alunos que evadiram (22 acertos) e também bom desempenho com os que não evadiram (21 acertos).\n",
        "\n",
        "Cometeu apenas 2 falsos positivos, prevendo evasão para alunos que estavam ativos, e 1 falso negativo, classificando incorretamente um aluno evadido como ativo.\n",
        "\n",
        "Esses resultados indicam que a Rede Neural teve ótimo equilíbrio entre precisão e recall, sendo o modelo que melhor generalizou no teste final.\n"
      ]
    },
    {
      "cell_type": "code",
      "execution_count": null,
      "id": "PKB2rUTZvCyu",
      "metadata": {
        "colab": {
          "base_uri": "https://localhost:8080/",
          "height": 410
        },
        "id": "PKB2rUTZvCyu",
        "outputId": "5fff137f-d169-4021-c47a-600bdb2a330e"
      },
      "outputs": [
        {
          "data": {
            "image/png": "[encoded data removed]",
            "text/plain": [
              "<Figure size 600x400 with 2 Axes>"
            ]
          },
          "metadata": {},
          "output_type": "display_data"
        }
      ],
      "source": [
        "from sklearn.metrics import confusion_matrix\n",
        "import seaborn as sns\n",
        "import matplotlib.pyplot as plt\n",
        "\n",
        "# Usar os valores previstos da Rede Neural\n",
        "cm = confusion_matrix(y_teste_real, y_pred_nn)\n",
        "\n",
        "plt.figure(figsize=(6, 4))\n",
        "sns.heatmap(cm, annot=True, fmt='d', cmap='Blues',\n",
        "            xticklabels=[\"Não Evadiu\", \"Evadíu\"],\n",
        "            yticklabels=[\"Não Evadiu\", \"Evadíu\"])\n",
        "plt.xlabel(\"Previsto\")\n",
        "plt.ylabel(\"Real\")\n",
        "plt.title(\"Matriz de Confusão - Teste Real (Rede Neural)\")\n",
        "plt.show()"
      ]
    },
    {
      "cell_type": "markdown",
      "id": "jtghnIGdzuRr",
      "metadata": {
        "id": "jtghnIGdzuRr"
      },
      "source": [
        "### 9.5 Curva ROC no Teste Real\n",
        "\n",
        "A curva ROC da Rede Neural indica um ótimo desempenho na separação entre alunos que evadiram e os que não evadiram, com uma AUC de 0.95.\n",
        "\n",
        "Esse valor mostra que o modelo tem alta capacidade preditiva, sendo eficaz na distinção entre as classes. Quanto mais próximo de 1, melhor — e neste caso, o resultado é muito positivo.\n"
      ]
    },
    {
      "cell_type": "code",
      "execution_count": null,
      "id": "ss3MMd5evKmh",
      "metadata": {
        "colab": {
          "base_uri": "https://localhost:8080/",
          "height": 410
        },
        "id": "ss3MMd5evKmh",
        "outputId": "4a53c079-e5ff-4579-aeef-497d87828bfd"
      },
      "outputs": [
        {
          "data": {
            "image/png": "[encoded data removed]",
            "text/plain": [
              "<Figure size 600x400 with 1 Axes>"
            ]
          },
          "metadata": {},
          "output_type": "display_data"
        }
      ],
      "source": [
        "from sklearn.metrics import roc_curve, roc_auc_score\n",
        "\n",
        "fpr, tpr, _ = roc_curve(y_teste_real, y_proba_nn)\n",
        "auc = roc_auc_score(y_teste_real, y_proba_nn)\n",
        "\n",
        "plt.figure(figsize=(6, 4))\n",
        "plt.plot(fpr, tpr, label=f\"ROC Curve (AUC = {auc:.2f})\")\n",
        "plt.plot([0, 1], [0, 1], linestyle=\"--\", color=\"gray\")\n",
        "plt.xlabel(\"Falso Positivo\")\n",
        "plt.ylabel(\"Verdadeiro Positivo\")\n",
        "plt.title(\"Curva ROC - Teste Real (Rede Neural)\")\n",
        "plt.legend()\n",
        "plt.grid()\n",
        "plt.show()"
      ]
    },
    {
      "cell_type": "markdown",
      "id": "flpytfHZz554",
      "metadata": {
        "id": "flpytfHZz554"
      },
      "source": [
        "### 9.6 Curva Precisão x Recall\n",
        "\n",
        "A curva mostra que o modelo de Rede Neural manteve alta precisão mesmo com altos níveis de recall, ou seja, conseguiu identificar corretamente muitos evasores sem perder acurácia nas previsões.\n",
        "\n",
        "Isso indica bom equilíbrio entre precisão e recall, o que é essencial em problemas desbalanceados, como a previsão de evasão."
      ]
    },
    {
      "cell_type": "code",
      "execution_count": null,
      "id": "gIIUw767vd8h",
      "metadata": {
        "colab": {
          "base_uri": "https://localhost:8080/",
          "height": 410
        },
        "id": "gIIUw767vd8h",
        "outputId": "28e93996-d9ac-4c76-e9d1-0556fe06d5b7"
      },
      "outputs": [
        {
          "data": {
            "image/png": "[encoded data removed]",
            "text/plain": [
              "<Figure size 600x400 with 1 Axes>"
            ]
          },
          "metadata": {},
          "output_type": "display_data"
        }
      ],
      "source": [
        "from sklearn.metrics import precision_recall_curve\n",
        "\n",
        "prec, rec, _ = precision_recall_curve(y_teste_real, y_proba_nn)\n",
        "\n",
        "plt.figure(figsize=(6, 4))\n",
        "plt.plot(rec, prec, label=\"Precisão vs. Recall\")\n",
        "plt.xlabel(\"Recall\")\n",
        "plt.ylabel(\"Precisão\")\n",
        "plt.title(\"Curva Precisão x Recall - Teste Real (Rede Neural)\")\n",
        "plt.grid()\n",
        "plt.legend()\n",
        "plt.show()"
      ]
    },
    {
      "cell_type": "markdown",
      "id": "jLjJ9aaV0M-f",
      "metadata": {
        "id": "jLjJ9aaV0M-f"
      },
      "source": [
        "Proporção de Evasores\n",
        "\n",
        "A proporção de alunos evadidos foi semelhante entre treino (52%) e teste real (50%), o que indica uma boa estratificação dos dados e evita viés na avaliação do modelo."
      ]
    },
    {
      "cell_type": "code",
      "execution_count": null,
      "id": "Pc5put3Vx28_",
      "metadata": {
        "colab": {
          "base_uri": "https://localhost:8080/"
        },
        "id": "Pc5put3Vx28_",
        "outputId": "f4142ba2-9d79-4d3d-f85a-47d67faae1a9"
      },
      "outputs": [
        {
          "name": "stdout",
          "output_type": "stream",
          "text": [
            "Treino: 0.524390243902439\n",
            "Teste Real: 0.5\n"
          ]
        }
      ],
      "source": [
        "# Comparar proporção de evasores\n",
        "print(\"Treino:\", y_train.mean())\n",
        "print(\"Teste Real:\", y_teste_real.mean())\n"
      ]
    }
  ],
  "metadata": {
    "colab": {
      "provenance": []
    },
    "kernelspec": {
      "display_name": "Python 3",
      "name": "python3"
    },
    "language_info": {
      "name": "python",
      "version": "3.12.10"
    }
  },
  "nbformat": 4,
  "nbformat_minor": 5
}
