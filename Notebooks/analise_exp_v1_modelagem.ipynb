{
  "cells": [
    {
      "cell_type": "markdown",
      "id": "49507540",
      "metadata": {
        "id": "49507540"
      },
      "source": [
        "## **1. Carregamento e Preparação dos Dados**"
      ]
    },
    {
      "cell_type": "code",
      "execution_count": 11,
      "id": "a7f85cd7",
      "metadata": {
        "colab": {
          "base_uri": "https://localhost:8080/",
          "height": 178
        },
        "id": "a7f85cd7",
        "outputId": "13e3f8ac-0504-4448-b4f4-2216d735dd38"
      },
      "outputs": [
        {
          "output_type": "execute_result",
          "data": {
            "text/plain": [
              "evadiu\n",
              "0    0.5225\n",
              "1    0.4775\n",
              "Name: proportion, dtype: float64"
            ],
            "text/html": [
              "<div>\n",
              "<style scoped>\n",
              "    .dataframe tbody tr th:only-of-type {\n",
              "        vertical-align: middle;\n",
              "    }\n",
              "\n",
              "    .dataframe tbody tr th {\n",
              "        vertical-align: top;\n",
              "    }\n",
              "\n",
              "    .dataframe thead th {\n",
              "        text-align: right;\n",
              "    }\n",
              "</style>\n",
              "<table border=\"1\" class=\"dataframe\">\n",
              "  <thead>\n",
              "    <tr style=\"text-align: right;\">\n",
              "      <th></th>\n",
              "      <th>proportion</th>\n",
              "    </tr>\n",
              "    <tr>\n",
              "      <th>evadiu</th>\n",
              "      <th></th>\n",
              "    </tr>\n",
              "  </thead>\n",
              "  <tbody>\n",
              "    <tr>\n",
              "      <th>0</th>\n",
              "      <td>0.5225</td>\n",
              "    </tr>\n",
              "    <tr>\n",
              "      <th>1</th>\n",
              "      <td>0.4775</td>\n",
              "    </tr>\n",
              "  </tbody>\n",
              "</table>\n",
              "</div><br><label><b>dtype:</b> float64</label>"
            ]
          },
          "metadata": {},
          "execution_count": 11
        }
      ],
      "source": [
        "import pandas as pd\n",
        "import numpy as np\n",
        "\n",
        "# Carregar dados exportados do notebook de EDA\n",
        "df = pd.read_csv('dados_processados.csv')\n",
        "\n",
        "# Criar variável-alvo baseada em mediana para melhor balanceamento\n",
        "dias_mediana = df['nr_dias_uso'].median()\n",
        "interacoes_mediana = df['nr_interacoes_usuario'].median()\n",
        "df['evadiu'] = ((df['nr_dias_uso'] < dias_mediana) & (df['nr_interacoes_usuario'] < interacoes_mediana)).astype(int)\n",
        "\n",
        "# Verificar balanceamento\n",
        "df['evadiu'].value_counts(normalize=True)"
      ]
    },
    {
      "cell_type": "markdown",
      "id": "a1cd5356",
      "metadata": {
        "id": "a1cd5356"
      },
      "source": [
        "## **2. Separação de X e y**"
      ]
    },
    {
      "cell_type": "code",
      "execution_count": 12,
      "id": "66da0f2f",
      "metadata": {
        "id": "66da0f2f"
      },
      "outputs": [],
      "source": [
        "# Selecionar apenas colunas numéricas para os modelos\n",
        "X = df.select_dtypes(include=['int64', 'float64']).drop(columns=['evadiu'])\n",
        "y = df['evadiu']\n",
        "\n",
        "from sklearn.model_selection import train_test_split\n",
        "X_train, X_val, y_train, y_val = train_test_split(X, y, test_size=0.2, random_state=42)"
      ]
    },
    {
      "cell_type": "markdown",
      "id": "9d237f77",
      "metadata": {
        "id": "9d237f77"
      },
      "source": [
        "## **3. Treinamento e Avaliação dos Modelos**"
      ]
    },
    {
      "cell_type": "markdown",
      "id": "c746cb7a",
      "metadata": {
        "id": "c746cb7a"
      },
      "source": [
        "### kNN"
      ]
    },
    {
      "cell_type": "code",
      "execution_count": 13,
      "id": "0f3b2beb",
      "metadata": {
        "colab": {
          "base_uri": "https://localhost:8080/"
        },
        "id": "0f3b2beb",
        "outputId": "ea311e5c-11fc-4894-8e5e-6c769e27308a"
      },
      "outputs": [
        {
          "output_type": "stream",
          "name": "stdout",
          "text": [
            "kNN\n",
            "              precision    recall  f1-score   support\n",
            "\n",
            "           0       1.00      0.95      0.97        40\n",
            "           1       0.95      1.00      0.98        40\n",
            "\n",
            "    accuracy                           0.97        80\n",
            "   macro avg       0.98      0.97      0.97        80\n",
            "weighted avg       0.98      0.97      0.97        80\n",
            "\n"
          ]
        }
      ],
      "source": [
        "from sklearn.neighbors import KNeighborsClassifier\n",
        "from sklearn.metrics import classification_report\n",
        "\n",
        "knn = KNeighborsClassifier(n_neighbors=5)\n",
        "knn.fit(X_train, y_train)\n",
        "y_pred_knn = knn.predict(X_val)\n",
        "print('kNN')\n",
        "print(classification_report(y_val, y_pred_knn))"
      ]
    },
    {
      "cell_type": "markdown",
      "id": "e3649f03",
      "metadata": {
        "id": "e3649f03"
      },
      "source": [
        "### Árvore de Decisão"
      ]
    },
    {
      "cell_type": "code",
      "execution_count": 14,
      "id": "51c05abc",
      "metadata": {
        "colab": {
          "base_uri": "https://localhost:8080/"
        },
        "id": "51c05abc",
        "outputId": "5d8f58c9-0491-4eed-e355-075939795812"
      },
      "outputs": [
        {
          "output_type": "stream",
          "name": "stdout",
          "text": [
            "Árvore de Decisão\n",
            "              precision    recall  f1-score   support\n",
            "\n",
            "           0       1.00      1.00      1.00        40\n",
            "           1       1.00      1.00      1.00        40\n",
            "\n",
            "    accuracy                           1.00        80\n",
            "   macro avg       1.00      1.00      1.00        80\n",
            "weighted avg       1.00      1.00      1.00        80\n",
            "\n"
          ]
        }
      ],
      "source": [
        "from sklearn.tree import DecisionTreeClassifier\n",
        "\n",
        "tree = DecisionTreeClassifier(max_depth=4, random_state=42)\n",
        "tree.fit(X_train, y_train)\n",
        "y_pred_tree = tree.predict(X_val)\n",
        "print('Árvore de Decisão')\n",
        "print(classification_report(y_val, y_pred_tree))"
      ]
    },
    {
      "cell_type": "markdown",
      "id": "7d61fdd0",
      "metadata": {
        "id": "7d61fdd0"
      },
      "source": [
        "### Rede Neural (Keras)"
      ]
    },
    {
      "cell_type": "code",
      "execution_count": 15,
      "id": "5926988c",
      "metadata": {
        "colab": {
          "base_uri": "https://localhost:8080/"
        },
        "id": "5926988c",
        "outputId": "3c802978-fa10-41c1-e454-b095afe2f223"
      },
      "outputs": [
        {
          "output_type": "stream",
          "name": "stderr",
          "text": [
            "/usr/local/lib/python3.11/dist-packages/keras/src/layers/core/dense.py:87: UserWarning: Do not pass an `input_shape`/`input_dim` argument to a layer. When using Sequential models, prefer using an `Input(shape)` object as the first layer in the model instead.\n",
            "  super().__init__(activity_regularizer=activity_regularizer, **kwargs)\n"
          ]
        },
        {
          "output_type": "stream",
          "name": "stdout",
          "text": [
            "Epoch 1/20\n",
            "\u001b[1m16/16\u001b[0m \u001b[32m━━━━━━━━━━━━━━━━━━━━\u001b[0m\u001b[37m\u001b[0m \u001b[1m3s\u001b[0m 32ms/step - accuracy: 0.5568 - loss: 3.1555 - val_accuracy: 0.9375 - val_loss: 0.4492\n",
            "Epoch 2/20\n",
            "\u001b[1m16/16\u001b[0m \u001b[32m━━━━━━━━━━━━━━━━━━━━\u001b[0m\u001b[37m\u001b[0m \u001b[1m0s\u001b[0m 13ms/step - accuracy: 0.9906 - loss: 0.4034 - val_accuracy: 1.0000 - val_loss: 0.3042\n",
            "Epoch 3/20\n",
            "\u001b[1m16/16\u001b[0m \u001b[32m━━━━━━━━━━━━━━━━━━━━\u001b[0m\u001b[37m\u001b[0m \u001b[1m0s\u001b[0m 11ms/step - accuracy: 0.9976 - loss: 0.2624 - val_accuracy: 1.0000 - val_loss: 0.2020\n",
            "Epoch 4/20\n",
            "\u001b[1m16/16\u001b[0m \u001b[32m━━━━━━━━━━━━━━━━━━━━\u001b[0m\u001b[37m\u001b[0m \u001b[1m0s\u001b[0m 12ms/step - accuracy: 0.9904 - loss: 0.1859 - val_accuracy: 1.0000 - val_loss: 0.1190\n",
            "Epoch 5/20\n",
            "\u001b[1m16/16\u001b[0m \u001b[32m━━━━━━━━━━━━━━━━━━━━\u001b[0m\u001b[37m\u001b[0m \u001b[1m0s\u001b[0m 6ms/step - accuracy: 0.9927 - loss: 0.1058 - val_accuracy: 1.0000 - val_loss: 0.0685\n",
            "Epoch 6/20\n",
            "\u001b[1m16/16\u001b[0m \u001b[32m━━━━━━━━━━━━━━━━━━━━\u001b[0m\u001b[37m\u001b[0m \u001b[1m0s\u001b[0m 6ms/step - accuracy: 0.9978 - loss: 0.0628 - val_accuracy: 1.0000 - val_loss: 0.0389\n",
            "Epoch 7/20\n",
            "\u001b[1m16/16\u001b[0m \u001b[32m━━━━━━━━━━━━━━━━━━━━\u001b[0m\u001b[37m\u001b[0m \u001b[1m0s\u001b[0m 6ms/step - accuracy: 0.9938 - loss: 0.0527 - val_accuracy: 1.0000 - val_loss: 0.0255\n",
            "Epoch 8/20\n",
            "\u001b[1m16/16\u001b[0m \u001b[32m━━━━━━━━━━━━━━━━━━━━\u001b[0m\u001b[37m\u001b[0m \u001b[1m0s\u001b[0m 6ms/step - accuracy: 0.9959 - loss: 0.0350 - val_accuracy: 1.0000 - val_loss: 0.0183\n",
            "Epoch 9/20\n",
            "\u001b[1m16/16\u001b[0m \u001b[32m━━━━━━━━━━━━━━━━━━━━\u001b[0m\u001b[37m\u001b[0m \u001b[1m0s\u001b[0m 6ms/step - accuracy: 0.9907 - loss: 0.0456 - val_accuracy: 1.0000 - val_loss: 0.0150\n",
            "Epoch 10/20\n",
            "\u001b[1m16/16\u001b[0m \u001b[32m━━━━━━━━━━━━━━━━━━━━\u001b[0m\u001b[37m\u001b[0m \u001b[1m0s\u001b[0m 6ms/step - accuracy: 0.9913 - loss: 0.0408 - val_accuracy: 1.0000 - val_loss: 0.0123\n",
            "Epoch 11/20\n",
            "\u001b[1m16/16\u001b[0m \u001b[32m━━━━━━━━━━━━━━━━━━━━\u001b[0m\u001b[37m\u001b[0m \u001b[1m0s\u001b[0m 6ms/step - accuracy: 0.9869 - loss: 0.0488 - val_accuracy: 1.0000 - val_loss: 0.0099\n",
            "Epoch 12/20\n",
            "\u001b[1m16/16\u001b[0m \u001b[32m━━━━━━━━━━━━━━━━━━━━\u001b[0m\u001b[37m\u001b[0m \u001b[1m0s\u001b[0m 8ms/step - accuracy: 0.9866 - loss: 0.0493 - val_accuracy: 1.0000 - val_loss: 0.0092\n",
            "Epoch 13/20\n",
            "\u001b[1m16/16\u001b[0m \u001b[32m━━━━━━━━━━━━━━━━━━━━\u001b[0m\u001b[37m\u001b[0m \u001b[1m0s\u001b[0m 6ms/step - accuracy: 0.9959 - loss: 0.0241 - val_accuracy: 1.0000 - val_loss: 0.0088\n",
            "Epoch 14/20\n",
            "\u001b[1m16/16\u001b[0m \u001b[32m━━━━━━━━━━━━━━━━━━━━\u001b[0m\u001b[37m\u001b[0m \u001b[1m0s\u001b[0m 9ms/step - accuracy: 0.9814 - loss: 0.0646 - val_accuracy: 1.0000 - val_loss: 0.0097\n",
            "Epoch 15/20\n",
            "\u001b[1m16/16\u001b[0m \u001b[32m━━━━━━━━━━━━━━━━━━━━\u001b[0m\u001b[37m\u001b[0m \u001b[1m0s\u001b[0m 6ms/step - accuracy: 0.9945 - loss: 0.0276 - val_accuracy: 1.0000 - val_loss: 0.0080\n",
            "Epoch 16/20\n",
            "\u001b[1m16/16\u001b[0m \u001b[32m━━━━━━━━━━━━━━━━━━━━\u001b[0m\u001b[37m\u001b[0m \u001b[1m0s\u001b[0m 6ms/step - accuracy: 0.9971 - loss: 0.0185 - val_accuracy: 1.0000 - val_loss: 0.0072\n",
            "Epoch 17/20\n",
            "\u001b[1m16/16\u001b[0m \u001b[32m━━━━━━━━━━━━━━━━━━━━\u001b[0m\u001b[37m\u001b[0m \u001b[1m0s\u001b[0m 6ms/step - accuracy: 0.9925 - loss: 0.0321 - val_accuracy: 1.0000 - val_loss: 0.0085\n",
            "Epoch 18/20\n",
            "\u001b[1m16/16\u001b[0m \u001b[32m━━━━━━━━━━━━━━━━━━━━\u001b[0m\u001b[37m\u001b[0m \u001b[1m0s\u001b[0m 6ms/step - accuracy: 0.9942 - loss: 0.0258 - val_accuracy: 1.0000 - val_loss: 0.0087\n",
            "Epoch 19/20\n",
            "\u001b[1m16/16\u001b[0m \u001b[32m━━━━━━━━━━━━━━━━━━━━\u001b[0m\u001b[37m\u001b[0m \u001b[1m0s\u001b[0m 7ms/step - accuracy: 0.9937 - loss: 0.0265 - val_accuracy: 1.0000 - val_loss: 0.0085\n",
            "Epoch 20/20\n",
            "\u001b[1m16/16\u001b[0m \u001b[32m━━━━━━━━━━━━━━━━━━━━\u001b[0m\u001b[37m\u001b[0m \u001b[1m0s\u001b[0m 6ms/step - accuracy: 0.9926 - loss: 0.0301 - val_accuracy: 1.0000 - val_loss: 0.0081\n",
            "\u001b[1m3/3\u001b[0m \u001b[32m━━━━━━━━━━━━━━━━━━━━\u001b[0m\u001b[37m\u001b[0m \u001b[1m0s\u001b[0m 36ms/step\n",
            "Rede Neural\n",
            "              precision    recall  f1-score   support\n",
            "\n",
            "           0       1.00      0.95      0.97        40\n",
            "           1       0.95      1.00      0.98        40\n",
            "\n",
            "    accuracy                           0.97        80\n",
            "   macro avg       0.98      0.97      0.97        80\n",
            "weighted avg       0.98      0.97      0.97        80\n",
            "\n"
          ]
        }
      ],
      "source": [
        "from tensorflow.keras.models import Sequential\n",
        "from tensorflow.keras.layers import Dense\n",
        "from tensorflow.keras.optimizers import Adam\n",
        "\n",
        "model = Sequential()\n",
        "model.add(Dense(64, activation='relu', input_shape=(X_train.shape[1],)))\n",
        "model.add(Dense(32, activation='relu'))\n",
        "model.add(Dense(1, activation='sigmoid'))\n",
        "model.compile(optimizer=Adam(), loss='binary_crossentropy', metrics=['accuracy'])\n",
        "model.fit(X_train, y_train, epochs=20, batch_size=16, validation_split=0.2)\n",
        "\n",
        "y_pred_nn = model.predict(X_val)\n",
        "y_pred_nn_class = (y_pred_nn > 0.5).astype(int)\n",
        "print('Rede Neural')\n",
        "print(classification_report(y_val, y_pred_nn_class))"
      ]
    }
  ],
  "metadata": {
    "kernelspec": {
      "display_name": "Python 3",
      "name": "python3"
    },
    "colab": {
      "provenance": []
    }
  },
  "nbformat": 4,
  "nbformat_minor": 5
}