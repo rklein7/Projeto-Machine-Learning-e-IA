{
  "cells": [
    {
      "cell_type": "markdown",
      "id": "53d3dce2",
      "metadata": {
        "id": "53d3dce2"
      },
      "source": [
        "# Projeto do Nanodegree - 2025/1"
      ]
    },
    {
      "cell_type": "markdown",
      "id": "55bc3e39",
      "metadata": {
        "id": "55bc3e39"
      },
      "source": [
        "## Introdução\n",
        "\n",
        "Este notebook faz parte do projeto do Nanodegree 2025/1 da disciplina de Machine Learning & Inteligência Artificial.\n",
        "Seu objetivo é analisar, explorar, preparar os dados e aplicar a modelos para a tarefa de previsão de evasão de estudantes em um curso online síncrono promovido pela PensComp.\n",
        "\n",
        "---"
      ]
    },
    {
      "cell_type": "code",
      "execution_count": 3,
      "id": "fD6qL_ah1o8h",
      "metadata": {
        "colab": {
          "base_uri": "https://localhost:8080/"
        },
        "id": "fD6qL_ah1o8h",
        "outputId": "15f4d0c1-1ba6-48af-d1f3-e64050063c19"
      },
      "outputs": [
        {
          "name": "stdout",
          "output_type": "stream",
          "text": [
            "Defaulting to user installation because normal site-packages is not writeable\n",
            "Requirement already satisfied: unidecode in /Users/gabriel/Library/Python/3.9/lib/python/site-packages (1.4.0)\n",
            "\u001b[33mWARNING: You are using pip version 21.2.4; however, version 25.1.1 is available.\n",
            "You should consider upgrading via the '/Library/Developer/CommandLineTools/usr/bin/python3 -m pip install --upgrade pip' command.\u001b[0m\n",
            "Note: you may need to restart the kernel to use updated packages.\n"
          ]
        }
      ],
      "source": [
        "pip install unidecode"
      ]
    },
    {
      "cell_type": "markdown",
      "id": "1116de78",
      "metadata": {},
      "source": [
        "## Importação de Bibliotecas"
      ]
    },
    {
      "cell_type": "code",
      "execution_count": 4,
      "id": "44290807",
      "metadata": {
        "id": "44290807"
      },
      "outputs": [
        {
          "ename": "ModuleNotFoundError",
          "evalue": "No module named 'pandas'",
          "output_type": "error",
          "traceback": [
            "\u001b[0;31m---------------------------------------------------------------------------\u001b[0m",
            "\u001b[0;31mModuleNotFoundError\u001b[0m                       Traceback (most recent call last)",
            "Cell \u001b[0;32mIn[4], line 1\u001b[0m\n\u001b[0;32m----> 1\u001b[0m \u001b[38;5;28;01mimport\u001b[39;00m\u001b[38;5;250m \u001b[39m\u001b[38;5;21;01mpandas\u001b[39;00m\u001b[38;5;250m \u001b[39m\u001b[38;5;28;01mas\u001b[39;00m\u001b[38;5;250m \u001b[39m\u001b[38;5;21;01mpd\u001b[39;00m\n\u001b[1;32m      2\u001b[0m \u001b[38;5;28;01mimport\u001b[39;00m\u001b[38;5;250m \u001b[39m\u001b[38;5;21;01mnumpy\u001b[39;00m\u001b[38;5;250m \u001b[39m\u001b[38;5;28;01mas\u001b[39;00m\u001b[38;5;250m \u001b[39m\u001b[38;5;21;01mnp\u001b[39;00m\n\u001b[1;32m      3\u001b[0m \u001b[38;5;28;01mimport\u001b[39;00m\u001b[38;5;250m \u001b[39m\u001b[38;5;21;01mmatplotlib\u001b[39;00m\u001b[38;5;21;01m.\u001b[39;00m\u001b[38;5;21;01mpyplot\u001b[39;00m\u001b[38;5;250m \u001b[39m\u001b[38;5;28;01mas\u001b[39;00m\u001b[38;5;250m \u001b[39m\u001b[38;5;21;01mplt\u001b[39;00m\n",
            "\u001b[0;31mModuleNotFoundError\u001b[0m: No module named 'pandas'"
          ]
        }
      ],
      "source": [
        "import pandas as pd\n",
        "import numpy as np\n",
        "import matplotlib.pyplot as plt\n",
        "import seaborn as sns\n",
        "import unidecode"
      ]
    },
    {
      "cell_type": "markdown",
      "id": "87f244a7",
      "metadata": {
        "id": "87f244a7"
      },
      "source": [
        "## Carregamento dos Dados\n",
        "\n",
        "O dataset original é carregado a partir de um arquivo CSV contendo informações dos usuários. Este arquivo servirá como base para a análise exploratória e limpeza inicial dos dados."
      ]
    },
    {
      "cell_type": "code",
      "execution_count": null,
      "id": "2c65a767",
      "metadata": {
        "id": "2c65a767"
      },
      "outputs": [],
      "source": [
        "df = pd.read_csv('dados_projeto_evasao_treino - Copia.csv')"
      ]
    },
    {
      "cell_type": "markdown",
      "id": "54147338",
      "metadata": {
        "id": "54147338"
      },
      "source": [
        "## Análise Exploratória"
      ]
    },
    {
      "cell_type": "code",
      "execution_count": null,
      "id": "34ac8ac0",
      "metadata": {
        "colab": {
          "base_uri": "https://localhost:8080/"
        },
        "id": "34ac8ac0",
        "outputId": "bea241f0-9c21-4f4d-9244-6065b9a99014"
      },
      "outputs": [],
      "source": [
        "# Estrutura do DF\n",
        "df.shape\n",
        "df.info()"
      ]
    },
    {
      "cell_type": "code",
      "execution_count": null,
      "id": "051bf858",
      "metadata": {
        "colab": {
          "base_uri": "https://localhost:8080/",
          "height": 273
        },
        "id": "051bf858",
        "outputId": "b7c7da53-082a-4fae-e6fa-2e67769f9b88"
      },
      "outputs": [],
      "source": [
        "# Amostra dos dados\n",
        "df.head()"
      ]
    },
    {
      "cell_type": "code",
      "execution_count": null,
      "id": "99bb8eaa",
      "metadata": {
        "colab": {
          "base_uri": "https://localhost:8080/"
        },
        "id": "99bb8eaa",
        "outputId": "720cdb97-7a57-4438-f1f2-1df7eabd0aae"
      },
      "outputs": [],
      "source": [
        "# Classificação das colunas por tipo de prefixo\n",
        "categoricas = [col for col in df.columns if col.startswith(\"ds_\")]\n",
        "temporais = [col for col in df.columns if col.startswith(\"ts_\")]\n",
        "numericas_nr = [col for col in df.columns if col.startswith(\"nr_\")]\n",
        "numericas_vl = [col for col in df.columns if col.startswith(\"vl_\")]\n",
        "\n",
        "print(\"\\nColunas categóricas:\", categoricas)\n",
        "print(\"Colunas temporais:\", temporais)\n",
        "print(\"Colunas numéricas (contagem - nr_):\", numericas_nr)\n",
        "print(\"Colunas numéricas (valores/escalares - vl_):\", numericas_vl)"
      ]
    },
    {
      "cell_type": "markdown",
      "id": "e6fb2779",
      "metadata": {
        "id": "e6fb2779"
      },
      "source": [
        "### Verificação de itens ausentes"
      ]
    },
    {
      "cell_type": "code",
      "execution_count": null,
      "id": "17cbd192",
      "metadata": {
        "colab": {
          "base_uri": "https://localhost:8080/"
        },
        "id": "17cbd192",
        "outputId": "b1b30192-d6b4-4874-b21f-8d808ee1372f"
      },
      "outputs": [],
      "source": [
        "# Verificando colunas que possuam ao menos um item nulo\n",
        "missing = (df.isnull().mean() * 100).sort_values(ascending=True)\n",
        "\n",
        "print(\"\\nProporção de valores ausentes por coluna (%):\")\n",
        "print(missing[missing > 0].round(2))"
      ]
    },
    {
      "cell_type": "markdown",
      "id": "0a2e782c",
      "metadata": {},
      "source": [
        "## Limpeza e Preparação dos Dados"
      ]
    },
    {
      "cell_type": "markdown",
      "id": "e3f1ace7",
      "metadata": {
        "id": "e3f1ace7"
      },
      "source": [
        "Primeiro vamos remover a coluna que representaria o ID para não influenciar na predição e após isso remover todas as linhas onde na coluna ts_primeiro_acesso esteja zerado \"0\", pois isso simboliza que o aluno nunca acessou o portal"
      ]
    },
    {
      "cell_type": "code",
      "execution_count": null,
      "id": "74e053cc",
      "metadata": {
        "id": "74e053cc"
      },
      "outputs": [],
      "source": [
        "df = df.drop(\"Unnamed: 0\", axis=1)\n"
      ]
    },
    {
      "cell_type": "code",
      "execution_count": null,
      "id": "8fa853ba",
      "metadata": {
        "id": "8fa853ba"
      },
      "outputs": [],
      "source": [
        "df = df[df['ts_primeiro_acesso'] != 0]"
      ]
    },
    {
      "cell_type": "code",
      "execution_count": null,
      "id": "924b7722",
      "metadata": {
        "colab": {
          "base_uri": "https://localhost:8080/",
          "height": 255
        },
        "id": "924b7722",
        "outputId": "9abb7303-eb5c-4236-b889-d0cfef61a55c"
      },
      "outputs": [],
      "source": [
        "df.head()"
      ]
    },
    {
      "cell_type": "markdown",
      "id": "5197b88d",
      "metadata": {
        "id": "5197b88d"
      },
      "source": [
        "Agora fizemos a conversao dos dados TS para um datetime"
      ]
    },
    {
      "cell_type": "code",
      "execution_count": null,
      "id": "8c4b2b44",
      "metadata": {
        "id": "8c4b2b44"
      },
      "outputs": [],
      "source": [
        "df['ts_primeiro_acesso'] = pd.to_datetime(df['ts_primeiro_acesso'], unit='s')\n",
        "df['ts_ultimo_acesso'] = pd.to_datetime(df['ts_ultimo_acesso'], unit='s')"
      ]
    },
    {
      "cell_type": "code",
      "execution_count": null,
      "id": "bd5d4ce1",
      "metadata": {
        "colab": {
          "base_uri": "https://localhost:8080/",
          "height": 342
        },
        "id": "bd5d4ce1",
        "outputId": "18cde8a3-473a-4762-f74b-3239095970ce"
      },
      "outputs": [],
      "source": [
        "df.head()"
      ]
    },
    {
      "cell_type": "markdown",
      "id": "34de2c2e",
      "metadata": {
        "id": "34de2c2e"
      },
      "source": [
        "limpeza e formatação coluna cidade usuario"
      ]
    },
    {
      "cell_type": "code",
      "execution_count": null,
      "id": "6045e0f2",
      "metadata": {
        "colab": {
          "base_uri": "https://localhost:8080/"
        },
        "id": "6045e0f2",
        "outputId": "c8ffda86-4861-4390-a35c-1fbedeed432e"
      },
      "outputs": [],
      "source": [
        "print(df['ds_cidade_usuario'].unique())"
      ]
    },
    {
      "cell_type": "code",
      "execution_count": null,
      "id": "7b2b354b",
      "metadata": {
        "id": "7b2b354b"
      },
      "outputs": [],
      "source": [
        "df['ds_cidade_usuario'] = (\n",
        "    df['ds_cidade_usuario']\n",
        "    .astype(str)\n",
        "    .str.strip()\n",
        "    .str.upper()\n",
        "    .apply(unidecode.unidecode)\n",
        ")"
      ]
    },
    {
      "cell_type": "code",
      "execution_count": null,
      "id": "dc9b93d1",
      "metadata": {
        "colab": {
          "base_uri": "https://localhost:8080/"
        },
        "id": "dc9b93d1",
        "outputId": "1337d3d8-7149-4d21-e2e2-723a578b5ca9"
      },
      "outputs": [],
      "source": [
        "df['ds_cidade_usuario'].replace(\"NAN\", \"CIDADE NAO INFORMADA\", inplace=True)"
      ]
    },
    {
      "cell_type": "code",
      "execution_count": null,
      "id": "5701e2b1",
      "metadata": {
        "colab": {
          "base_uri": "https://localhost:8080/"
        },
        "id": "5701e2b1",
        "outputId": "b663bdc8-4c5a-4f13-ec7f-6b01ad3432c0"
      },
      "outputs": [],
      "source": [
        "print(df['ds_cidade_usuario'].unique())"
      ]
    },
    {
      "cell_type": "markdown",
      "id": "n_Em1vkG082V",
      "metadata": {
        "id": "n_Em1vkG082V"
      },
      "source": [
        "### Tratamento de Valores Ausentes\n",
        "\n",
        "Durante a análise, identificamos 5 colunas com altos índices de valores nulos:\n",
        "\n",
        "- `vl_media_submissoes_codigo` (~99%)\n",
        "- `vl_submissoes_por_dias_ativos` (~98%)\n",
        "- `vl_desempenho_questionario` (~93%)\n",
        "- `vl_engajamento_usuario_por_intervalo` (~92.75%)\n",
        "- `vl_engajamento_usuario_intradia` (~92.75%)\n",
        "\n",
        "#### Colunas removidas\n",
        "As duas primeiras foram removidas por conterem dados ausentes em quase todos os registros, o que inviabiliza sua utilização estatística ou em modelos preditivos.\n",
        "\n",
        "#### Colunas preenchidas com zero\n",
        "As demais colunas foram mantidas e os valores nulos preenchidos com **zero**, assumindo que a ausência dos dados representa **falta de atividade do usuário** (ex: nenhum questionário feito, nenhum engajamento detectado). Isso mantém a coerência da análise com o objetivo de detectar evasão por inatividade.\n"
      ]
    },
    {
      "cell_type": "code",
      "execution_count": null,
      "id": "l8SL5q-Y06k1",
      "metadata": {
        "id": "l8SL5q-Y06k1"
      },
      "outputs": [],
      "source": [
        "# Remover colunas com mais de 70% de valores ausentes\n",
        "df.drop(columns=[\"vl_media_submissoes_codigo\", \"vl_submissoes_por_dias_ativos\"], inplace=True)\n",
        "df.drop(columns=[\"vl_media_questoes_por_dia\", \"vl_engajamento_notas\"], inplace=True)"
      ]
    },
    {
      "cell_type": "code",
      "execution_count": null,
      "id": "-kC0G3yJ1BcE",
      "metadata": {
        "id": "-kC0G3yJ1BcE"
      },
      "outputs": [],
      "source": [
        "# Preencher a coluna de desempenho com zero\n",
        "df[\"vl_desempenho_questionario\"] = df[\"vl_desempenho_questionario\"].fillna(0)\n",
        "df[\"vl_engajamento_usuario_por_intervalo\"] = df[\"vl_engajamento_usuario_por_intervalo\"].fillna(0)\n",
        "df[\"vl_engajamento_usuario_intradia\"] = df[\"vl_engajamento_usuario_intradia\"].fillna(0)\n",
        "df[\"vl_desempenho_usuario\"] = df[\"vl_desempenho_usuario\"].fillna(0)\n",
        "df[\"vl_media_notas\"] = df[\"vl_media_notas\"].fillna(0)"
      ]
    },
    {
      "cell_type": "markdown",
      "id": "nYJ9CoT23epT",
      "metadata": {
        "id": "nYJ9CoT23epT"
      },
      "source": [
        "### Por que utilizamos a mediana para preencher valores ausentes?\n",
        "\n",
        "Ao lidar com variáveis contínuas como tempo médio de questionário (`vl_medio_tempo_questionario`) e tempo médio em questionários avaliados (`vl_medio_tempo_questionario_avaliado`), optamos por preencher os valores ausentes com a **mediana**.\n",
        "\n",
        "A **mediana** é o valor central de uma distribuição ordenada — ou seja, separa os 50% menores dos 50% maiores valores. Diferente da **média**, a mediana **não é afetada por outliers ou valores extremos**, o que a torna mais robusta para representar o \"comportamento típico\" dos dados, especialmente em distribuições assimétricas ou com grande variação.\n",
        "\n",
        "#### Vantagens de usar a mediana:\n",
        "- Evita distorção causada por tempos muito longos ou muito curtos.\n",
        "- Mantém a coerência estatística da variável.\n",
        "- Preserva o padrão geral da distribuição sem inflar ou achatar artificialmente os dados.\n",
        "\n",
        "Dessa forma, preenchemos os dados faltantes sem comprometer a qualidade da análise ou da modelagem futura.\n"
      ]
    },
    {
      "cell_type": "code",
      "execution_count": null,
      "id": "rQkYrO1D3QnP",
      "metadata": {
        "id": "rQkYrO1D3QnP"
      },
      "outputs": [],
      "source": [
        "#Preencher com mediana (tempo médio tem sentido contínuo e comparável):\n",
        "df[\"vl_medio_tempo_questionario\"] = df[\"vl_medio_tempo_questionario\"].fillna(df[\"vl_medio_tempo_questionario\"].median())\n",
        "df[\"vl_medio_tempo_questionario_avaliado\"] = df[\"vl_medio_tempo_questionario_avaliado\"].fillna(df[\"vl_medio_tempo_questionario_avaliado\"].median())"
      ]
    },
    {
      "cell_type": "code",
      "execution_count": null,
      "id": "vdNVIMui4-TN",
      "metadata": {
        "colab": {
          "base_uri": "https://localhost:8080/",
          "height": 342
        },
        "id": "vdNVIMui4-TN",
        "outputId": "49c7562a-816c-4a61-a38c-aaa7528baf9b"
      },
      "outputs": [],
      "source": [
        "df.head()"
      ]
    },
    {
      "cell_type": "markdown",
      "id": "UigNMIlYdvTX",
      "metadata": {
        "id": "UigNMIlYdvTX"
      },
      "source": [
        "### Análise de Engajamento por Cidade\n",
        "\n",
        "Comparamos a média de interações dos alunos por cidade, permitindo identificar regiões com maior ou menor participação."
      ]
    },
    {
      "cell_type": "code",
      "execution_count": null,
      "id": "BPL1IfoNdf9Z",
      "metadata": {
        "colab": {
          "base_uri": "https://localhost:8080/",
          "height": 686
        },
        "id": "BPL1IfoNdf9Z",
        "outputId": "f050bb01-71be-4152-d3dc-474412517c74"
      },
      "outputs": [],
      "source": [
        "# Média de engajamento por cidade\n",
        "city_stats = df.groupby('ds_cidade_usuario')[['nr_interacoes_usuario',\n",
        "                                              'vl_desempenho_usuario',\n",
        "                                              'nr_questionarios_finalizados']].mean().reset_index()\n",
        "\n",
        "# Gráfico de barras\n",
        "plt.figure(figsize=(12, 6))\n",
        "sns.barplot(data=city_stats, x='ds_cidade_usuario', y='nr_interacoes_usuario')\n",
        "plt.xticks(rotation=45)\n",
        "plt.title('Média de Interações por Cidade')\n",
        "plt.xlabel('Cidade')\n",
        "plt.ylabel('Média de Interações')\n",
        "plt.show()"
      ]
    },
    {
      "cell_type": "markdown",
      "id": "s2KmJhg67DnO",
      "metadata": {
        "id": "s2KmJhg67DnO"
      },
      "source": [
        "### Distribuição do Desempenho Geral dos Alunos\n",
        "\n",
        "O gráfico de desempenho mostra como os alunos estão performando academicamente, com base na métrica `vl_desempenho_usuario`, que varia de 0 a 1. Indicando uma concentração de alunos com ótimo desempenho e muitos com nenhum"
      ]
    },
    {
      "cell_type": "code",
      "execution_count": null,
      "id": "GG9fhgW_7EXQ",
      "metadata": {
        "colab": {
          "base_uri": "https://localhost:8080/",
          "height": 607
        },
        "id": "GG9fhgW_7EXQ",
        "outputId": "43180983-0a5a-465b-d758-74d82f8f1537"
      },
      "outputs": [],
      "source": [
        "df['vl_desempenho_usuario'] = pd.to_numeric(df['vl_desempenho_usuario'], errors='coerce')\n",
        "media_geral = df['vl_desempenho_usuario'].mean()\n",
        "\n",
        "plt.figure(figsize=(10, 6))\n",
        "sns.histplot(df['vl_desempenho_usuario'], bins=30, kde=True, color='skyblue')\n",
        "plt.axvline(media_geral, color='red', linestyle='--', linewidth=2, label=f'Média: {media_geral:.2f}')\n",
        "plt.title('Distribuição do Desempenho dos Alunos')\n",
        "plt.xlabel('Desempenho')\n",
        "plt.ylabel('Frequência')\n",
        "plt.legend()\n",
        "plt.tight_layout()\n",
        "plt.show()\n"
      ]
    },
    {
      "cell_type": "markdown",
      "id": "78Qusnti3m2_",
      "metadata": {
        "id": "78Qusnti3m2_"
      },
      "source": [
        "### Distribuição dos Dias Desde o Último Acesso\n",
        "\n",
        "Esse gráfico analisa o comportamento de uso da plataforma, mostrando há quantos dias cada usuário realizou seu último acesso."
      ]
    },
    {
      "cell_type": "code",
      "execution_count": null,
      "id": "OHFRNJo5dP7b",
      "metadata": {
        "colab": {
          "base_uri": "https://localhost:8080/",
          "height": 607
        },
        "id": "OHFRNJo5dP7b",
        "outputId": "bfffcfc5-9f99-47a3-b904-7edab10e5e10"
      },
      "outputs": [],
      "source": [
        "\n",
        "# Selecionar  a coluna de dias desde o último acesso\n",
        "dias = df['nr_dias_desde_ultimo_acesso']\n",
        "\n",
        "# Calcular a média\n",
        "media_dias = dias.mean()\n",
        "\n",
        "# Plotar histograma com KDE (curva de densidade)\n",
        "plt.figure(figsize=(10, 6))\n",
        "sns.histplot(dias, bins=30, kde=True, color='skyblue')\n",
        "\n",
        "# Adicionar linha da média\n",
        "plt.axvline(media_dias, color='red', linestyle='--', linewidth=2, label=f'Média: {media_dias:.2f} dias')\n",
        "\n",
        "# Títulos e eixos\n",
        "plt.title(\"Distribuição dos Dias Desde o Último Acesso dos Usuários\")\n",
        "plt.xlabel(\"Dias Desde Último Acesso\")\n",
        "plt.ylabel(\"Frequência\")\n",
        "plt.legend()\n",
        "plt.tight_layout()\n",
        "plt.show()\n"
      ]
    },
    {
      "cell_type": "markdown",
      "id": "1ccriLNXL6Dk",
      "metadata": {
        "id": "1ccriLNXL6Dk"
      },
      "source": [
        "Com base nessas análises sobre engajamento e desempenho dos alunos, criaremos uma variável chamada `evadiu`.  \n",
        "Essa variável simula o comportamento de evasão, permitindo que possamos identificar alunos com maior risco de abandono do curso."
      ]
    },
    {
      "cell_type": "markdown",
      "id": "d6s8lo3NHaDr",
      "metadata": {
        "id": "d6s8lo3NHaDr"
      },
      "source": [
        "#### Criação da variável `evadiu`\n",
        "\n",
        "Criamos uma nova coluna `evadiu` para simular o comportamento de evasão, utilizando a seguinte lógica:\n",
        "\n",
        "> Se o aluno **nunca obteve desempenho** (`vl_desempenho_usuario = 0`) e está **há mais de 60 dias sem acessar a plataforma**, consideramos que ele evadiu.\n",
        "\n",
        "Essa coluna é binária:\n",
        "- `1` → aluno evadiu\n",
        "- `0` → aluno ativo ou ainda engajado\n"
      ]
    },
    {
      "cell_type": "code",
      "execution_count": null,
      "id": "wREtrahDHGjs",
      "metadata": {
        "id": "wREtrahDHGjs"
      },
      "outputs": [],
      "source": [
        "# Criar coluna 'evadiu': alunos com desempenho 0 e sem acessar há mais de 60 dias\n",
        "df[\"vl_desempenho_usuario\"] = pd.to_numeric(df[\"vl_desempenho_usuario\"], errors=\"coerce\")\n",
        "df[\"evadiu\"] = df[\"nr_dias_desde_ultimo_acesso\"] <= 12"
      ]
    },
    {
      "cell_type": "markdown",
      "id": "uzD1tuxwHeQn",
      "metadata": {
        "id": "uzD1tuxwHeQn"
      },
      "source": [
        "#### Comparação entre evasores e não evasores\n",
        "\n",
        "Com a variável `evadiu` criada, comparamos os dois grupos em relação a:\n",
        "- Número de interações\n",
        "- Questionários finalizados\n",
        "- Submissões de código\n",
        "- Desempenho geral\n",
        "\n",
        "Isso nos ajuda a entender quais comportamentos estão mais associados à evasão."
      ]
    },
    {
      "cell_type": "code",
      "execution_count": null,
      "id": "9JNyW-LBHh9k",
      "metadata": {
        "colab": {
          "base_uri": "https://localhost:8080/",
          "height": 143
        },
        "id": "9JNyW-LBHh9k",
        "outputId": "06430d54-a9a6-4ab1-affd-fec3a1873f35"
      },
      "outputs": [],
      "source": [
        "# Comparar médias de variáveis entre evasores e não evasores\n",
        "media_por_grupo = df.groupby(\"evadiu\")[\n",
        "    [\"nr_interacoes_usuario\", \"nr_questionarios_finalizados\", \"vl_desempenho_usuario\", \"nr_submissoes_codigo\"]\n",
        "].mean().round(2)\n",
        "\n",
        "media_por_grupo\n"
      ]
    },
    {
      "cell_type": "markdown",
      "id": "5m1prvYuHz1l",
      "metadata": {
        "id": "5m1prvYuHz1l"
      },
      "source": [
        "#### Classificação de Perfis de Risco\n",
        "\n",
        "A partir das variáveis `vl_desempenho_usuario` e `nr_dias_desde_ultimo_acesso`, classificamos cada aluno em um dos seguintes perfis:\n",
        "\n",
        "| Perfil            | Critério                                              |\n",
        "|-------------------|-------------------------------------------------------|\n",
        "| Alto Risco        | Desempenho = 0 e sem acesso há mais de 60 dias        |\n",
        "| Reengajamento     | Bom desempenho, mas inativo há mais de 60 dias        |\n",
        "| Apoio Pedagógico  | Acessa, mas desempenho muito baixo                    |\n",
        "| Estável           | Acessa com frequência e tem bom desempenho            |\n"
      ]
    },
    {
      "cell_type": "code",
      "execution_count": null,
      "id": "j2CGwbrYH1d6",
      "metadata": {
        "id": "j2CGwbrYH1d6"
      },
      "outputs": [],
      "source": [
        "# Classificar alunos em perfis com base em desempenho e atividade\n",
        "def perfil(row):\n",
        "    if row[\"vl_desempenho_usuario\"] == 0 and row[\"nr_dias_desde_ultimo_acesso\"] > 60:\n",
        "        return \"Alto Risco\"\n",
        "    elif row[\"vl_desempenho_usuario\"] > 0.7 and row[\"nr_dias_desde_ultimo_acesso\"] > 60:\n",
        "        return \"Reengajamento\"\n",
        "    elif row[\"vl_desempenho_usuario\"] < 0.3:\n",
        "        return \"Apoio Pedagógico\"\n",
        "    else:\n",
        "        return \"Estável\"\n",
        "\n",
        "df[\"perfil\"] = df.apply(perfil, axis=1)\n"
      ]
    },
    {
      "cell_type": "markdown",
      "id": "HPm0A7i6H5st",
      "metadata": {
        "id": "HPm0A7i6H5st"
      },
      "source": [
        "#### Contagem de Perfis\n",
        "\n",
        "Finalizamos com a contagem de alunos em cada perfil. Isso nos ajuda a:\n",
        "\n",
        "- Visualizar a distribuição de risco na base de dados\n",
        "- Compreender o tamanho de cada grupo e onde priorizar intervenções\n",
        "\n",
        "Essa segmentação é essencial tanto para análise quanto para futuras estratégias de reengajamento ou previsão automatizada da evasão."
      ]
    },
    {
      "cell_type": "code",
      "execution_count": null,
      "id": "h6rx3qWoH7IK",
      "metadata": {
        "colab": {
          "base_uri": "https://localhost:8080/",
          "height": 175
        },
        "id": "h6rx3qWoH7IK",
        "outputId": "82f20f6f-d6a6-4fe3-d765-d795cc5d9609"
      },
      "outputs": [],
      "source": [
        "# Contar a quantidade de alunos em cada perfil\n",
        "df[\"perfil\"].value_counts().reset_index().rename(columns={\"index\": \"perfil\", \"perfil\": \"quantidade\"})\n"
      ]
    },
    {
      "cell_type": "markdown",
      "id": "oGg3NTk8SJSF",
      "metadata": {
        "id": "oGg3NTk8SJSF"
      },
      "source": [
        "### Pré-Processamento dos Dados para Modelagem"
      ]
    },
    {
      "cell_type": "markdown",
      "id": "oFWYcCAUToy0",
      "metadata": {
        "id": "oFWYcCAUToy0"
      },
      "source": [
        "**Seleção de Atributos**: removemos variáveis que não serão usadas como entrada no modelo, como:\n",
        "   - `evadiu` (alvo da predição)\n",
        "   - `perfil` (já é um agrupamento explicativo derivado das features)\n",
        "   - `ds_cidade_usuario` (categórica não transformada)"
      ]
    },
    {
      "cell_type": "code",
      "execution_count": null,
      "id": "GSCMUjuwTzqK",
      "metadata": {
        "id": "GSCMUjuwTzqK"
      },
      "outputs": [],
      "source": [
        "y = df[\"evadiu\"]"
      ]
    },
    {
      "cell_type": "code",
      "execution_count": null,
      "id": "8yiB1YiLRq3Z",
      "metadata": {
        "id": "8yiB1YiLRq3Z"
      },
      "outputs": [],
      "source": [
        "X = df.drop(columns=[\"evadiu\", \"perfil\", \"ds_cidade_usuario\", \"nr_dias_desde_ultimo_acesso\"], errors=\"ignore\")"
      ]
    },
    {
      "cell_type": "markdown",
      "id": "Mz0CEd8pXgHq",
      "metadata": {
        "id": "Mz0CEd8pXgHq"
      },
      "source": [
        "**Exclusão de colunas do tipo `datetime64`:**\n",
        "   - Modelos de ML não entendem datas diretamente.\n",
        "   - Em vez disso, já transformamos essas colunas em atributos úteis como `nr_dias_desde_ultimo_acesso`."
      ]
    },
    {
      "cell_type": "code",
      "execution_count": null,
      "id": "RfwtVVlQW7fC",
      "metadata": {
        "id": "RfwtVVlQW7fC"
      },
      "outputs": [],
      "source": [
        "X = X.select_dtypes(exclude=[\"datetime64[ns]\"])"
      ]
    },
    {
      "cell_type": "markdown",
      "id": "Px_P44u1Ts5N",
      "metadata": {
        "id": "Px_P44u1Ts5N"
      },
      "source": [
        "Usamos `StandardScaler` para padronizar as variáveis numéricas, transformando-as para que tenham **média 0 e desvio padrão 1**. Isso é especialmente importante para algoritmos como redes neurais e modelos baseados em distância (ex: SVM), que são sensíveis à escala dos dados."
      ]
    },
    {
      "cell_type": "code",
      "execution_count": null,
      "id": "sLThZ7DuTu_9",
      "metadata": {
        "id": "sLThZ7DuTu_9"
      },
      "outputs": [],
      "source": [
        "from sklearn.preprocessing import StandardScaler\n",
        "\n",
        "scaler = StandardScaler()\n",
        "X_scaled = pd.DataFrame(scaler.fit_transform(X), columns=X.columns)"
      ]
    },
    {
      "cell_type": "markdown",
      "id": "X0tEHp03T9Ed",
      "metadata": {
        "id": "X0tEHp03T9Ed"
      },
      "source": [
        "**Separação dos Conjuntos de Treino e Teste**: dividimos os dados em 80% para treino e 20% para teste, garantindo que a proporção de evasores e não evasores seja mantida (com `stratify`)."
      ]
    },
    {
      "cell_type": "code",
      "execution_count": null,
      "id": "twwX-rnkRsMG",
      "metadata": {
        "id": "twwX-rnkRsMG"
      },
      "outputs": [],
      "source": [
        "from sklearn.model_selection import train_test_split\n",
        "\n",
        "X_train, X_test, y_train, y_test = train_test_split(\n",
        "    X_scaled, y, test_size=0.2, random_state=42, stratify=y\n",
        ")"
      ]
    },
    {
      "cell_type": "markdown",
      "id": "9LrVlHWbUD7U",
      "metadata": {
        "id": "9LrVlHWbUD7U"
      },
      "source": [
        "**Verificação de Balanceamento**: imprimimos a distribuição das classes (evadiu = 0 ou 1) no conjunto de treino, o que ajuda a identificar se técnicas adicionais de balanceamento serão necessárias no modelo."
      ]
    },
    {
      "cell_type": "code",
      "execution_count": null,
      "id": "5sTzjaLSUFeJ",
      "metadata": {
        "colab": {
          "base_uri": "https://localhost:8080/"
        },
        "id": "5sTzjaLSUFeJ",
        "outputId": "89404209-6b9f-42f8-97c9-5f28d4007c1f"
      },
      "outputs": [],
      "source": [
        "unique, counts = np.unique(y_train, return_counts=True)\n",
        "print(\"Distribuição de 'evadiu' no treino:\", dict(zip(unique, counts)))"
      ]
    },
    {
      "cell_type": "markdown",
      "id": "epHYXvGU81D7",
      "metadata": {
        "id": "epHYXvGU81D7"
      },
      "source": [
        "## Modelagem"
      ]
    },
    {
      "cell_type": "markdown",
      "id": "OHYVoHrMHvZy",
      "metadata": {
        "id": "OHYVoHrMHvZy"
      },
      "source": [
        "Importação de bibliotecas"
      ]
    },
    {
      "cell_type": "code",
      "execution_count": null,
      "id": "Kd_CjaHrAsCn",
      "metadata": {
        "id": "Kd_CjaHrAsCn"
      },
      "outputs": [],
      "source": [
        "from sklearn.linear_model import LogisticRegression\n",
        "from sklearn.ensemble import RandomForestClassifier\n",
        "from sklearn.metrics import classification_report, confusion_matrix\n",
        "from sklearn.model_selection import cross_val_score, StratifiedKFold"
      ]
    },
    {
      "cell_type": "markdown",
      "id": "xLhKbBbbHuYN",
      "metadata": {
        "id": "xLhKbBbbHuYN"
      },
      "source": [
        "\n",
        "Usamos regressão logística por ser um modelo simples e interpretável, ótimo para começar problemas de classificação binária como “evadiu ou não”."
      ]
    },
    {
      "cell_type": "code",
      "execution_count": null,
      "id": "OnlS1XjtAxiA",
      "metadata": {
        "colab": {
          "base_uri": "https://localhost:8080/"
        },
        "id": "OnlS1XjtAxiA",
        "outputId": "5356dff5-ae2d-4f7a-ea73-59f2d1809563"
      },
      "outputs": [],
      "source": [
        "## Regressão Logística\n",
        "log_model = LogisticRegression(random_state=42, max_iter=1000)\n",
        "log_model.fit(X_train, y_train)\n",
        "y_pred_log = log_model.predict(X_test)\n",
        "\n",
        "print(\"Relatório - Regressão Logística\")\n",
        "print(classification_report(y_test, y_pred_log))"
      ]
    },
    {
      "cell_type": "markdown",
      "id": "YBcvQIsJHhgN",
      "metadata": {
        "id": "YBcvQIsJHhgN"
      },
      "source": [
        "Neste teste, o modelo teve 100% de acurácia e f1-score, acertando todos os 41 casos (38 não evadiram, 3 evadiram). Isso indica um ótimo desempenho, mas como os dados são poucos, **é importante confirmar essa performance com validação cruzada.**\n"
      ]
    },
    {
      "cell_type": "markdown",
      "id": "eYsqPdmOIUBF",
      "metadata": {
        "id": "eYsqPdmOIUBF"
      },
      "source": [
        "Usamos Random Forest porque é um modelo robusto, capaz de lidar com dados não lineares e identificar relações complexas entre as variáveis."
      ]
    },
    {
      "cell_type": "code",
      "execution_count": null,
      "id": "2OBRPPgEA6S3",
      "metadata": {
        "colab": {
          "base_uri": "https://localhost:8080/"
        },
        "id": "2OBRPPgEA6S3",
        "outputId": "e6e24259-ee0a-4144-b364-2060073858b6"
      },
      "outputs": [],
      "source": [
        "## Random Forest\n",
        "rf_model = RandomForestClassifier(\n",
        "    random_state=42,\n",
        "    max_depth=5,\n",
        "    min_samples_leaf=2,\n",
        "    n_estimators=700\n",
        ")\n",
        "rf_model.fit(X_train, y_train)\n",
        "y_pred_rf = rf_model.predict(X_test)\n",
        "\n",
        "print(\"\\nRelatório - Random Forest\")\n",
        "print(classification_report(y_test, y_pred_rf))"
      ]
    },
    {
      "cell_type": "markdown",
      "id": "MDT7ua36IW5g",
      "metadata": {
        "id": "MDT7ua36IW5g"
      },
      "source": [
        "O modelo teve alta precisão geral, mas deixou passar 1 aluno evadido (recall = 0.67 para a classe 1). Isso indica que ele foi mais conservador nas previsões de evasão, preferindo errar por “excesso de cautela”."
      ]
    },
    {
      "cell_type": "markdown",
      "id": "rINiPjIGKFAy",
      "metadata": {
        "id": "rINiPjIGKFAy"
      },
      "source": [
        "Aqui comparamos graficamente os acertos e erros de cada modelo (Logistic Regression e Random Forest). As matrizes mostram quantos alunos foram corretamente ou incorretamente classificados como evadidos ou não evadidos."
      ]
    },
    {
      "cell_type": "code",
      "execution_count": null,
      "id": "4s-7IMLPA_Nv",
      "metadata": {
        "colab": {
          "base_uri": "https://localhost:8080/",
          "height": 507
        },
        "id": "4s-7IMLPA_Nv",
        "outputId": "84539edd-692e-47a2-f69a-bf25ea07e5bb"
      },
      "outputs": [],
      "source": [
        "# Matrizes de confusão\n",
        "conf_matrix_log = confusion_matrix(y_test, y_pred_log)\n",
        "conf_matrix_rf = confusion_matrix(y_test, y_pred_rf)\n",
        "\n",
        "# Visualização das matrizes de confusão\n",
        "plt.figure(figsize=(12, 5))\n",
        "\n",
        "plt.subplot(1, 2, 1)\n",
        "sns.heatmap(conf_matrix_log, annot=True, fmt=\"d\", cmap=\"Blues\")\n",
        "plt.title(\"Matriz de Confusão - Logistic Regression\")\n",
        "plt.xlabel(\"Previsto\")\n",
        "plt.ylabel(\"Real\")\n",
        "\n",
        "plt.subplot(1, 2, 2)\n",
        "sns.heatmap(conf_matrix_rf, annot=True, fmt=\"d\", cmap=\"Greens\")\n",
        "plt.title(\"Matriz de Confusão - Random Forest\")\n",
        "plt.xlabel(\"Previsto\")\n",
        "plt.ylabel(\"Real\")\n",
        "\n",
        "plt.tight_layout()\n",
        "plt.show()"
      ]
    },
    {
      "cell_type": "markdown",
      "id": "TkX_VMN5KRI5",
      "metadata": {
        "id": "TkX_VMN5KRI5"
      },
      "source": [
        "Utilizamos validação cruzada com 5 divisões (stratified) para avaliar a estabilidade dos modelos. O F1-score médio e o desvio padrão mostram se o desempenho se mantém consistente em diferentes partes do conjunto de treino."
      ]
    },
    {
      "cell_type": "code",
      "execution_count": null,
      "id": "V2n_yfzpDhmc",
      "metadata": {
        "colab": {
          "base_uri": "https://localhost:8080/"
        },
        "id": "V2n_yfzpDhmc",
        "outputId": "ca7a3cfa-c93d-40e0-faf5-78c6e420d453"
      },
      "outputs": [],
      "source": [
        "# Validação Cruzada para conferir estabilidade dos modelos\n",
        "cv = StratifiedKFold(n_splits=5, shuffle=True, random_state=42)\n",
        "\n",
        "scores_log = cross_val_score(log_model, X_train, y_train, cv=cv, scoring=\"f1\")\n",
        "scores_rf = cross_val_score(rf_model, X_train, y_train, cv=cv, scoring=\"f1\")\n",
        "\n",
        "print(\"\\nF1-score - Cross Validation\")\n",
        "print(f\"Regressão Logística: {scores_log.mean():.4f} ± {scores_log.std():.4f}\")\n",
        "print(f\"Random Forest: {scores_rf.mean():.4f} ± {scores_rf.std():.4f}\")"
      ]
    },
    {
      "cell_type": "markdown",
      "id": "gZ8O_sIvKdga",
      "metadata": {
        "id": "gZ8O_sIvKdga"
      },
      "source": [
        "Regressão Logística:\n",
        "Obteve um F1-score médio de 0.8933 ± 0.1373, indicando bom desempenho, mas com uma leve variação entre os folds (±13%).\n",
        "\n",
        "Random Forest:\n",
        "Teve F1-score médio de 0.9333 ± 0.1333, ou seja, desempenho um pouco melhor e com estabilidade semelhante.\n",
        "\n",
        "Ambos os modelos mostraram consistência, mas o Random Forest teve um desempenho geral ligeiramente superior na média. Isso reforça sua robustez para o problema, mesmo com um conjunto de dados pequeno."
      ]
    },
    {
      "cell_type": "markdown",
      "id": "HPw_ys5rMDFB",
      "metadata": {
        "id": "HPw_ys5rMDFB"
      },
      "source": [
        "#### Rede Neural"
      ]
    },
    {
      "cell_type": "markdown",
      "id": "y5I8uCJpMGUA",
      "metadata": {
        "id": "y5I8uCJpMGUA"
      },
      "source": [
        "importação de bibliotecas"
      ]
    },
    {
      "cell_type": "code",
      "execution_count": null,
      "id": "UWWs7jxhMFa3",
      "metadata": {
        "id": "UWWs7jxhMFa3"
      },
      "outputs": [],
      "source": [
        "from tensorflow.keras.models import Sequential\n",
        "from tensorflow.keras.layers import Dense, Dropout\n",
        "from tensorflow.keras.optimizers import Adam\n",
        "from tensorflow.keras.callbacks import EarlyStopping"
      ]
    },
    {
      "cell_type": "code",
      "execution_count": null,
      "id": "jxTrSTd6MNe2",
      "metadata": {
        "colab": {
          "base_uri": "https://localhost:8080/"
        },
        "id": "jxTrSTd6MNe2",
        "outputId": "a69ea9da-21f0-4d4a-ff1d-6082dbb168d5"
      },
      "outputs": [],
      "source": [
        "# Criar o modelo sequencial\n",
        "model = Sequential()\n",
        "model.add(Dense(64, activation='relu', input_shape=(X_train.shape[1],)))\n",
        "model.add(Dropout(0.3))\n",
        "model.add(Dense(32, activation='relu'))\n",
        "model.add(Dropout(0.2))\n",
        "model.add(Dense(1, activation='sigmoid'))  # saída binária\n",
        "\n",
        "# Compilar o modelo\n",
        "model.compile(optimizer=Adam(learning_rate=0.001), loss='binary_crossentropy', metrics=['accuracy'])\n",
        "\n",
        "# Early stopping para evitar overfitting\n",
        "early_stop = EarlyStopping(monitor='val_loss', patience=10, restore_best_weights=True)\n",
        "\n",
        "# Treinar o modelo\n",
        "history = model.fit(\n",
        "    X_train, y_train,\n",
        "    validation_split=0.2,\n",
        "    epochs=100,\n",
        "    batch_size=16,\n",
        "    callbacks=[early_stop],\n",
        "    verbose=1\n",
        ")\n",
        "\n"
      ]
    },
    {
      "cell_type": "code",
      "execution_count": null,
      "id": "Daw0oWIlMl9-",
      "metadata": {
        "colab": {
          "base_uri": "https://localhost:8080/"
        },
        "id": "Daw0oWIlMl9-",
        "outputId": "166f3a9f-2940-41d1-c5c2-6c9858f9d083"
      },
      "outputs": [],
      "source": [
        "# Avaliar no conjunto de teste\n",
        "loss, accuracy = model.evaluate(X_test, y_test, verbose=0)\n",
        "print(f\"\\nRede Neural - Accuracy no teste: {accuracy:.4f}\")"
      ]
    },
    {
      "cell_type": "markdown",
      "id": "dbDucQfYOC-U",
      "metadata": {
        "id": "dbDucQfYOC-U"
      },
      "source": [
        "Aqui verificamos se a rede neural acertou de fato os alunos evadidos (classe 1), e não apenas os não evadidos. Mesmo com accuracy 100%, a matriz de confusão confirma se houve falsos negativos (evasores ignorados), o que é crítico no nosso problema.\n"
      ]
    },
    {
      "cell_type": "code",
      "execution_count": null,
      "id": "Me2gD-kROY86",
      "metadata": {
        "colab": {
          "base_uri": "https://localhost:8080/",
          "height": 427
        },
        "id": "Me2gD-kROY86",
        "outputId": "510e67e3-4941-4c3c-eff9-5fc018f10e70"
      },
      "outputs": [],
      "source": [
        "from sklearn.metrics import confusion_matrix\n",
        "\n",
        "# Previsão\n",
        "y_pred_nn = model.predict(X_test)\n",
        "y_pred_nn_classes = (y_pred_nn > 0.5).astype(\"int\")\n",
        "\n",
        "# Matriz de confusão\n",
        "conf_matrix_nn = confusion_matrix(y_test, y_pred_nn_classes)\n",
        "\n",
        "# Visualização\n",
        "plt.figure(figsize=(5, 4))\n",
        "sns.heatmap(conf_matrix_nn, annot=True, fmt=\"d\", cmap=\"Purples\")\n",
        "plt.title(\"Matriz de Confusão - Rede Neural\")\n",
        "plt.xlabel(\"Previsto\")\n",
        "plt.ylabel(\"Real\")\n",
        "plt.show()\n"
      ]
    },
    {
      "cell_type": "markdown",
      "id": "01OMxQrXOrcS",
      "metadata": {
        "id": "01OMxQrXOrcS"
      },
      "source": [
        "O modelo previu corretamente todos os casos, incluindo os 3 alunos evadidos (classe 1).\n",
        "Isso confirma que a rede neural não apenas teve alta acurácia, mas também alto recall, que é crucial neste problema, pois queremos identificar quem está em risco de evasão.\n",
        "\n",
        "Como não houve falsos negativos nem positivos, o modelo parece estar bem treinado e generalizando bem neste conjunto de teste.\n"
      ]
    },
    {
      "cell_type": "code",
      "execution_count": null,
      "id": "np27xnl9lHVq",
      "metadata": {
        "colab": {
          "base_uri": "https://localhost:8080/",
          "height": 474
        },
        "id": "np27xnl9lHVq",
        "outputId": "a717c595-e476-45b0-bd35-e8e138ad9319"
      },
      "outputs": [],
      "source": [
        "import matplotlib.pyplot as plt\n",
        "\n",
        "# Plotando a acurácia e perda durante o treinamento\n",
        "plt.plot(history.history['accuracy'], label='Acurácia - Treino')\n",
        "plt.plot(history.history['val_accuracy'], label='Acurácia - Validação')\n",
        "plt.xlabel('Épocas')\n",
        "plt.ylabel('Acurácia')\n",
        "plt.legend()\n",
        "plt.title('Evolução da Acurácia')\n",
        "plt.show()"
      ]
    },
    {
      "cell_type": "markdown",
      "id": "62V1fLl-gH9e",
      "metadata": {
        "id": "62V1fLl-gH9e"
      },
      "source": [
        "### Avaliação final no conjunto de teste real\n",
        "Usamos o dataset oficial de teste para validar o modelo final como se estivéssemos em produção."
      ]
    },
    {
      "cell_type": "code",
      "execution_count": null,
      "id": "YzOCtZrMhdUk",
      "metadata": {
        "colab": {
          "base_uri": "https://localhost:8080/",
          "height": 287
        },
        "id": "YzOCtZrMhdUk",
        "outputId": "d6319e9c-c3b1-43b2-8a25-fafba6538a16"
      },
      "outputs": [],
      "source": [
        "df_teste_real = pd.read_csv(\"dados_projeto_evasao_teste - Copia.csv\")"
      ]
    }
  ],
  "metadata": {
    "colab": {
      "provenance": []
    },
    "kernelspec": {
      "display_name": "Python 3",
      "name": "python3"
    },
    "language_info": {
      "codemirror_mode": {
        "name": "ipython",
        "version": 3
      },
      "file_extension": ".py",
      "mimetype": "text/x-python",
      "name": "python",
      "nbconvert_exporter": "python",
      "pygments_lexer": "ipython3",
      "version": "3.9.6"
    }
  },
  "nbformat": 4,
  "nbformat_minor": 5
}
