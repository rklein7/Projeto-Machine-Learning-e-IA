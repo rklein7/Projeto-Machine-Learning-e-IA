{
 "cells": [
  {
   "cell_type": "markdown",
   "id": "436b4dc7",
   "metadata": {},
   "source": [
    "## **Bibliotecas**"
   ]
  },
  {
   "cell_type": "code",
   "execution_count": null,
   "id": "76ec0754",
   "metadata": {},
   "outputs": [],
   "source": [
    "import pandas as pd\n",
    "import numpy as np\n",
    "import matplotlib.pyplot as plt\n",
    "import seaborn as sns\n",
    "\n",
    "# Configurações visuais\n",
    "sns.set(style=\"whitegrid\")\n",
    "plt.rcParams['figure.figsize'] = (12, 6)"
   ]
  },
  {
   "cell_type": "markdown",
   "id": "4ecf4539",
   "metadata": {},
   "source": [
    "## **Carregamento dos Dados**"
   ]
  },
  {
   "cell_type": "code",
   "execution_count": null,
   "id": "f03fa818",
   "metadata": {},
   "outputs": [],
   "source": [
    "df = pd.read_csv('../data/dados_projeto_evasao_treino.csv')\n",
    "df.drop(columns=['Unnamed: 0'], inplace=True)\n",
    "df.head()"
   ]
  },
  {
   "cell_type": "markdown",
   "id": "c1c97659",
   "metadata": {},
   "source": [
    "## **Entendimento Inicial**"
   ]
  },
  {
   "cell_type": "code",
   "execution_count": null,
   "id": "714d2d93",
   "metadata": {},
   "outputs": [],
   "source": [
    "# Estrutura do DataFrame\n",
    "print(\"Formato:\", df.shape)\n",
    "df.info()\n",
    "\n",
    "display(df.describe().T)\n",
    "\n",
    "# Classificação de colunas por prefixo\n",
    "categoricas = [col for col in df.columns if col.startswith(\"ds_\")]\n",
    "temporais = [col for col in df.columns if col.startswith(\"ts_\")]\n",
    "numericas_nr = [col for col in df.columns if col.startswith(\"nr_\")]\n",
    "numericas_vl = [col for col in df.columns if col.startswith(\"vl_\")]\n",
    "\n",
    "print(\"Categóricas:\", categoricas)\n",
    "print(\"Temporais:\", temporais)\n",
    "print(\"Numéricas (contagem):\", numericas_nr)\n",
    "print(\"Numéricas (valores):\", numericas_vl)"
   ]
  },
  {
   "cell_type": "markdown",
   "id": "f455d05b",
   "metadata": {},
   "source": [
    "## **Valores Ausentes**"
   ]
  },
  {
   "cell_type": "code",
   "execution_count": null,
   "id": "777edce0",
   "metadata": {},
   "outputs": [],
   "source": [
    "missing = (df.isnull().mean() * 100).sort_values(ascending=False)\n",
    "missing_df = pd.DataFrame({'% de Valores Ausentes': missing.round(2)})\n",
    "display(missing_df[missing_df['% de Valores Ausentes'] > 0])\n",
    "\n",
    "sns.heatmap(df.isnull(), cbar=False, cmap=\"viridis\")\n",
    "plt.title(\"Mapa de Valores Ausentes\")\n",
    "plt.show()"
   ]
  },
  {
   "cell_type": "markdown",
   "id": "4298b7ec",
   "metadata": {},
   "source": [
    "## **Conversão de Datas**"
   ]
  },
  {
   "cell_type": "code",
   "execution_count": null,
   "id": "f141a6aa",
   "metadata": {},
   "outputs": [],
   "source": [
    "df['ts_primeiro_acesso'] = pd.to_datetime(df['ts_primeiro_acesso'], unit='s', errors='coerce')\n",
    "df['ts_ultimo_acesso'] = pd.to_datetime(df['ts_ultimo_acesso'], unit='s', errors='coerce')\n",
    "df['tempo_total_participacao'] = (df['ts_ultimo_acesso'] - df['ts_primeiro_acesso']).dt.days\n",
    "\n",
    "df[['ts_primeiro_acesso', 'ts_ultimo_acesso', 'tempo_total_participacao']].head()"
   ]
  },
  {
   "cell_type": "markdown",
   "id": "17bbef30",
   "metadata": {},
   "source": [
    "## **Distribuições e Correlações**"
   ]
  },
  {
   "cell_type": "code",
   "execution_count": null,
   "id": "2f3049ca",
   "metadata": {},
   "outputs": [],
   "source": [
    "for col in ['nr_dias_uso', 'nr_interacoes_usuario', 'vl_desempenho_usuario']:\n",
    "    sns.histplot(df[col].dropna(), kde=True)\n",
    "    plt.title(f'Distribuição de {col}')\n",
    "    plt.show()\n",
    "\n",
    "corr = df.select_dtypes(include=['int64', 'float64']).corr()\n",
    "sns.heatmap(corr, cmap='coolwarm', center=0)\n",
    "plt.title(\"Mapa de Correlação\")\n",
    "plt.show()"
   ]
  },
  {
   "cell_type": "markdown",
   "id": "cdb3325b",
   "metadata": {},
   "source": [
    "## **Relações Entre Variáveis**"
   ]
  },
  {
   "cell_type": "code",
   "execution_count": null,
   "id": "65f11e50",
   "metadata": {},
   "outputs": [],
   "source": [
    "sns.scatterplot(data=df, x='nr_interacoes_usuario', y='vl_desempenho_usuario')\n",
    "plt.title(\"Interações vs Desempenho\")\n",
    "plt.show()\n",
    "\n",
    "sns.scatterplot(data=df, x='nr_dias_engajamento_discussao', y='vl_media_notas')\n",
    "plt.title(\"Engajamento em Discussão vs Média de Notas\")\n",
    "plt.show()"
   ]
  },
  {
   "cell_type": "markdown",
   "id": "f940446b",
   "metadata": {},
   "source": [
    "## **Pré-processamento dos Dados**\n",
    "Nesta seção, realizaremos a limpeza, imputação, codificação e preparação para modelagem."
   ]
  }
 ],
 "metadata": {
  "language_info": {
   "name": "python"
  }
 },
 "nbformat": 4,
 "nbformat_minor": 5
}
