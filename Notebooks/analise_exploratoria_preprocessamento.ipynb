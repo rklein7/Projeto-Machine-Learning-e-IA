{
  "cells": [
    {
      "cell_type": "markdown",
      "id": "53d3dce2",
      "metadata": {
        "id": "53d3dce2"
      },
      "source": [
        "# Notebook: Análise Exploratória e Pré-processamento dos Dados"
      ]
    },
    {
      "cell_type": "markdown",
      "id": "55bc3e39",
      "metadata": {
        "id": "55bc3e39"
      },
      "source": [
        "## Introdução\n",
        "\n",
        "Este notebook faz parte do projeto do Nanodegree 2025/1 da disciplina de Machine Learning & Inteligência Artificial.\n",
        "Seu objetivo é explorar e preparar os dados para a tarefa de previsão de evasão de estudantes em um curso online síncrono promovido pela PensComp.\n",
        "\n",
        "---"
      ]
    },
    {
      "cell_type": "code",
      "execution_count": null,
      "id": "fD6qL_ah1o8h",
      "metadata": {
        "colab": {
          "base_uri": "https://localhost:8080/"
        },
        "id": "fD6qL_ah1o8h",
        "outputId": "2f5911b2-aaa1-40b7-d8eb-f583d70d0354"
      },
      "outputs": [],
      "source": [
        "pip install unidecode"
      ]
    },
    {
      "cell_type": "code",
      "execution_count": 1,
      "id": "44290807",
      "metadata": {
        "id": "44290807"
      },
      "outputs": [],
      "source": [
        "import pandas as pd\n",
        "import numpy as np\n",
        "import matplotlib.pyplot as plt\n",
        "import seaborn as sns\n",
        "import unidecode"
      ]
    },
    {
      "cell_type": "markdown",
      "id": "87f244a7",
      "metadata": {
        "id": "87f244a7"
      },
      "source": [
        "### Carregamento dos Dados\n",
        "\n",
        "O dataset original é carregado a partir de um arquivo CSV contendo informações dos usuários. Este arquivo servirá como base para a análise exploratória e limpeza inicial dos dados."
      ]
    },
    {
      "cell_type": "code",
      "execution_count": 2,
      "id": "2c65a767",
      "metadata": {
        "id": "2c65a767"
      },
      "outputs": [
        {
          "ename": "FileNotFoundError",
          "evalue": "[Errno 2] No such file or directory: 'dados_projeto_evasao_treino - Copia.csv'",
          "output_type": "error",
          "traceback": [
            "\u001b[1;31m---------------------------------------------------------------------------\u001b[0m",
            "\u001b[1;31mFileNotFoundError\u001b[0m                         Traceback (most recent call last)",
            "Cell \u001b[1;32mIn[2], line 1\u001b[0m\n\u001b[1;32m----> 1\u001b[0m df \u001b[38;5;241m=\u001b[39m pd\u001b[38;5;241m.\u001b[39mread_csv(\u001b[38;5;124m'\u001b[39m\u001b[38;5;124mdados_projeto_evasao_treino - Copia.csv\u001b[39m\u001b[38;5;124m'\u001b[39m)\n",
            "File \u001b[1;32mc:\\Users\\Rafael\\anaconda3\\Lib\\site-packages\\pandas\\io\\parsers\\readers.py:1026\u001b[0m, in \u001b[0;36mread_csv\u001b[1;34m(filepath_or_buffer, sep, delimiter, header, names, index_col, usecols, dtype, engine, converters, true_values, false_values, skipinitialspace, skiprows, skipfooter, nrows, na_values, keep_default_na, na_filter, verbose, skip_blank_lines, parse_dates, infer_datetime_format, keep_date_col, date_parser, date_format, dayfirst, cache_dates, iterator, chunksize, compression, thousands, decimal, lineterminator, quotechar, quoting, doublequote, escapechar, comment, encoding, encoding_errors, dialect, on_bad_lines, delim_whitespace, low_memory, memory_map, float_precision, storage_options, dtype_backend)\u001b[0m\n\u001b[0;32m   1013\u001b[0m kwds_defaults \u001b[38;5;241m=\u001b[39m _refine_defaults_read(\n\u001b[0;32m   1014\u001b[0m     dialect,\n\u001b[0;32m   1015\u001b[0m     delimiter,\n\u001b[1;32m   (...)\u001b[0m\n\u001b[0;32m   1022\u001b[0m     dtype_backend\u001b[38;5;241m=\u001b[39mdtype_backend,\n\u001b[0;32m   1023\u001b[0m )\n\u001b[0;32m   1024\u001b[0m kwds\u001b[38;5;241m.\u001b[39mupdate(kwds_defaults)\n\u001b[1;32m-> 1026\u001b[0m \u001b[38;5;28;01mreturn\u001b[39;00m _read(filepath_or_buffer, kwds)\n",
            "File \u001b[1;32mc:\\Users\\Rafael\\anaconda3\\Lib\\site-packages\\pandas\\io\\parsers\\readers.py:620\u001b[0m, in \u001b[0;36m_read\u001b[1;34m(filepath_or_buffer, kwds)\u001b[0m\n\u001b[0;32m    617\u001b[0m _validate_names(kwds\u001b[38;5;241m.\u001b[39mget(\u001b[38;5;124m\"\u001b[39m\u001b[38;5;124mnames\u001b[39m\u001b[38;5;124m\"\u001b[39m, \u001b[38;5;28;01mNone\u001b[39;00m))\n\u001b[0;32m    619\u001b[0m \u001b[38;5;66;03m# Create the parser.\u001b[39;00m\n\u001b[1;32m--> 620\u001b[0m parser \u001b[38;5;241m=\u001b[39m TextFileReader(filepath_or_buffer, \u001b[38;5;241m*\u001b[39m\u001b[38;5;241m*\u001b[39mkwds)\n\u001b[0;32m    622\u001b[0m \u001b[38;5;28;01mif\u001b[39;00m chunksize \u001b[38;5;129;01mor\u001b[39;00m iterator:\n\u001b[0;32m    623\u001b[0m     \u001b[38;5;28;01mreturn\u001b[39;00m parser\n",
            "File \u001b[1;32mc:\\Users\\Rafael\\anaconda3\\Lib\\site-packages\\pandas\\io\\parsers\\readers.py:1620\u001b[0m, in \u001b[0;36mTextFileReader.__init__\u001b[1;34m(self, f, engine, **kwds)\u001b[0m\n\u001b[0;32m   1617\u001b[0m     \u001b[38;5;28mself\u001b[39m\u001b[38;5;241m.\u001b[39moptions[\u001b[38;5;124m\"\u001b[39m\u001b[38;5;124mhas_index_names\u001b[39m\u001b[38;5;124m\"\u001b[39m] \u001b[38;5;241m=\u001b[39m kwds[\u001b[38;5;124m\"\u001b[39m\u001b[38;5;124mhas_index_names\u001b[39m\u001b[38;5;124m\"\u001b[39m]\n\u001b[0;32m   1619\u001b[0m \u001b[38;5;28mself\u001b[39m\u001b[38;5;241m.\u001b[39mhandles: IOHandles \u001b[38;5;241m|\u001b[39m \u001b[38;5;28;01mNone\u001b[39;00m \u001b[38;5;241m=\u001b[39m \u001b[38;5;28;01mNone\u001b[39;00m\n\u001b[1;32m-> 1620\u001b[0m \u001b[38;5;28mself\u001b[39m\u001b[38;5;241m.\u001b[39m_engine \u001b[38;5;241m=\u001b[39m \u001b[38;5;28mself\u001b[39m\u001b[38;5;241m.\u001b[39m_make_engine(f, \u001b[38;5;28mself\u001b[39m\u001b[38;5;241m.\u001b[39mengine)\n",
            "File \u001b[1;32mc:\\Users\\Rafael\\anaconda3\\Lib\\site-packages\\pandas\\io\\parsers\\readers.py:1880\u001b[0m, in \u001b[0;36mTextFileReader._make_engine\u001b[1;34m(self, f, engine)\u001b[0m\n\u001b[0;32m   1878\u001b[0m     \u001b[38;5;28;01mif\u001b[39;00m \u001b[38;5;124m\"\u001b[39m\u001b[38;5;124mb\u001b[39m\u001b[38;5;124m\"\u001b[39m \u001b[38;5;129;01mnot\u001b[39;00m \u001b[38;5;129;01min\u001b[39;00m mode:\n\u001b[0;32m   1879\u001b[0m         mode \u001b[38;5;241m+\u001b[39m\u001b[38;5;241m=\u001b[39m \u001b[38;5;124m\"\u001b[39m\u001b[38;5;124mb\u001b[39m\u001b[38;5;124m\"\u001b[39m\n\u001b[1;32m-> 1880\u001b[0m \u001b[38;5;28mself\u001b[39m\u001b[38;5;241m.\u001b[39mhandles \u001b[38;5;241m=\u001b[39m get_handle(\n\u001b[0;32m   1881\u001b[0m     f,\n\u001b[0;32m   1882\u001b[0m     mode,\n\u001b[0;32m   1883\u001b[0m     encoding\u001b[38;5;241m=\u001b[39m\u001b[38;5;28mself\u001b[39m\u001b[38;5;241m.\u001b[39moptions\u001b[38;5;241m.\u001b[39mget(\u001b[38;5;124m\"\u001b[39m\u001b[38;5;124mencoding\u001b[39m\u001b[38;5;124m\"\u001b[39m, \u001b[38;5;28;01mNone\u001b[39;00m),\n\u001b[0;32m   1884\u001b[0m     compression\u001b[38;5;241m=\u001b[39m\u001b[38;5;28mself\u001b[39m\u001b[38;5;241m.\u001b[39moptions\u001b[38;5;241m.\u001b[39mget(\u001b[38;5;124m\"\u001b[39m\u001b[38;5;124mcompression\u001b[39m\u001b[38;5;124m\"\u001b[39m, \u001b[38;5;28;01mNone\u001b[39;00m),\n\u001b[0;32m   1885\u001b[0m     memory_map\u001b[38;5;241m=\u001b[39m\u001b[38;5;28mself\u001b[39m\u001b[38;5;241m.\u001b[39moptions\u001b[38;5;241m.\u001b[39mget(\u001b[38;5;124m\"\u001b[39m\u001b[38;5;124mmemory_map\u001b[39m\u001b[38;5;124m\"\u001b[39m, \u001b[38;5;28;01mFalse\u001b[39;00m),\n\u001b[0;32m   1886\u001b[0m     is_text\u001b[38;5;241m=\u001b[39mis_text,\n\u001b[0;32m   1887\u001b[0m     errors\u001b[38;5;241m=\u001b[39m\u001b[38;5;28mself\u001b[39m\u001b[38;5;241m.\u001b[39moptions\u001b[38;5;241m.\u001b[39mget(\u001b[38;5;124m\"\u001b[39m\u001b[38;5;124mencoding_errors\u001b[39m\u001b[38;5;124m\"\u001b[39m, \u001b[38;5;124m\"\u001b[39m\u001b[38;5;124mstrict\u001b[39m\u001b[38;5;124m\"\u001b[39m),\n\u001b[0;32m   1888\u001b[0m     storage_options\u001b[38;5;241m=\u001b[39m\u001b[38;5;28mself\u001b[39m\u001b[38;5;241m.\u001b[39moptions\u001b[38;5;241m.\u001b[39mget(\u001b[38;5;124m\"\u001b[39m\u001b[38;5;124mstorage_options\u001b[39m\u001b[38;5;124m\"\u001b[39m, \u001b[38;5;28;01mNone\u001b[39;00m),\n\u001b[0;32m   1889\u001b[0m )\n\u001b[0;32m   1890\u001b[0m \u001b[38;5;28;01massert\u001b[39;00m \u001b[38;5;28mself\u001b[39m\u001b[38;5;241m.\u001b[39mhandles \u001b[38;5;129;01mis\u001b[39;00m \u001b[38;5;129;01mnot\u001b[39;00m \u001b[38;5;28;01mNone\u001b[39;00m\n\u001b[0;32m   1891\u001b[0m f \u001b[38;5;241m=\u001b[39m \u001b[38;5;28mself\u001b[39m\u001b[38;5;241m.\u001b[39mhandles\u001b[38;5;241m.\u001b[39mhandle\n",
            "File \u001b[1;32mc:\\Users\\Rafael\\anaconda3\\Lib\\site-packages\\pandas\\io\\common.py:873\u001b[0m, in \u001b[0;36mget_handle\u001b[1;34m(path_or_buf, mode, encoding, compression, memory_map, is_text, errors, storage_options)\u001b[0m\n\u001b[0;32m    868\u001b[0m \u001b[38;5;28;01melif\u001b[39;00m \u001b[38;5;28misinstance\u001b[39m(handle, \u001b[38;5;28mstr\u001b[39m):\n\u001b[0;32m    869\u001b[0m     \u001b[38;5;66;03m# Check whether the filename is to be opened in binary mode.\u001b[39;00m\n\u001b[0;32m    870\u001b[0m     \u001b[38;5;66;03m# Binary mode does not support 'encoding' and 'newline'.\u001b[39;00m\n\u001b[0;32m    871\u001b[0m     \u001b[38;5;28;01mif\u001b[39;00m ioargs\u001b[38;5;241m.\u001b[39mencoding \u001b[38;5;129;01mand\u001b[39;00m \u001b[38;5;124m\"\u001b[39m\u001b[38;5;124mb\u001b[39m\u001b[38;5;124m\"\u001b[39m \u001b[38;5;129;01mnot\u001b[39;00m \u001b[38;5;129;01min\u001b[39;00m ioargs\u001b[38;5;241m.\u001b[39mmode:\n\u001b[0;32m    872\u001b[0m         \u001b[38;5;66;03m# Encoding\u001b[39;00m\n\u001b[1;32m--> 873\u001b[0m         handle \u001b[38;5;241m=\u001b[39m \u001b[38;5;28mopen\u001b[39m(\n\u001b[0;32m    874\u001b[0m             handle,\n\u001b[0;32m    875\u001b[0m             ioargs\u001b[38;5;241m.\u001b[39mmode,\n\u001b[0;32m    876\u001b[0m             encoding\u001b[38;5;241m=\u001b[39mioargs\u001b[38;5;241m.\u001b[39mencoding,\n\u001b[0;32m    877\u001b[0m             errors\u001b[38;5;241m=\u001b[39merrors,\n\u001b[0;32m    878\u001b[0m             newline\u001b[38;5;241m=\u001b[39m\u001b[38;5;124m\"\u001b[39m\u001b[38;5;124m\"\u001b[39m,\n\u001b[0;32m    879\u001b[0m         )\n\u001b[0;32m    880\u001b[0m     \u001b[38;5;28;01melse\u001b[39;00m:\n\u001b[0;32m    881\u001b[0m         \u001b[38;5;66;03m# Binary mode\u001b[39;00m\n\u001b[0;32m    882\u001b[0m         handle \u001b[38;5;241m=\u001b[39m \u001b[38;5;28mopen\u001b[39m(handle, ioargs\u001b[38;5;241m.\u001b[39mmode)\n",
            "\u001b[1;31mFileNotFoundError\u001b[0m: [Errno 2] No such file or directory: 'dados_projeto_evasao_treino - Copia.csv'"
          ]
        }
      ],
      "source": [
        "df = pd.read_csv('dados_projeto_evasao_treino - Copia.csv')"
      ]
    },
    {
      "cell_type": "markdown",
      "id": "54147338",
      "metadata": {
        "id": "54147338"
      },
      "source": [
        "### Entendimento Inicial"
      ]
    },
    {
      "cell_type": "code",
      "execution_count": null,
      "id": "34ac8ac0",
      "metadata": {
        "colab": {
          "base_uri": "https://localhost:8080/"
        },
        "id": "34ac8ac0",
        "outputId": "76558047-aa75-483c-cf86-d4bc1c09095f"
      },
      "outputs": [],
      "source": [
        "# Estrutura do DF\n",
        "df.shape\n",
        "df.info()"
      ]
    },
    {
      "cell_type": "code",
      "execution_count": null,
      "id": "051bf858",
      "metadata": {
        "colab": {
          "base_uri": "https://localhost:8080/",
          "height": 273
        },
        "id": "051bf858",
        "outputId": "f36229a3-3d95-423f-bd05-e6d56572312a"
      },
      "outputs": [],
      "source": [
        "# Amostra dos dados\n",
        "df.head()"
      ]
    },
    {
      "cell_type": "code",
      "execution_count": null,
      "id": "99bb8eaa",
      "metadata": {
        "colab": {
          "base_uri": "https://localhost:8080/"
        },
        "id": "99bb8eaa",
        "outputId": "990ff7fd-261e-4ceb-fb5c-1c0de0ca9649"
      },
      "outputs": [],
      "source": [
        "# Classificação das colunas por tipo de prefixo\n",
        "categoricas = [col for col in df.columns if col.startswith(\"ds_\")]\n",
        "temporais = [col for col in df.columns if col.startswith(\"ts_\")]\n",
        "numericas_nr = [col for col in df.columns if col.startswith(\"nr_\")]\n",
        "numericas_vl = [col for col in df.columns if col.startswith(\"vl_\")]\n",
        "\n",
        "print(\"\\nColunas categóricas:\", categoricas)\n",
        "print(\"Colunas temporais:\", temporais)\n",
        "print(\"Colunas numéricas (contagem - nr_):\", numericas_nr)\n",
        "print(\"Colunas numéricas (valores/escalares - vl_):\", numericas_vl)"
      ]
    },
    {
      "cell_type": "markdown",
      "id": "e6fb2779",
      "metadata": {
        "id": "e6fb2779"
      },
      "source": [
        "### Verificação de itens ausentes"
      ]
    },
    {
      "cell_type": "code",
      "execution_count": null,
      "id": "17cbd192",
      "metadata": {
        "colab": {
          "base_uri": "https://localhost:8080/"
        },
        "id": "17cbd192",
        "outputId": "64a886c4-fe49-402b-aeae-2fd116becb55"
      },
      "outputs": [],
      "source": [
        "# Verificando colunas que possuam ao menos um item nulo\n",
        "missing = (df.isnull().mean() * 100).sort_values(ascending=True)\n",
        "\n",
        "print(\"\\nProporção de valores ausentes por coluna (%):\")\n",
        "print(missing[missing > 0].round(2))"
      ]
    },
    {
      "cell_type": "markdown",
      "id": "e3f1ace7",
      "metadata": {
        "id": "e3f1ace7"
      },
      "source": [
        "Primeiro vamos remover a coluna que representaria o ID para não influenciar na predição e após isso remover todas as linhas onde na coluna ts_primeiro_acesso esteja zerado \"0\", pois isso simboliza que o aluno nunca acessou o portal"
      ]
    },
    {
      "cell_type": "code",
      "execution_count": null,
      "id": "74e053cc",
      "metadata": {
        "id": "74e053cc"
      },
      "outputs": [],
      "source": [
        "df = df.drop(\"Unnamed: 0\", axis=1)\n"
      ]
    },
    {
      "cell_type": "code",
      "execution_count": null,
      "id": "8fa853ba",
      "metadata": {
        "id": "8fa853ba"
      },
      "outputs": [],
      "source": [
        "df = df[df['ts_primeiro_acesso'] != 0]"
      ]
    },
    {
      "cell_type": "code",
      "execution_count": null,
      "id": "924b7722",
      "metadata": {
        "colab": {
          "base_uri": "https://localhost:8080/",
          "height": 256
        },
        "id": "924b7722",
        "outputId": "4fe99252-0f81-4a34-af25-05c72841ba7e"
      },
      "outputs": [],
      "source": [
        "df.head()"
      ]
    },
    {
      "cell_type": "markdown",
      "id": "5197b88d",
      "metadata": {
        "id": "5197b88d"
      },
      "source": [
        "Agora fizemos a conversao dos dados TS para um datetime"
      ]
    },
    {
      "cell_type": "code",
      "execution_count": null,
      "id": "8c4b2b44",
      "metadata": {
        "id": "8c4b2b44"
      },
      "outputs": [],
      "source": [
        "df['ts_primeiro_acesso'] = pd.to_datetime(df['ts_primeiro_acesso'], unit='s')\n",
        "df['ts_ultimo_acesso'] = pd.to_datetime(df['ts_ultimo_acesso'], unit='s')"
      ]
    },
    {
      "cell_type": "code",
      "execution_count": null,
      "id": "bd5d4ce1",
      "metadata": {
        "colab": {
          "base_uri": "https://localhost:8080/",
          "height": 343
        },
        "id": "bd5d4ce1",
        "outputId": "8a77978c-6696-42a7-b837-e3db34645d07"
      },
      "outputs": [],
      "source": [
        "df.head()"
      ]
    },
    {
      "cell_type": "markdown",
      "id": "34de2c2e",
      "metadata": {
        "id": "34de2c2e"
      },
      "source": [
        "limpeza e formatação coluna cidade usuario"
      ]
    },
    {
      "cell_type": "code",
      "execution_count": null,
      "id": "6045e0f2",
      "metadata": {
        "colab": {
          "base_uri": "https://localhost:8080/"
        },
        "id": "6045e0f2",
        "outputId": "c9b77ac3-ee04-47b7-d76f-77d7cede03c0"
      },
      "outputs": [],
      "source": [
        "print(df['ds_cidade_usuario'].unique())"
      ]
    },
    {
      "cell_type": "code",
      "execution_count": null,
      "id": "7b2b354b",
      "metadata": {
        "id": "7b2b354b"
      },
      "outputs": [],
      "source": [
        "df['ds_cidade_usuario'] = (\n",
        "    df['ds_cidade_usuario']\n",
        "    .astype(str)\n",
        "    .str.strip()\n",
        "    .str.upper()\n",
        "    .apply(unidecode.unidecode)\n",
        ")"
      ]
    },
    {
      "cell_type": "code",
      "execution_count": null,
      "id": "dc9b93d1",
      "metadata": {
        "colab": {
          "base_uri": "https://localhost:8080/"
        },
        "id": "dc9b93d1",
        "outputId": "1726ae2a-05c6-44a4-cd7a-7c7a25e83013"
      },
      "outputs": [],
      "source": [
        "df['ds_cidade_usuario'].replace(\"NAN\", \"CIDADE NAO INFORMADA\", inplace=True)"
      ]
    },
    {
      "cell_type": "code",
      "execution_count": null,
      "id": "5701e2b1",
      "metadata": {
        "colab": {
          "base_uri": "https://localhost:8080/"
        },
        "id": "5701e2b1",
        "outputId": "5ab94e08-4534-4d5d-9ffe-967ff55b0393"
      },
      "outputs": [],
      "source": [
        "print(df['ds_cidade_usuario'].unique())"
      ]
    },
    {
      "cell_type": "markdown",
      "id": "n_Em1vkG082V",
      "metadata": {
        "id": "n_Em1vkG082V"
      },
      "source": [
        "### Tratamento de Valores Ausentes\n",
        "\n",
        "Durante a análise, identificamos 5 colunas com altos índices de valores nulos:\n",
        "\n",
        "- `vl_media_submissoes_codigo` (~99%)\n",
        "- `vl_submissoes_por_dias_ativos` (~98%)\n",
        "- `vl_desempenho_questionario` (~93%)\n",
        "- `vl_engajamento_usuario_por_intervalo` (~92.75%)\n",
        "- `vl_engajamento_usuario_intradia` (~92.75%)\n",
        "\n",
        "#### Colunas removidas\n",
        "As duas primeiras foram removidas por conterem dados ausentes em quase todos os registros, o que inviabiliza sua utilização estatística ou em modelos preditivos.\n",
        "\n",
        "#### Colunas preenchidas com zero\n",
        "As demais colunas foram mantidas e os valores nulos preenchidos com **zero**, assumindo que a ausência dos dados representa **falta de atividade do usuário** (ex: nenhum questionário feito, nenhum engajamento detectado). Isso mantém a coerência da análise com o objetivo de detectar evasão por inatividade.\n"
      ]
    },
    {
      "cell_type": "code",
      "execution_count": null,
      "id": "l8SL5q-Y06k1",
      "metadata": {
        "id": "l8SL5q-Y06k1"
      },
      "outputs": [],
      "source": [
        "# Remover colunas com mais de 70% de valores ausentes\n",
        "df.drop(columns=[\"vl_media_submissoes_codigo\", \"vl_submissoes_por_dias_ativos\"], inplace=True)\n",
        "df.drop(columns=[\"vl_media_questoes_por_dia\", \"vl_engajamento_notas\"], inplace=True)"
      ]
    },
    {
      "cell_type": "code",
      "execution_count": null,
      "id": "-kC0G3yJ1BcE",
      "metadata": {
        "id": "-kC0G3yJ1BcE"
      },
      "outputs": [],
      "source": [
        "# Preencher a coluna de desempenho com zero\n",
        "df[\"vl_desempenho_questionario\"] = df[\"vl_desempenho_questionario\"].fillna(0)\n",
        "df[\"vl_engajamento_usuario_por_intervalo\"] = df[\"vl_engajamento_usuario_por_intervalo\"].fillna(0)\n",
        "df[\"vl_engajamento_usuario_intradia\"] = df[\"vl_engajamento_usuario_intradia\"].fillna(0)\n",
        "df[\"vl_desempenho_usuario\"] = df[\"vl_desempenho_usuario\"].fillna(0)\n",
        "df[\"vl_media_notas\"] = df[\"vl_media_notas\"].fillna(0)"
      ]
    },
    {
      "cell_type": "markdown",
      "id": "nYJ9CoT23epT",
      "metadata": {
        "id": "nYJ9CoT23epT"
      },
      "source": [
        "### Por que utilizamos a mediana para preencher valores ausentes?\n",
        "\n",
        "Ao lidar com variáveis contínuas como tempo médio de questionário (`vl_medio_tempo_questionario`) e tempo médio em questionários avaliados (`vl_medio_tempo_questionario_avaliado`), optamos por preencher os valores ausentes com a **mediana**.\n",
        "\n",
        "A **mediana** é o valor central de uma distribuição ordenada — ou seja, separa os 50% menores dos 50% maiores valores. Diferente da **média**, a mediana **não é afetada por outliers ou valores extremos**, o que a torna mais robusta para representar o \"comportamento típico\" dos dados, especialmente em distribuições assimétricas ou com grande variação.\n",
        "\n",
        "#### Vantagens de usar a mediana:\n",
        "- Evita distorção causada por tempos muito longos ou muito curtos.\n",
        "- Mantém a coerência estatística da variável.\n",
        "- Preserva o padrão geral da distribuição sem inflar ou achatar artificialmente os dados.\n",
        "\n",
        "Dessa forma, preenchemos os dados faltantes sem comprometer a qualidade da análise ou da modelagem futura.\n"
      ]
    },
    {
      "cell_type": "code",
      "execution_count": null,
      "id": "rQkYrO1D3QnP",
      "metadata": {
        "id": "rQkYrO1D3QnP"
      },
      "outputs": [],
      "source": [
        "#Preencher com mediana (tempo médio tem sentido contínuo e comparável):\n",
        "df[\"vl_medio_tempo_questionario\"] = df[\"vl_medio_tempo_questionario\"].fillna(df[\"vl_medio_tempo_questionario\"].median())\n",
        "df[\"vl_medio_tempo_questionario_avaliado\"] = df[\"vl_medio_tempo_questionario_avaliado\"].fillna(df[\"vl_medio_tempo_questionario_avaliado\"].median())"
      ]
    },
    {
      "cell_type": "code",
      "execution_count": null,
      "id": "vdNVIMui4-TN",
      "metadata": {
        "colab": {
          "base_uri": "https://localhost:8080/",
          "height": 343
        },
        "id": "vdNVIMui4-TN",
        "outputId": "44c10de3-90e8-4a93-f6df-4cb0ded85fc4"
      },
      "outputs": [],
      "source": [
        "df.head()"
      ]
    },
    {
      "cell_type": "code",
      "execution_count": null,
      "id": "a95346f0",
      "metadata": {
        "id": "a95346f0"
      },
      "outputs": [],
      "source": [
        "df.to_csv(\"dados_convertidos.csv\", index=False)\n"
      ]
    },
    {
      "cell_type": "markdown",
      "id": "UigNMIlYdvTX",
      "metadata": {
        "id": "UigNMIlYdvTX"
      },
      "source": [
        "### Análise de Engajamento por Cidade\n",
        "\n",
        "Comparamos a média de interações dos alunos por cidade, permitindo identificar regiões com maior ou menor participação."
      ]
    },
    {
      "cell_type": "code",
      "execution_count": null,
      "id": "BPL1IfoNdf9Z",
      "metadata": {
        "colab": {
          "base_uri": "https://localhost:8080/",
          "height": 686
        },
        "id": "BPL1IfoNdf9Z",
        "outputId": "c0d22b59-64f0-4f43-a92a-a6a4a7cbc374"
      },
      "outputs": [],
      "source": [
        "# Média de engajamento por cidade\n",
        "city_stats = df.groupby('ds_cidade_usuario')[['nr_interacoes_usuario',\n",
        "                                              'vl_desempenho_usuario',\n",
        "                                              'nr_questionarios_finalizados']].mean().reset_index()\n",
        "\n",
        "# Gráfico de barras\n",
        "plt.figure(figsize=(12, 6))\n",
        "sns.barplot(data=city_stats, x='ds_cidade_usuario', y='nr_interacoes_usuario')\n",
        "plt.xticks(rotation=45)\n",
        "plt.title('Média de Interações por Cidade')\n",
        "plt.xlabel('Cidade')\n",
        "plt.ylabel('Média de Interações')\n",
        "plt.show()"
      ]
    },
    {
      "cell_type": "markdown",
      "id": "s2KmJhg67DnO",
      "metadata": {
        "id": "s2KmJhg67DnO"
      },
      "source": [
        "### Distribuição do Desempenho Geral dos Alunos\n",
        "\n",
        "O gráfico de desempenho mostra como os alunos estão performando academicamente, com base na métrica `vl_desempenho_usuario`, que varia de 0 a 1. Indicando uma concentração de alunos com ótimo desempenho e muitos com nenhum"
      ]
    },
    {
      "cell_type": "code",
      "execution_count": null,
      "id": "GG9fhgW_7EXQ",
      "metadata": {
        "colab": {
          "base_uri": "https://localhost:8080/",
          "height": 607
        },
        "id": "GG9fhgW_7EXQ",
        "outputId": "e30002fd-229d-4261-de40-4d199e246aef"
      },
      "outputs": [],
      "source": [
        "df['vl_desempenho_usuario'] = pd.to_numeric(df['vl_desempenho_usuario'], errors='coerce')\n",
        "media_geral = df['vl_desempenho_usuario'].mean()\n",
        "\n",
        "plt.figure(figsize=(10, 6))\n",
        "sns.histplot(df['vl_desempenho_usuario'], bins=30, kde=True, color='skyblue')\n",
        "plt.axvline(media_geral, color='red', linestyle='--', linewidth=2, label=f'Média: {media_geral:.2f}')\n",
        "plt.title('Distribuição do Desempenho dos Alunos')\n",
        "plt.xlabel('Desempenho')\n",
        "plt.ylabel('Frequência')\n",
        "plt.legend()\n",
        "plt.tight_layout()\n",
        "plt.show()\n"
      ]
    },
    {
      "cell_type": "markdown",
      "id": "78Qusnti3m2_",
      "metadata": {
        "id": "78Qusnti3m2_"
      },
      "source": [
        "### Distribuição dos Dias Desde o Último Acesso\n",
        "\n",
        "Esse gráfico analisa o comportamento de uso da plataforma, mostrando há quantos dias cada usuário realizou seu último acesso."
      ]
    },
    {
      "cell_type": "code",
      "execution_count": null,
      "id": "OHFRNJo5dP7b",
      "metadata": {
        "colab": {
          "base_uri": "https://localhost:8080/",
          "height": 607
        },
        "id": "OHFRNJo5dP7b",
        "outputId": "2d5d501e-7a68-4527-8139-0be1eb5e2190"
      },
      "outputs": [],
      "source": [
        "\n",
        "# Selecionar  a coluna de dias desde o último acesso\n",
        "dias = df['nr_dias_desde_ultimo_acesso']\n",
        "\n",
        "# Calcular a média\n",
        "media_dias = dias.mean()\n",
        "\n",
        "# Plotar histograma com KDE (curva de densidade)\n",
        "plt.figure(figsize=(10, 6))\n",
        "sns.histplot(dias, bins=30, kde=True, color='skyblue')\n",
        "\n",
        "# Adicionar linha da média\n",
        "plt.axvline(media_dias, color='red', linestyle='--', linewidth=2, label=f'Média: {media_dias:.2f} dias')\n",
        "\n",
        "# Títulos e eixos\n",
        "plt.title(\"Distribuição dos Dias Desde o Último Acesso dos Usuários\")\n",
        "plt.xlabel(\"Dias Desde Último Acesso\")\n",
        "plt.ylabel(\"Frequência\")\n",
        "plt.legend()\n",
        "plt.tight_layout()\n",
        "plt.show()\n"
      ]
    },
    {
      "cell_type": "markdown",
      "id": "1ccriLNXL6Dk",
      "metadata": {
        "id": "1ccriLNXL6Dk"
      },
      "source": [
        "Com base nessas análises sobre engajamento e desempenho dos alunos, criaremos uma variável chamada `evadiu`.  \n",
        "Essa variável simula o comportamento de evasão, permitindo que possamos identificar alunos com maior risco de abandono do curso."
      ]
    },
    {
      "cell_type": "markdown",
      "id": "d6s8lo3NHaDr",
      "metadata": {
        "id": "d6s8lo3NHaDr"
      },
      "source": [
        "#### Criação da variável `evadiu`\n",
        "\n",
        "Criamos uma nova coluna `evadiu` para simular o comportamento de evasão, utilizando a seguinte lógica:\n",
        "\n",
        "> Se o aluno **nunca obteve desempenho** (`vl_desempenho_usuario = 0`) e está **há mais de 60 dias sem acessar a plataforma**, consideramos que ele evadiu.\n",
        "\n",
        "Essa coluna é binária:\n",
        "- `1` → aluno evadiu\n",
        "- `0` → aluno ativo ou ainda engajado\n"
      ]
    },
    {
      "cell_type": "code",
      "execution_count": null,
      "id": "wREtrahDHGjs",
      "metadata": {
        "id": "wREtrahDHGjs"
      },
      "outputs": [],
      "source": [
        "# Criar coluna 'evadiu': alunos com desempenho 0 e sem acessar há mais de 60 dias\n",
        "df[\"vl_desempenho_usuario\"] = pd.to_numeric(df[\"vl_desempenho_usuario\"], errors=\"coerce\")\n",
        "df[\"evadiu\"] = ((df[\"vl_desempenho_usuario\"] == 0) & (df[\"nr_dias_desde_ultimo_acesso\"] > 60)).astype(int)\n"
      ]
    },
    {
      "cell_type": "markdown",
      "id": "uzD1tuxwHeQn",
      "metadata": {
        "id": "uzD1tuxwHeQn"
      },
      "source": [
        "#### Comparação entre evasores e não evasores\n",
        "\n",
        "Com a variável `evadiu` criada, comparamos os dois grupos em relação a:\n",
        "- Número de interações\n",
        "- Questionários finalizados\n",
        "- Submissões de código\n",
        "- Desempenho geral\n",
        "\n",
        "Isso nos ajuda a entender quais comportamentos estão mais associados à evasão."
      ]
    },
    {
      "cell_type": "code",
      "execution_count": null,
      "id": "9JNyW-LBHh9k",
      "metadata": {
        "colab": {
          "base_uri": "https://localhost:8080/",
          "height": 144
        },
        "id": "9JNyW-LBHh9k",
        "outputId": "6255ee4d-eb3f-4aa2-ed15-a352326f8b44"
      },
      "outputs": [],
      "source": [
        "# Comparar médias de variáveis entre evasores e não evasores\n",
        "media_por_grupo = df.groupby(\"evadiu\")[\n",
        "    [\"nr_interacoes_usuario\", \"nr_questionarios_finalizados\", \"vl_desempenho_usuario\", \"nr_submissoes_codigo\"]\n",
        "].mean().round(2)\n",
        "\n",
        "media_por_grupo\n"
      ]
    },
    {
      "cell_type": "markdown",
      "id": "5m1prvYuHz1l",
      "metadata": {
        "id": "5m1prvYuHz1l"
      },
      "source": [
        "#### Classificação de Perfis de Risco\n",
        "\n",
        "A partir das variáveis `vl_desempenho_usuario` e `nr_dias_desde_ultimo_acesso`, classificamos cada aluno em um dos seguintes perfis:\n",
        "\n",
        "| Perfil            | Critério                                              |\n",
        "|-------------------|-------------------------------------------------------|\n",
        "| Alto Risco        | Desempenho = 0 e sem acesso há mais de 60 dias        |\n",
        "| Reengajamento     | Bom desempenho, mas inativo há mais de 60 dias        |\n",
        "| Apoio Pedagógico  | Acessa, mas desempenho muito baixo                    |\n",
        "| Estável           | Acessa com frequência e tem bom desempenho            |\n"
      ]
    },
    {
      "cell_type": "code",
      "execution_count": null,
      "id": "j2CGwbrYH1d6",
      "metadata": {
        "id": "j2CGwbrYH1d6"
      },
      "outputs": [],
      "source": [
        "# Classificar alunos em perfis com base em desempenho e atividade\n",
        "def perfil(row):\n",
        "    if row[\"vl_desempenho_usuario\"] == 0 and row[\"nr_dias_desde_ultimo_acesso\"] > 60:\n",
        "        return \"Alto Risco\"\n",
        "    elif row[\"vl_desempenho_usuario\"] > 0.7 and row[\"nr_dias_desde_ultimo_acesso\"] > 60:\n",
        "        return \"Reengajamento\"\n",
        "    elif row[\"vl_desempenho_usuario\"] < 0.3:\n",
        "        return \"Apoio Pedagógico\"\n",
        "    else:\n",
        "        return \"Estável\"\n",
        "\n",
        "df[\"perfil\"] = df.apply(perfil, axis=1)\n"
      ]
    },
    {
      "cell_type": "markdown",
      "id": "HPm0A7i6H5st",
      "metadata": {
        "id": "HPm0A7i6H5st"
      },
      "source": [
        "#### Contagem de Perfis\n",
        "\n",
        "Finalizamos com a contagem de alunos em cada perfil. Isso nos ajuda a:\n",
        "\n",
        "- Visualizar a distribuição de risco na base de dados\n",
        "- Compreender o tamanho de cada grupo e onde priorizar intervenções\n",
        "\n",
        "Essa segmentação é essencial tanto para análise quanto para futuras estratégias de reengajamento ou previsão automatizada da evasão."
      ]
    },
    {
      "cell_type": "code",
      "execution_count": null,
      "id": "h6rx3qWoH7IK",
      "metadata": {
        "colab": {
          "base_uri": "https://localhost:8080/",
          "height": 175
        },
        "id": "h6rx3qWoH7IK",
        "outputId": "244c30f3-1570-48d2-e270-116ea95974f9"
      },
      "outputs": [],
      "source": [
        "# Contar a quantidade de alunos em cada perfil\n",
        "df[\"perfil\"].value_counts().reset_index().rename(columns={\"index\": \"perfil\", \"perfil\": \"quantidade\"})\n"
      ]
    },
    {
      "cell_type": "markdown",
      "id": "oGg3NTk8SJSF",
      "metadata": {
        "id": "oGg3NTk8SJSF"
      },
      "source": [
        "### Pré-Processamento dos Dados para Modelagem"
      ]
    },
    {
      "cell_type": "markdown",
      "id": "oFWYcCAUToy0",
      "metadata": {
        "id": "oFWYcCAUToy0"
      },
      "source": [
        "**Seleção de Atributos**: removemos variáveis que não serão usadas como entrada no modelo, como:\n",
        "   - `evadiu` (alvo da predição)\n",
        "   - `perfil` (já é um agrupamento explicativo derivado das features)\n",
        "   - `ds_cidade_usuario` (categórica não transformada)"
      ]
    },
    {
      "cell_type": "code",
      "execution_count": null,
      "id": "GSCMUjuwTzqK",
      "metadata": {
        "id": "GSCMUjuwTzqK"
      },
      "outputs": [],
      "source": [
        "y = df[\"evadiu\"]"
      ]
    },
    {
      "cell_type": "code",
      "execution_count": null,
      "id": "8yiB1YiLRq3Z",
      "metadata": {
        "id": "8yiB1YiLRq3Z"
      },
      "outputs": [],
      "source": [
        "X = df.drop(columns=[\"evadiu\", \"perfil\", \"ds_cidade_usuario\"], errors=\"ignore\")"
      ]
    },
    {
      "cell_type": "markdown",
      "id": "Mz0CEd8pXgHq",
      "metadata": {
        "id": "Mz0CEd8pXgHq"
      },
      "source": [
        "**Exclusão de colunas do tipo `datetime64`:**\n",
        "   - Modelos de ML não entendem datas diretamente.\n",
        "   - Em vez disso, já transformamos essas colunas em atributos úteis como `nr_dias_desde_ultimo_acesso`."
      ]
    },
    {
      "cell_type": "code",
      "execution_count": null,
      "id": "RfwtVVlQW7fC",
      "metadata": {
        "id": "RfwtVVlQW7fC"
      },
      "outputs": [],
      "source": [
        "X = X.select_dtypes(exclude=[\"datetime64[ns]\"])"
      ]
    },
    {
      "cell_type": "markdown",
      "id": "Px_P44u1Ts5N",
      "metadata": {
        "id": "Px_P44u1Ts5N"
      },
      "source": [
        "**Escalonamento de Variáveis Numéricas**: usamos `MinMaxScaler` para normalizar todas as variáveis entre 0 e 1. Isso é especialmente importante para algoritmos como redes neurais, que são sensíveis à escala dos dados."
      ]
    },
    {
      "cell_type": "code",
      "execution_count": null,
      "id": "sLThZ7DuTu_9",
      "metadata": {
        "id": "sLThZ7DuTu_9"
      },
      "outputs": [],
      "source": [
        "from sklearn.preprocessing import MinMaxScaler\n",
        "\n",
        "scaler = MinMaxScaler()\n",
        "X_scaled = pd.DataFrame(scaler.fit_transform(X), columns=X.columns)"
      ]
    },
    {
      "cell_type": "markdown",
      "id": "X0tEHp03T9Ed",
      "metadata": {
        "id": "X0tEHp03T9Ed"
      },
      "source": [
        "**Separação dos Conjuntos de Treino e Teste**: dividimos os dados em 80% para treino e 20% para teste, garantindo que a proporção de evasores e não evasores seja mantida (com `stratify`)."
      ]
    },
    {
      "cell_type": "code",
      "execution_count": null,
      "id": "twwX-rnkRsMG",
      "metadata": {
        "id": "twwX-rnkRsMG"
      },
      "outputs": [],
      "source": [
        "from sklearn.model_selection import train_test_split\n",
        "\n",
        "X_train, X_test, y_train, y_test = train_test_split(\n",
        "    X_scaled, y, test_size=0.2, random_state=42, stratify=y\n",
        ")"
      ]
    },
    {
      "cell_type": "markdown",
      "id": "9LrVlHWbUD7U",
      "metadata": {
        "id": "9LrVlHWbUD7U"
      },
      "source": [
        "**Verificação de Balanceamento**: imprimimos a distribuição das classes (evadiu = 0 ou 1) no conjunto de treino, o que ajuda a identificar se técnicas adicionais de balanceamento serão necessárias no modelo."
      ]
    },
    {
      "cell_type": "code",
      "execution_count": null,
      "id": "5sTzjaLSUFeJ",
      "metadata": {
        "colab": {
          "base_uri": "https://localhost:8080/"
        },
        "id": "5sTzjaLSUFeJ",
        "outputId": "457f29e5-0281-482e-df3c-00648628d456"
      },
      "outputs": [],
      "source": [
        "unique, counts = np.unique(y_train, return_counts=True)\n",
        "print(\"Distribuição de 'evadiu' no treino:\", dict(zip(unique, counts)))"
      ]
    },
    {
      "cell_type": "markdown",
      "id": "7f29c2f6",
      "metadata": {},
      "source": [
        "# ANALISAR A PARTIR DAQUI"
      ]
    },
    {
      "cell_type": "markdown",
      "id": "ef41bf04",
      "metadata": {},
      "source": [
        "### SEÇÃO: Preparação Final dos Dados\n",
        "---\n"
      ]
    },
    {
      "cell_type": "code",
      "execution_count": null,
      "id": "4e434e7c",
      "metadata": {},
      "outputs": [],
      "source": [
        "\n",
        "from sklearn.model_selection import train_test_split\n",
        "from sklearn.preprocessing import StandardScaler\n",
        "from sklearn.preprocessing import LabelEncoder  # ou OneHotEncoder conforme necessário\n",
        "\n",
        "# Seleciona as features (X) e o target (y)\n",
        "# Substitua 'nome_da_coluna_target' pela sua variável de evasão\n",
        "X = df.drop('nome_da_coluna_target', axis=1)\n",
        "y = df['nome_da_coluna_target']\n",
        "\n",
        "# Aplicar encoding nas variáveis categóricas se necessário\n",
        "# Exemplo com LabelEncoder:\n",
        "# for col in X.select_dtypes(include='object').columns:\n",
        "#     X[col] = LabelEncoder().fit_transform(X[col])\n",
        "\n",
        "# Escalonamento das variáveis numéricas\n",
        "scaler = StandardScaler()\n",
        "X_scaled = scaler.fit_transform(X)\n",
        "\n",
        "# Separação entre treino e validação\n",
        "X_train, X_val, y_train, y_val = train_test_split(X_scaled, y, test_size=0.2, random_state=42)\n"
      ]
    },
    {
      "cell_type": "markdown",
      "id": "9ba1224b",
      "metadata": {},
      "source": [
        "### SEÇÃO: Modelos de Machine Learning Tradicionais\n"
      ]
    },
    {
      "cell_type": "code",
      "execution_count": null,
      "id": "fa9eb068",
      "metadata": {},
      "outputs": [],
      "source": [
        "from sklearn.linear_model import LogisticRegression\n",
        "from sklearn.ensemble import RandomForestClassifier\n",
        "from sklearn.metrics import classification_report, confusion_matrix\n",
        "\n",
        "# Exemplo com Random Forest\n",
        "rf = RandomForestClassifier(random_state=42)\n",
        "rf.fit(X_train, y_train)\n",
        "y_pred_rf = rf.predict(X_val)\n",
        "\n",
        "print(\"Random Forest:\")\n",
        "print(classification_report(y_val, y_pred_rf))\n",
        "print(confusion_matrix(y_val, y_pred_rf))"
      ]
    },
    {
      "cell_type": "markdown",
      "id": "0917234a",
      "metadata": {},
      "source": [
        "### SEÇÃO: Modelo de Rede Neural com Keras\n"
      ]
    },
    {
      "cell_type": "code",
      "execution_count": null,
      "id": "dc71ba46",
      "metadata": {},
      "outputs": [],
      "source": [
        "from keras.models import Sequential\n",
        "from keras.layers import Dense, Dropout\n",
        "from keras.optimizers import Adam\n",
        "\n",
        "# Definição da rede neural\n",
        "model = Sequential()\n",
        "model.add(Dense(64, activation='relu', input_shape=(X_train.shape[1],)))\n",
        "model.add(Dropout(0.3))\n",
        "model.add(Dense(32, activation='relu'))\n",
        "model.add(Dropout(0.2))\n",
        "model.add(Dense(1, activation='sigmoid'))  # Saída binária\n",
        "\n",
        "model.compile(optimizer=Adam(learning_rate=0.001), loss='binary_crossentropy', metrics=['accuracy'])\n",
        "\n",
        "# Treinamento\n",
        "history = model.fit(X_train, y_train, epochs=50, batch_size=32, validation_data=(X_val, y_val))\n",
        "\n",
        "# Avaliação\n",
        "loss, accuracy = model.evaluate(X_val, y_val)\n",
        "print(f\"Acurácia na validação: {accuracy:.2f}\")"
      ]
    },
    {
      "cell_type": "markdown",
      "id": "0c936e6b",
      "metadata": {},
      "source": [
        "### SEÇÃO: Visualização das Métricas da Rede Neural\n"
      ]
    },
    {
      "cell_type": "code",
      "execution_count": null,
      "id": "5e1c37e4",
      "metadata": {},
      "outputs": [],
      "source": [
        "import matplotlib.pyplot as plt\n",
        "\n",
        "# Plotando a acurácia e perda durante o treinamento\n",
        "plt.plot(history.history['accuracy'], label='Acurácia - Treino')\n",
        "plt.plot(history.history['val_accuracy'], label='Acurácia - Validação')\n",
        "plt.xlabel('Épocas')\n",
        "plt.ylabel('Acurácia')\n",
        "plt.legend()\n",
        "plt.title('Evolução da Acurácia')\n",
        "plt.show()"
      ]
    },
    {
      "cell_type": "markdown",
      "id": "e376b5cb",
      "metadata": {},
      "source": [
        "### SEÇÃO: Teste com Conjunto de Teste Final\n"
      ]
    },
    {
      "cell_type": "code",
      "execution_count": null,
      "id": "37001bc2",
      "metadata": {},
      "outputs": [],
      "source": [
        "# Carregue e processe o dataset de teste da mesma forma que o de treino\n",
        "# X_test = ...\n",
        "\n",
        "# Certifique-se de aplicar o mesmo scaler e transformações:\n",
        "# X_test_scaled = scaler.transform(X_test)\n",
        "\n",
        "# y_pred_final = model.predict(X_test_scaled)"
      ]
    },
    {
      "cell_type": "markdown",
      "id": "0c145d8c",
      "metadata": {},
      "source": [
        "### SEÇÃO: Explicabilidade com SHAP\n"
      ]
    },
    {
      "cell_type": "code",
      "execution_count": null,
      "id": "3e3aefb9",
      "metadata": {},
      "outputs": [],
      "source": [
        "import shap\n",
        "\n",
        "# Para modelos do scikit-learn:\n",
        "explainer = shap.Explainer(rf, X_train)\n",
        "shap_values = explainer(X_val)\n",
        "\n",
        "shap.summary_plot(shap_values, X_val)"
      ]
    },
    {
      "cell_type": "markdown",
      "id": "6951f412",
      "metadata": {},
      "source": [
        "### SEÇÃO: Exportação para Produção\n"
      ]
    },
    {
      "cell_type": "code",
      "execution_count": null,
      "id": "322333f0",
      "metadata": {},
      "outputs": [],
      "source": [
        "import joblib\n",
        "\n",
        "# Salvar o modelo de ML tradicional\n",
        "joblib.dump(rf, 'modelo_random_forest.pkl')\n",
        "\n",
        "# Para salvar o modelo Keras:\n",
        "model.save('modelo_rede_neural.h5')\n",
        "\n",
        "# Salvar o scaler\n",
        "joblib.dump(scaler, 'scaler.pkl')"
      ]
    }
  ],
  "metadata": {
    "colab": {
      "provenance": []
    },
    "kernelspec": {
      "display_name": "base",
      "language": "python",
      "name": "python3"
    },
    "language_info": {
      "codemirror_mode": {
        "name": "ipython",
        "version": 3
      },
      "file_extension": ".py",
      "mimetype": "text/x-python",
      "name": "python",
      "nbconvert_exporter": "python",
      "pygments_lexer": "ipython3",
      "version": "3.12.7"
    }
  },
  "nbformat": 4,
  "nbformat_minor": 5
}
